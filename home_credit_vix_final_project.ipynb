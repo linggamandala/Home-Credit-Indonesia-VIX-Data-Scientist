{
  "cells": [
    {
      "cell_type": "markdown",
      "source": [
        "# **Pendahuluan**"
      ],
      "metadata": {
        "id": "sfnQjvQg9ScE"
      },
      "id": "sfnQjvQg9ScE"
    },
    {
      "cell_type": "markdown",
      "source": [
        "PT Home Credit Indonesia merupakan perusahaan pembiayaan berbasis teknologi dengan jangkauan mitra toko yang luas di lebih dari 200 kota di Indonesia. Telah beroperasi sejak 2013, Home Credit kini berkembang menjadi mitra finansial terpercaya bagi jutaan pelanggan kami. Kami turut mendorong keterbukaan akses terhadap layanan keuangan yang transparan dengan proses cepat dan mampu membantu masyarakat dalam memenuhi kebutuhan mereka secara terencana termasuk mengelola keuangan dan cicilan mereka dengan baik."
      ],
      "metadata": {
        "id": "0jGO7sn79VZX"
      },
      "id": "0jGO7sn79VZX"
    },
    {
      "cell_type": "markdown",
      "source": [
        "Home Credit saat ini sedang menggunakan berbagai macam metode statistik dan Machine Learning untuk membuat prediksi skor kredit. Dengan memastikan pelanggan yang mampu melakukan pelunasan tidak ditolak ketika melakukan pengajuan pinjaman, dan pinjaman datap diberikan dengan principal, maturity, dan repayment calendar yang akan memotivasi pelanggan untuk sukses. Evaluasi akan dilakukan dengan mengecek seberapa dalam pemahaman analisa yang akan dikerjakan. Untuk lebih lanjut, berikut akan disajikan tahapan analisa datanya."
      ],
      "metadata": {
        "id": "NHlunU2fucX9"
      },
      "id": "NHlunU2fucX9"
    },
    {
      "cell_type": "markdown",
      "source": [
        "#**Import Library**"
      ],
      "metadata": {
        "id": "O3boCXGf1-Vk"
      },
      "id": "O3boCXGf1-Vk"
    },
    {
      "cell_type": "markdown",
      "source": [
        "Hal yang pertama dilakukan mengimport library"
      ],
      "metadata": {
        "id": "32DS_MRRvOXC"
      },
      "id": "32DS_MRRvOXC"
    },
    {
      "cell_type": "code",
      "execution_count": 1,
      "id": "a5a3dc06",
      "metadata": {
        "id": "a5a3dc06",
        "colab": {
          "base_uri": "https://localhost:8080/"
        },
        "outputId": "2f195cdb-8cc0-4714-9d9e-3701f4976eac"
      },
      "outputs": [
        {
          "output_type": "stream",
          "name": "stdout",
          "text": [
            "Mounted at /content/drive\n"
          ]
        }
      ],
      "source": [
        "#Import libraries\n",
        "import pandas as pd\n",
        "import numpy as np\n",
        "import matplotlib.pyplot as plt\n",
        "import seaborn as sns\n",
        "from google.colab import drive\n",
        "\n",
        "#SKLearn Libraries\n",
        "from sklearn.preprocessing import LabelEncoder, PolynomialFeatures, StandardScaler, OneHotEncoder, MinMaxScaler\n",
        "from sklearn.impute import SimpleImputer\n",
        "from sklearn.linear_model import LogisticRegression\n",
        "from sklearn.ensemble import RandomForestClassifier\n",
        "\n",
        "#from sklearn.model_selection import train_test_split, cross_val_score\n",
        "#from sklearn.pipeline import Pipeline\n",
        "#from sklearn.neighbors import KNeighborsClassifier\n",
        "#from sklearn.metrics import roc_auc_score, ConfusionMatrixDisplay, confusion_matrix, accuracy_score\n",
        "\n",
        "\n",
        "#Google Drive Mount\n",
        "drive.mount('/content/drive')"
      ]
    },
    {
      "cell_type": "markdown",
      "source": [
        "#**Load Dataset**"
      ],
      "metadata": {
        "id": "GyzEhrJ814c5"
      },
      "id": "GyzEhrJ814c5"
    },
    {
      "cell_type": "markdown",
      "source": [
        "Dataset yang ingin akan digunakan yaitu application_train dan application_test. Berikut load datasetnya."
      ],
      "metadata": {
        "id": "tOxP95uvMVWs"
      },
      "id": "tOxP95uvMVWs"
    },
    {
      "cell_type": "code",
      "source": [
        "appl_train = pd.read_csv('/content/drive/MyDrive/Project/Bootcamp/Rakamin/VIX Home Credit Indonesia/Final Project/dataset/application_train.csv')\n",
        "appl_test = pd.read_csv('/content/drive/MyDrive/Project/Bootcamp/Rakamin/VIX Home Credit Indonesia/Final Project/dataset/application_test.csv')\n",
        "print('appl_train mempunyai baris = {}'.format(appl_train.shape[0]), 'dan kolom = {}'.format(appl_train.shape[1]))\n",
        "print('appl_test mempunyai baris = {}'.format(appl_test.shape[0]), 'dan kolom = {}'.format(appl_test.shape[1]))"
      ],
      "metadata": {
        "id": "ClR-cxKMo6vI",
        "colab": {
          "base_uri": "https://localhost:8080/"
        },
        "outputId": "05014ce5-e403-44a6-eb87-5f90631e0e58"
      },
      "id": "ClR-cxKMo6vI",
      "execution_count": 2,
      "outputs": [
        {
          "output_type": "stream",
          "name": "stdout",
          "text": [
            "appl_train mempunyai baris = 307511 dan kolom = 122\n",
            "appl_test mempunyai baris = 48744 dan kolom = 121\n"
          ]
        }
      ]
    },
    {
      "cell_type": "markdown",
      "source": [
        "Setelah load dataset, selanjutnya adalah melakukan Exploratory Data Analysis."
      ],
      "metadata": {
        "id": "5IZvgCmuqLh_"
      },
      "id": "5IZvgCmuqLh_"
    },
    {
      "cell_type": "markdown",
      "source": [
        "#**Exploratory Data Analysis (EDA)**"
      ],
      "metadata": {
        "id": "LRInotAm8JYu"
      },
      "id": "LRInotAm8JYu"
    },
    {
      "cell_type": "markdown",
      "source": [
        "Tahapan di bawah ini untuk mengeksplor dataset yang sudah diload"
      ],
      "metadata": {
        "id": "la03zAJzqWaA"
      },
      "id": "la03zAJzqWaA"
    },
    {
      "cell_type": "markdown",
      "source": [
        "## Melihat Dataset application_train"
      ],
      "metadata": {
        "id": "3DryucCqIPck"
      },
      "id": "3DryucCqIPck"
    },
    {
      "cell_type": "markdown",
      "source": [
        "Untuk melakukan EDA, hal yang pertama dilakukan adalah melihat dataset pada head()"
      ],
      "metadata": {
        "id": "ecK8izZrTSsg"
      },
      "id": "ecK8izZrTSsg"
    },
    {
      "cell_type": "code",
      "source": [
        "appl_train.head()"
      ],
      "metadata": {
        "colab": {
          "base_uri": "https://localhost:8080/",
          "height": 0
        },
        "id": "k-8vkw5NAlBv",
        "outputId": "367dd681-21a1-4716-cda5-d9c0c648fe15"
      },
      "id": "k-8vkw5NAlBv",
      "execution_count": 3,
      "outputs": [
        {
          "output_type": "execute_result",
          "data": {
            "text/plain": [
              "   SK_ID_CURR  TARGET NAME_CONTRACT_TYPE CODE_GENDER FLAG_OWN_CAR  \\\n",
              "0      100002       1         Cash loans           M            N   \n",
              "1      100003       0         Cash loans           F            N   \n",
              "2      100004       0    Revolving loans           M            Y   \n",
              "3      100006       0         Cash loans           F            N   \n",
              "4      100007       0         Cash loans           M            N   \n",
              "\n",
              "  FLAG_OWN_REALTY  CNT_CHILDREN  AMT_INCOME_TOTAL  AMT_CREDIT  AMT_ANNUITY  \\\n",
              "0               Y             0          202500.0    406597.5      24700.5   \n",
              "1               N             0          270000.0   1293502.5      35698.5   \n",
              "2               Y             0           67500.0    135000.0       6750.0   \n",
              "3               Y             0          135000.0    312682.5      29686.5   \n",
              "4               Y             0          121500.0    513000.0      21865.5   \n",
              "\n",
              "   ...  FLAG_DOCUMENT_18 FLAG_DOCUMENT_19 FLAG_DOCUMENT_20 FLAG_DOCUMENT_21  \\\n",
              "0  ...                 0                0                0                0   \n",
              "1  ...                 0                0                0                0   \n",
              "2  ...                 0                0                0                0   \n",
              "3  ...                 0                0                0                0   \n",
              "4  ...                 0                0                0                0   \n",
              "\n",
              "  AMT_REQ_CREDIT_BUREAU_HOUR AMT_REQ_CREDIT_BUREAU_DAY  \\\n",
              "0                        0.0                       0.0   \n",
              "1                        0.0                       0.0   \n",
              "2                        0.0                       0.0   \n",
              "3                        NaN                       NaN   \n",
              "4                        0.0                       0.0   \n",
              "\n",
              "   AMT_REQ_CREDIT_BUREAU_WEEK  AMT_REQ_CREDIT_BUREAU_MON  \\\n",
              "0                         0.0                        0.0   \n",
              "1                         0.0                        0.0   \n",
              "2                         0.0                        0.0   \n",
              "3                         NaN                        NaN   \n",
              "4                         0.0                        0.0   \n",
              "\n",
              "   AMT_REQ_CREDIT_BUREAU_QRT  AMT_REQ_CREDIT_BUREAU_YEAR  \n",
              "0                        0.0                         1.0  \n",
              "1                        0.0                         0.0  \n",
              "2                        0.0                         0.0  \n",
              "3                        NaN                         NaN  \n",
              "4                        0.0                         0.0  \n",
              "\n",
              "[5 rows x 122 columns]"
            ],
            "text/html": [
              "\n",
              "  <div id=\"df-001a64c1-91f4-4af9-87b5-9cbdd943dc1d\">\n",
              "    <div class=\"colab-df-container\">\n",
              "      <div>\n",
              "<style scoped>\n",
              "    .dataframe tbody tr th:only-of-type {\n",
              "        vertical-align: middle;\n",
              "    }\n",
              "\n",
              "    .dataframe tbody tr th {\n",
              "        vertical-align: top;\n",
              "    }\n",
              "\n",
              "    .dataframe thead th {\n",
              "        text-align: right;\n",
              "    }\n",
              "</style>\n",
              "<table border=\"1\" class=\"dataframe\">\n",
              "  <thead>\n",
              "    <tr style=\"text-align: right;\">\n",
              "      <th></th>\n",
              "      <th>SK_ID_CURR</th>\n",
              "      <th>TARGET</th>\n",
              "      <th>NAME_CONTRACT_TYPE</th>\n",
              "      <th>CODE_GENDER</th>\n",
              "      <th>FLAG_OWN_CAR</th>\n",
              "      <th>FLAG_OWN_REALTY</th>\n",
              "      <th>CNT_CHILDREN</th>\n",
              "      <th>AMT_INCOME_TOTAL</th>\n",
              "      <th>AMT_CREDIT</th>\n",
              "      <th>AMT_ANNUITY</th>\n",
              "      <th>...</th>\n",
              "      <th>FLAG_DOCUMENT_18</th>\n",
              "      <th>FLAG_DOCUMENT_19</th>\n",
              "      <th>FLAG_DOCUMENT_20</th>\n",
              "      <th>FLAG_DOCUMENT_21</th>\n",
              "      <th>AMT_REQ_CREDIT_BUREAU_HOUR</th>\n",
              "      <th>AMT_REQ_CREDIT_BUREAU_DAY</th>\n",
              "      <th>AMT_REQ_CREDIT_BUREAU_WEEK</th>\n",
              "      <th>AMT_REQ_CREDIT_BUREAU_MON</th>\n",
              "      <th>AMT_REQ_CREDIT_BUREAU_QRT</th>\n",
              "      <th>AMT_REQ_CREDIT_BUREAU_YEAR</th>\n",
              "    </tr>\n",
              "  </thead>\n",
              "  <tbody>\n",
              "    <tr>\n",
              "      <th>0</th>\n",
              "      <td>100002</td>\n",
              "      <td>1</td>\n",
              "      <td>Cash loans</td>\n",
              "      <td>M</td>\n",
              "      <td>N</td>\n",
              "      <td>Y</td>\n",
              "      <td>0</td>\n",
              "      <td>202500.0</td>\n",
              "      <td>406597.5</td>\n",
              "      <td>24700.5</td>\n",
              "      <td>...</td>\n",
              "      <td>0</td>\n",
              "      <td>0</td>\n",
              "      <td>0</td>\n",
              "      <td>0</td>\n",
              "      <td>0.0</td>\n",
              "      <td>0.0</td>\n",
              "      <td>0.0</td>\n",
              "      <td>0.0</td>\n",
              "      <td>0.0</td>\n",
              "      <td>1.0</td>\n",
              "    </tr>\n",
              "    <tr>\n",
              "      <th>1</th>\n",
              "      <td>100003</td>\n",
              "      <td>0</td>\n",
              "      <td>Cash loans</td>\n",
              "      <td>F</td>\n",
              "      <td>N</td>\n",
              "      <td>N</td>\n",
              "      <td>0</td>\n",
              "      <td>270000.0</td>\n",
              "      <td>1293502.5</td>\n",
              "      <td>35698.5</td>\n",
              "      <td>...</td>\n",
              "      <td>0</td>\n",
              "      <td>0</td>\n",
              "      <td>0</td>\n",
              "      <td>0</td>\n",
              "      <td>0.0</td>\n",
              "      <td>0.0</td>\n",
              "      <td>0.0</td>\n",
              "      <td>0.0</td>\n",
              "      <td>0.0</td>\n",
              "      <td>0.0</td>\n",
              "    </tr>\n",
              "    <tr>\n",
              "      <th>2</th>\n",
              "      <td>100004</td>\n",
              "      <td>0</td>\n",
              "      <td>Revolving loans</td>\n",
              "      <td>M</td>\n",
              "      <td>Y</td>\n",
              "      <td>Y</td>\n",
              "      <td>0</td>\n",
              "      <td>67500.0</td>\n",
              "      <td>135000.0</td>\n",
              "      <td>6750.0</td>\n",
              "      <td>...</td>\n",
              "      <td>0</td>\n",
              "      <td>0</td>\n",
              "      <td>0</td>\n",
              "      <td>0</td>\n",
              "      <td>0.0</td>\n",
              "      <td>0.0</td>\n",
              "      <td>0.0</td>\n",
              "      <td>0.0</td>\n",
              "      <td>0.0</td>\n",
              "      <td>0.0</td>\n",
              "    </tr>\n",
              "    <tr>\n",
              "      <th>3</th>\n",
              "      <td>100006</td>\n",
              "      <td>0</td>\n",
              "      <td>Cash loans</td>\n",
              "      <td>F</td>\n",
              "      <td>N</td>\n",
              "      <td>Y</td>\n",
              "      <td>0</td>\n",
              "      <td>135000.0</td>\n",
              "      <td>312682.5</td>\n",
              "      <td>29686.5</td>\n",
              "      <td>...</td>\n",
              "      <td>0</td>\n",
              "      <td>0</td>\n",
              "      <td>0</td>\n",
              "      <td>0</td>\n",
              "      <td>NaN</td>\n",
              "      <td>NaN</td>\n",
              "      <td>NaN</td>\n",
              "      <td>NaN</td>\n",
              "      <td>NaN</td>\n",
              "      <td>NaN</td>\n",
              "    </tr>\n",
              "    <tr>\n",
              "      <th>4</th>\n",
              "      <td>100007</td>\n",
              "      <td>0</td>\n",
              "      <td>Cash loans</td>\n",
              "      <td>M</td>\n",
              "      <td>N</td>\n",
              "      <td>Y</td>\n",
              "      <td>0</td>\n",
              "      <td>121500.0</td>\n",
              "      <td>513000.0</td>\n",
              "      <td>21865.5</td>\n",
              "      <td>...</td>\n",
              "      <td>0</td>\n",
              "      <td>0</td>\n",
              "      <td>0</td>\n",
              "      <td>0</td>\n",
              "      <td>0.0</td>\n",
              "      <td>0.0</td>\n",
              "      <td>0.0</td>\n",
              "      <td>0.0</td>\n",
              "      <td>0.0</td>\n",
              "      <td>0.0</td>\n",
              "    </tr>\n",
              "  </tbody>\n",
              "</table>\n",
              "<p>5 rows × 122 columns</p>\n",
              "</div>\n",
              "      <button class=\"colab-df-convert\" onclick=\"convertToInteractive('df-001a64c1-91f4-4af9-87b5-9cbdd943dc1d')\"\n",
              "              title=\"Convert this dataframe to an interactive table.\"\n",
              "              style=\"display:none;\">\n",
              "        \n",
              "  <svg xmlns=\"http://www.w3.org/2000/svg\" height=\"24px\"viewBox=\"0 0 24 24\"\n",
              "       width=\"24px\">\n",
              "    <path d=\"M0 0h24v24H0V0z\" fill=\"none\"/>\n",
              "    <path d=\"M18.56 5.44l.94 2.06.94-2.06 2.06-.94-2.06-.94-.94-2.06-.94 2.06-2.06.94zm-11 1L8.5 8.5l.94-2.06 2.06-.94-2.06-.94L8.5 2.5l-.94 2.06-2.06.94zm10 10l.94 2.06.94-2.06 2.06-.94-2.06-.94-.94-2.06-.94 2.06-2.06.94z\"/><path d=\"M17.41 7.96l-1.37-1.37c-.4-.4-.92-.59-1.43-.59-.52 0-1.04.2-1.43.59L10.3 9.45l-7.72 7.72c-.78.78-.78 2.05 0 2.83L4 21.41c.39.39.9.59 1.41.59.51 0 1.02-.2 1.41-.59l7.78-7.78 2.81-2.81c.8-.78.8-2.07 0-2.86zM5.41 20L4 18.59l7.72-7.72 1.47 1.35L5.41 20z\"/>\n",
              "  </svg>\n",
              "      </button>\n",
              "      \n",
              "  <style>\n",
              "    .colab-df-container {\n",
              "      display:flex;\n",
              "      flex-wrap:wrap;\n",
              "      gap: 12px;\n",
              "    }\n",
              "\n",
              "    .colab-df-convert {\n",
              "      background-color: #E8F0FE;\n",
              "      border: none;\n",
              "      border-radius: 50%;\n",
              "      cursor: pointer;\n",
              "      display: none;\n",
              "      fill: #1967D2;\n",
              "      height: 32px;\n",
              "      padding: 0 0 0 0;\n",
              "      width: 32px;\n",
              "    }\n",
              "\n",
              "    .colab-df-convert:hover {\n",
              "      background-color: #E2EBFA;\n",
              "      box-shadow: 0px 1px 2px rgba(60, 64, 67, 0.3), 0px 1px 3px 1px rgba(60, 64, 67, 0.15);\n",
              "      fill: #174EA6;\n",
              "    }\n",
              "\n",
              "    [theme=dark] .colab-df-convert {\n",
              "      background-color: #3B4455;\n",
              "      fill: #D2E3FC;\n",
              "    }\n",
              "\n",
              "    [theme=dark] .colab-df-convert:hover {\n",
              "      background-color: #434B5C;\n",
              "      box-shadow: 0px 1px 3px 1px rgba(0, 0, 0, 0.15);\n",
              "      filter: drop-shadow(0px 1px 2px rgba(0, 0, 0, 0.3));\n",
              "      fill: #FFFFFF;\n",
              "    }\n",
              "  </style>\n",
              "\n",
              "      <script>\n",
              "        const buttonEl =\n",
              "          document.querySelector('#df-001a64c1-91f4-4af9-87b5-9cbdd943dc1d button.colab-df-convert');\n",
              "        buttonEl.style.display =\n",
              "          google.colab.kernel.accessAllowed ? 'block' : 'none';\n",
              "\n",
              "        async function convertToInteractive(key) {\n",
              "          const element = document.querySelector('#df-001a64c1-91f4-4af9-87b5-9cbdd943dc1d');\n",
              "          const dataTable =\n",
              "            await google.colab.kernel.invokeFunction('convertToInteractive',\n",
              "                                                     [key], {});\n",
              "          if (!dataTable) return;\n",
              "\n",
              "          const docLinkHtml = 'Like what you see? Visit the ' +\n",
              "            '<a target=\"_blank\" href=https://colab.research.google.com/notebooks/data_table.ipynb>data table notebook</a>'\n",
              "            + ' to learn more about interactive tables.';\n",
              "          element.innerHTML = '';\n",
              "          dataTable['output_type'] = 'display_data';\n",
              "          await google.colab.output.renderOutput(dataTable, element);\n",
              "          const docLink = document.createElement('div');\n",
              "          docLink.innerHTML = docLinkHtml;\n",
              "          element.appendChild(docLink);\n",
              "        }\n",
              "      </script>\n",
              "    </div>\n",
              "  </div>\n",
              "  "
            ]
          },
          "metadata": {},
          "execution_count": 3
        }
      ]
    },
    {
      "cell_type": "markdown",
      "source": [
        "Karena banyaknya kolom pada appl_train, maka akan pembagian kolom yang dijumlahkan berdasarkan tipe data."
      ],
      "metadata": {
        "id": "bj1Fv1xD7Qf0"
      },
      "id": "bj1Fv1xD7Qf0"
    },
    {
      "cell_type": "code",
      "source": [
        "appl_train.dtypes.value_counts()"
      ],
      "metadata": {
        "colab": {
          "base_uri": "https://localhost:8080/"
        },
        "id": "tO52h_4zAyAu",
        "outputId": "1fd8c2bf-04f9-4cb9-c514-a9f6334ffd74"
      },
      "id": "tO52h_4zAyAu",
      "execution_count": 4,
      "outputs": [
        {
          "output_type": "execute_result",
          "data": {
            "text/plain": [
              "float64    65\n",
              "int64      41\n",
              "object     16\n",
              "dtype: int64"
            ]
          },
          "metadata": {},
          "execution_count": 4
        }
      ]
    },
    {
      "cell_type": "markdown",
      "source": [
        "Untuk mencari kolom yang mengandung objek, maka digunakan filter tipe data object dan dijabarkan apa saja yang ada di kolom tersebut."
      ],
      "metadata": {
        "id": "UoXAKQtK7pb2"
      },
      "id": "UoXAKQtK7pb2"
    },
    {
      "cell_type": "code",
      "source": [
        "appl_train.select_dtypes('object').apply(pd.Series.nunique)"
      ],
      "metadata": {
        "colab": {
          "base_uri": "https://localhost:8080/"
        },
        "id": "eQtSzFxmA2v6",
        "outputId": "9980656f-9ae9-401f-804a-ce9f1bdf6b56"
      },
      "id": "eQtSzFxmA2v6",
      "execution_count": 5,
      "outputs": [
        {
          "output_type": "execute_result",
          "data": {
            "text/plain": [
              "NAME_CONTRACT_TYPE             2\n",
              "CODE_GENDER                    3\n",
              "FLAG_OWN_CAR                   2\n",
              "FLAG_OWN_REALTY                2\n",
              "NAME_TYPE_SUITE                7\n",
              "NAME_INCOME_TYPE               8\n",
              "NAME_EDUCATION_TYPE            5\n",
              "NAME_FAMILY_STATUS             6\n",
              "NAME_HOUSING_TYPE              6\n",
              "OCCUPATION_TYPE               18\n",
              "WEEKDAY_APPR_PROCESS_START     7\n",
              "ORGANIZATION_TYPE             58\n",
              "FONDKAPREMONT_MODE             4\n",
              "HOUSETYPE_MODE                 3\n",
              "WALLSMATERIAL_MODE             7\n",
              "EMERGENCYSTATE_MODE            2\n",
              "dtype: int64"
            ]
          },
          "metadata": {},
          "execution_count": 5
        }
      ]
    },
    {
      "cell_type": "markdown",
      "source": [
        "Setelah melihat tipe data objek, selanjutnya adalah membagi tipe data objek dan numerikal dengan value kategorikal dan numerikal untuk melihat statisic summary."
      ],
      "metadata": {
        "id": "ksysis5_78X2"
      },
      "id": "ksysis5_78X2"
    },
    {
      "cell_type": "code",
      "source": [
        "cats = appl_train.select_dtypes(include='object').columns.tolist()\n",
        "nums = appl_train.select_dtypes(exclude='object').columns.tolist()"
      ],
      "metadata": {
        "id": "l5JTKzsNDVD_"
      },
      "id": "l5JTKzsNDVD_",
      "execution_count": 6,
      "outputs": []
    },
    {
      "cell_type": "markdown",
      "source": [],
      "metadata": {
        "id": "A1zE-_9Z-NK1"
      },
      "id": "A1zE-_9Z-NK1"
    },
    {
      "cell_type": "markdown",
      "source": [
        "## Melihat Dataset application_test"
      ],
      "metadata": {
        "id": "JjNccGOr-Op2"
      },
      "id": "JjNccGOr-Op2"
    },
    {
      "cell_type": "code",
      "source": [
        "appl_test.head()"
      ],
      "metadata": {
        "colab": {
          "base_uri": "https://localhost:8080/",
          "height": 0
        },
        "id": "6rC5_IxX-QJL",
        "outputId": "ebd0f329-3395-47a4-9e17-c858d32bb537"
      },
      "id": "6rC5_IxX-QJL",
      "execution_count": 7,
      "outputs": [
        {
          "output_type": "execute_result",
          "data": {
            "text/plain": [
              "   SK_ID_CURR NAME_CONTRACT_TYPE CODE_GENDER FLAG_OWN_CAR FLAG_OWN_REALTY  \\\n",
              "0      100001         Cash loans           F            N               Y   \n",
              "1      100005         Cash loans           M            N               Y   \n",
              "2      100013         Cash loans           M            Y               Y   \n",
              "3      100028         Cash loans           F            N               Y   \n",
              "4      100038         Cash loans           M            Y               N   \n",
              "\n",
              "   CNT_CHILDREN  AMT_INCOME_TOTAL  AMT_CREDIT  AMT_ANNUITY  AMT_GOODS_PRICE  \\\n",
              "0             0          135000.0    568800.0      20560.5         450000.0   \n",
              "1             0           99000.0    222768.0      17370.0         180000.0   \n",
              "2             0          202500.0    663264.0      69777.0         630000.0   \n",
              "3             2          315000.0   1575000.0      49018.5        1575000.0   \n",
              "4             1          180000.0    625500.0      32067.0         625500.0   \n",
              "\n",
              "   ... FLAG_DOCUMENT_18 FLAG_DOCUMENT_19 FLAG_DOCUMENT_20 FLAG_DOCUMENT_21  \\\n",
              "0  ...                0                0                0                0   \n",
              "1  ...                0                0                0                0   \n",
              "2  ...                0                0                0                0   \n",
              "3  ...                0                0                0                0   \n",
              "4  ...                0                0                0                0   \n",
              "\n",
              "  AMT_REQ_CREDIT_BUREAU_HOUR  AMT_REQ_CREDIT_BUREAU_DAY  \\\n",
              "0                        0.0                        0.0   \n",
              "1                        0.0                        0.0   \n",
              "2                        0.0                        0.0   \n",
              "3                        0.0                        0.0   \n",
              "4                        NaN                        NaN   \n",
              "\n",
              "   AMT_REQ_CREDIT_BUREAU_WEEK  AMT_REQ_CREDIT_BUREAU_MON  \\\n",
              "0                         0.0                        0.0   \n",
              "1                         0.0                        0.0   \n",
              "2                         0.0                        0.0   \n",
              "3                         0.0                        0.0   \n",
              "4                         NaN                        NaN   \n",
              "\n",
              "   AMT_REQ_CREDIT_BUREAU_QRT  AMT_REQ_CREDIT_BUREAU_YEAR  \n",
              "0                        0.0                         0.0  \n",
              "1                        0.0                         3.0  \n",
              "2                        1.0                         4.0  \n",
              "3                        0.0                         3.0  \n",
              "4                        NaN                         NaN  \n",
              "\n",
              "[5 rows x 121 columns]"
            ],
            "text/html": [
              "\n",
              "  <div id=\"df-497ff8f6-3afb-4eb5-a636-4d03511c954c\">\n",
              "    <div class=\"colab-df-container\">\n",
              "      <div>\n",
              "<style scoped>\n",
              "    .dataframe tbody tr th:only-of-type {\n",
              "        vertical-align: middle;\n",
              "    }\n",
              "\n",
              "    .dataframe tbody tr th {\n",
              "        vertical-align: top;\n",
              "    }\n",
              "\n",
              "    .dataframe thead th {\n",
              "        text-align: right;\n",
              "    }\n",
              "</style>\n",
              "<table border=\"1\" class=\"dataframe\">\n",
              "  <thead>\n",
              "    <tr style=\"text-align: right;\">\n",
              "      <th></th>\n",
              "      <th>SK_ID_CURR</th>\n",
              "      <th>NAME_CONTRACT_TYPE</th>\n",
              "      <th>CODE_GENDER</th>\n",
              "      <th>FLAG_OWN_CAR</th>\n",
              "      <th>FLAG_OWN_REALTY</th>\n",
              "      <th>CNT_CHILDREN</th>\n",
              "      <th>AMT_INCOME_TOTAL</th>\n",
              "      <th>AMT_CREDIT</th>\n",
              "      <th>AMT_ANNUITY</th>\n",
              "      <th>AMT_GOODS_PRICE</th>\n",
              "      <th>...</th>\n",
              "      <th>FLAG_DOCUMENT_18</th>\n",
              "      <th>FLAG_DOCUMENT_19</th>\n",
              "      <th>FLAG_DOCUMENT_20</th>\n",
              "      <th>FLAG_DOCUMENT_21</th>\n",
              "      <th>AMT_REQ_CREDIT_BUREAU_HOUR</th>\n",
              "      <th>AMT_REQ_CREDIT_BUREAU_DAY</th>\n",
              "      <th>AMT_REQ_CREDIT_BUREAU_WEEK</th>\n",
              "      <th>AMT_REQ_CREDIT_BUREAU_MON</th>\n",
              "      <th>AMT_REQ_CREDIT_BUREAU_QRT</th>\n",
              "      <th>AMT_REQ_CREDIT_BUREAU_YEAR</th>\n",
              "    </tr>\n",
              "  </thead>\n",
              "  <tbody>\n",
              "    <tr>\n",
              "      <th>0</th>\n",
              "      <td>100001</td>\n",
              "      <td>Cash loans</td>\n",
              "      <td>F</td>\n",
              "      <td>N</td>\n",
              "      <td>Y</td>\n",
              "      <td>0</td>\n",
              "      <td>135000.0</td>\n",
              "      <td>568800.0</td>\n",
              "      <td>20560.5</td>\n",
              "      <td>450000.0</td>\n",
              "      <td>...</td>\n",
              "      <td>0</td>\n",
              "      <td>0</td>\n",
              "      <td>0</td>\n",
              "      <td>0</td>\n",
              "      <td>0.0</td>\n",
              "      <td>0.0</td>\n",
              "      <td>0.0</td>\n",
              "      <td>0.0</td>\n",
              "      <td>0.0</td>\n",
              "      <td>0.0</td>\n",
              "    </tr>\n",
              "    <tr>\n",
              "      <th>1</th>\n",
              "      <td>100005</td>\n",
              "      <td>Cash loans</td>\n",
              "      <td>M</td>\n",
              "      <td>N</td>\n",
              "      <td>Y</td>\n",
              "      <td>0</td>\n",
              "      <td>99000.0</td>\n",
              "      <td>222768.0</td>\n",
              "      <td>17370.0</td>\n",
              "      <td>180000.0</td>\n",
              "      <td>...</td>\n",
              "      <td>0</td>\n",
              "      <td>0</td>\n",
              "      <td>0</td>\n",
              "      <td>0</td>\n",
              "      <td>0.0</td>\n",
              "      <td>0.0</td>\n",
              "      <td>0.0</td>\n",
              "      <td>0.0</td>\n",
              "      <td>0.0</td>\n",
              "      <td>3.0</td>\n",
              "    </tr>\n",
              "    <tr>\n",
              "      <th>2</th>\n",
              "      <td>100013</td>\n",
              "      <td>Cash loans</td>\n",
              "      <td>M</td>\n",
              "      <td>Y</td>\n",
              "      <td>Y</td>\n",
              "      <td>0</td>\n",
              "      <td>202500.0</td>\n",
              "      <td>663264.0</td>\n",
              "      <td>69777.0</td>\n",
              "      <td>630000.0</td>\n",
              "      <td>...</td>\n",
              "      <td>0</td>\n",
              "      <td>0</td>\n",
              "      <td>0</td>\n",
              "      <td>0</td>\n",
              "      <td>0.0</td>\n",
              "      <td>0.0</td>\n",
              "      <td>0.0</td>\n",
              "      <td>0.0</td>\n",
              "      <td>1.0</td>\n",
              "      <td>4.0</td>\n",
              "    </tr>\n",
              "    <tr>\n",
              "      <th>3</th>\n",
              "      <td>100028</td>\n",
              "      <td>Cash loans</td>\n",
              "      <td>F</td>\n",
              "      <td>N</td>\n",
              "      <td>Y</td>\n",
              "      <td>2</td>\n",
              "      <td>315000.0</td>\n",
              "      <td>1575000.0</td>\n",
              "      <td>49018.5</td>\n",
              "      <td>1575000.0</td>\n",
              "      <td>...</td>\n",
              "      <td>0</td>\n",
              "      <td>0</td>\n",
              "      <td>0</td>\n",
              "      <td>0</td>\n",
              "      <td>0.0</td>\n",
              "      <td>0.0</td>\n",
              "      <td>0.0</td>\n",
              "      <td>0.0</td>\n",
              "      <td>0.0</td>\n",
              "      <td>3.0</td>\n",
              "    </tr>\n",
              "    <tr>\n",
              "      <th>4</th>\n",
              "      <td>100038</td>\n",
              "      <td>Cash loans</td>\n",
              "      <td>M</td>\n",
              "      <td>Y</td>\n",
              "      <td>N</td>\n",
              "      <td>1</td>\n",
              "      <td>180000.0</td>\n",
              "      <td>625500.0</td>\n",
              "      <td>32067.0</td>\n",
              "      <td>625500.0</td>\n",
              "      <td>...</td>\n",
              "      <td>0</td>\n",
              "      <td>0</td>\n",
              "      <td>0</td>\n",
              "      <td>0</td>\n",
              "      <td>NaN</td>\n",
              "      <td>NaN</td>\n",
              "      <td>NaN</td>\n",
              "      <td>NaN</td>\n",
              "      <td>NaN</td>\n",
              "      <td>NaN</td>\n",
              "    </tr>\n",
              "  </tbody>\n",
              "</table>\n",
              "<p>5 rows × 121 columns</p>\n",
              "</div>\n",
              "      <button class=\"colab-df-convert\" onclick=\"convertToInteractive('df-497ff8f6-3afb-4eb5-a636-4d03511c954c')\"\n",
              "              title=\"Convert this dataframe to an interactive table.\"\n",
              "              style=\"display:none;\">\n",
              "        \n",
              "  <svg xmlns=\"http://www.w3.org/2000/svg\" height=\"24px\"viewBox=\"0 0 24 24\"\n",
              "       width=\"24px\">\n",
              "    <path d=\"M0 0h24v24H0V0z\" fill=\"none\"/>\n",
              "    <path d=\"M18.56 5.44l.94 2.06.94-2.06 2.06-.94-2.06-.94-.94-2.06-.94 2.06-2.06.94zm-11 1L8.5 8.5l.94-2.06 2.06-.94-2.06-.94L8.5 2.5l-.94 2.06-2.06.94zm10 10l.94 2.06.94-2.06 2.06-.94-2.06-.94-.94-2.06-.94 2.06-2.06.94z\"/><path d=\"M17.41 7.96l-1.37-1.37c-.4-.4-.92-.59-1.43-.59-.52 0-1.04.2-1.43.59L10.3 9.45l-7.72 7.72c-.78.78-.78 2.05 0 2.83L4 21.41c.39.39.9.59 1.41.59.51 0 1.02-.2 1.41-.59l7.78-7.78 2.81-2.81c.8-.78.8-2.07 0-2.86zM5.41 20L4 18.59l7.72-7.72 1.47 1.35L5.41 20z\"/>\n",
              "  </svg>\n",
              "      </button>\n",
              "      \n",
              "  <style>\n",
              "    .colab-df-container {\n",
              "      display:flex;\n",
              "      flex-wrap:wrap;\n",
              "      gap: 12px;\n",
              "    }\n",
              "\n",
              "    .colab-df-convert {\n",
              "      background-color: #E8F0FE;\n",
              "      border: none;\n",
              "      border-radius: 50%;\n",
              "      cursor: pointer;\n",
              "      display: none;\n",
              "      fill: #1967D2;\n",
              "      height: 32px;\n",
              "      padding: 0 0 0 0;\n",
              "      width: 32px;\n",
              "    }\n",
              "\n",
              "    .colab-df-convert:hover {\n",
              "      background-color: #E2EBFA;\n",
              "      box-shadow: 0px 1px 2px rgba(60, 64, 67, 0.3), 0px 1px 3px 1px rgba(60, 64, 67, 0.15);\n",
              "      fill: #174EA6;\n",
              "    }\n",
              "\n",
              "    [theme=dark] .colab-df-convert {\n",
              "      background-color: #3B4455;\n",
              "      fill: #D2E3FC;\n",
              "    }\n",
              "\n",
              "    [theme=dark] .colab-df-convert:hover {\n",
              "      background-color: #434B5C;\n",
              "      box-shadow: 0px 1px 3px 1px rgba(0, 0, 0, 0.15);\n",
              "      filter: drop-shadow(0px 1px 2px rgba(0, 0, 0, 0.3));\n",
              "      fill: #FFFFFF;\n",
              "    }\n",
              "  </style>\n",
              "\n",
              "      <script>\n",
              "        const buttonEl =\n",
              "          document.querySelector('#df-497ff8f6-3afb-4eb5-a636-4d03511c954c button.colab-df-convert');\n",
              "        buttonEl.style.display =\n",
              "          google.colab.kernel.accessAllowed ? 'block' : 'none';\n",
              "\n",
              "        async function convertToInteractive(key) {\n",
              "          const element = document.querySelector('#df-497ff8f6-3afb-4eb5-a636-4d03511c954c');\n",
              "          const dataTable =\n",
              "            await google.colab.kernel.invokeFunction('convertToInteractive',\n",
              "                                                     [key], {});\n",
              "          if (!dataTable) return;\n",
              "\n",
              "          const docLinkHtml = 'Like what you see? Visit the ' +\n",
              "            '<a target=\"_blank\" href=https://colab.research.google.com/notebooks/data_table.ipynb>data table notebook</a>'\n",
              "            + ' to learn more about interactive tables.';\n",
              "          element.innerHTML = '';\n",
              "          dataTable['output_type'] = 'display_data';\n",
              "          await google.colab.output.renderOutput(dataTable, element);\n",
              "          const docLink = document.createElement('div');\n",
              "          docLink.innerHTML = docLinkHtml;\n",
              "          element.appendChild(docLink);\n",
              "        }\n",
              "      </script>\n",
              "    </div>\n",
              "  </div>\n",
              "  "
            ]
          },
          "metadata": {},
          "execution_count": 7
        }
      ]
    },
    {
      "cell_type": "code",
      "source": [
        "cats = appl_test.select_dtypes(include='object').columns.tolist()\n",
        "nums = appl_test.select_dtypes(exclude='object').columns.tolist()"
      ],
      "metadata": {
        "id": "TZL98JtZwYvy"
      },
      "id": "TZL98JtZwYvy",
      "execution_count": 8,
      "outputs": []
    },
    {
      "cell_type": "markdown",
      "source": [
        "Sama seperti appl_train, bedanya hanya pada appl_train terdapat TARGET, sedangkan appl_test tidak. Namun appl_test nantinya akan digunakan untuk tes machine learning"
      ],
      "metadata": {
        "id": "RSz6HH3_-YpX"
      },
      "id": "RSz6HH3_-YpX"
    },
    {
      "cell_type": "markdown",
      "source": [
        "## Statistic Summary\n",
        "\n",
        "\n",
        "Mendeskripsikan ringkasan statistik berdasarkan kolom yang sudah dibagi pada kategorikal dan numerikal."
      ],
      "metadata": {
        "id": "1fmYKyRr8MxP"
      },
      "id": "1fmYKyRr8MxP"
    },
    {
      "cell_type": "code",
      "source": [
        "appl_train[cats].describe()"
      ],
      "metadata": {
        "colab": {
          "base_uri": "https://localhost:8080/",
          "height": 0
        },
        "id": "QnDLiaYbEX6m",
        "outputId": "5c95fac9-d8ae-46e9-b6d9-ffa8f5ade038"
      },
      "id": "QnDLiaYbEX6m",
      "execution_count": 9,
      "outputs": [
        {
          "output_type": "execute_result",
          "data": {
            "text/plain": [
              "       NAME_CONTRACT_TYPE CODE_GENDER FLAG_OWN_CAR FLAG_OWN_REALTY  \\\n",
              "count              307511      307511       307511          307511   \n",
              "unique                  2           3            2               2   \n",
              "top            Cash loans           F            N               Y   \n",
              "freq               278232      202448       202924          213312   \n",
              "\n",
              "       NAME_TYPE_SUITE NAME_INCOME_TYPE            NAME_EDUCATION_TYPE  \\\n",
              "count           306219           307511                         307511   \n",
              "unique               7                8                              5   \n",
              "top      Unaccompanied          Working  Secondary / secondary special   \n",
              "freq            248526           158774                         218391   \n",
              "\n",
              "       NAME_FAMILY_STATUS  NAME_HOUSING_TYPE OCCUPATION_TYPE  \\\n",
              "count              307511             307511          211120   \n",
              "unique                  6                  6              18   \n",
              "top               Married  House / apartment        Laborers   \n",
              "freq               196432             272868           55186   \n",
              "\n",
              "       WEEKDAY_APPR_PROCESS_START       ORGANIZATION_TYPE FONDKAPREMONT_MODE  \\\n",
              "count                      307511                  307511              97216   \n",
              "unique                          7                      58                  4   \n",
              "top                       TUESDAY  Business Entity Type 3   reg oper account   \n",
              "freq                        53901                   67992              73830   \n",
              "\n",
              "        HOUSETYPE_MODE WALLSMATERIAL_MODE EMERGENCYSTATE_MODE  \n",
              "count           153214             151170              161756  \n",
              "unique               3                  7                   2  \n",
              "top     block of flats              Panel                  No  \n",
              "freq            150503              66040              159428  "
            ],
            "text/html": [
              "\n",
              "  <div id=\"df-25b2be54-5a38-4f55-84de-27327e32f29e\">\n",
              "    <div class=\"colab-df-container\">\n",
              "      <div>\n",
              "<style scoped>\n",
              "    .dataframe tbody tr th:only-of-type {\n",
              "        vertical-align: middle;\n",
              "    }\n",
              "\n",
              "    .dataframe tbody tr th {\n",
              "        vertical-align: top;\n",
              "    }\n",
              "\n",
              "    .dataframe thead th {\n",
              "        text-align: right;\n",
              "    }\n",
              "</style>\n",
              "<table border=\"1\" class=\"dataframe\">\n",
              "  <thead>\n",
              "    <tr style=\"text-align: right;\">\n",
              "      <th></th>\n",
              "      <th>NAME_CONTRACT_TYPE</th>\n",
              "      <th>CODE_GENDER</th>\n",
              "      <th>FLAG_OWN_CAR</th>\n",
              "      <th>FLAG_OWN_REALTY</th>\n",
              "      <th>NAME_TYPE_SUITE</th>\n",
              "      <th>NAME_INCOME_TYPE</th>\n",
              "      <th>NAME_EDUCATION_TYPE</th>\n",
              "      <th>NAME_FAMILY_STATUS</th>\n",
              "      <th>NAME_HOUSING_TYPE</th>\n",
              "      <th>OCCUPATION_TYPE</th>\n",
              "      <th>WEEKDAY_APPR_PROCESS_START</th>\n",
              "      <th>ORGANIZATION_TYPE</th>\n",
              "      <th>FONDKAPREMONT_MODE</th>\n",
              "      <th>HOUSETYPE_MODE</th>\n",
              "      <th>WALLSMATERIAL_MODE</th>\n",
              "      <th>EMERGENCYSTATE_MODE</th>\n",
              "    </tr>\n",
              "  </thead>\n",
              "  <tbody>\n",
              "    <tr>\n",
              "      <th>count</th>\n",
              "      <td>307511</td>\n",
              "      <td>307511</td>\n",
              "      <td>307511</td>\n",
              "      <td>307511</td>\n",
              "      <td>306219</td>\n",
              "      <td>307511</td>\n",
              "      <td>307511</td>\n",
              "      <td>307511</td>\n",
              "      <td>307511</td>\n",
              "      <td>211120</td>\n",
              "      <td>307511</td>\n",
              "      <td>307511</td>\n",
              "      <td>97216</td>\n",
              "      <td>153214</td>\n",
              "      <td>151170</td>\n",
              "      <td>161756</td>\n",
              "    </tr>\n",
              "    <tr>\n",
              "      <th>unique</th>\n",
              "      <td>2</td>\n",
              "      <td>3</td>\n",
              "      <td>2</td>\n",
              "      <td>2</td>\n",
              "      <td>7</td>\n",
              "      <td>8</td>\n",
              "      <td>5</td>\n",
              "      <td>6</td>\n",
              "      <td>6</td>\n",
              "      <td>18</td>\n",
              "      <td>7</td>\n",
              "      <td>58</td>\n",
              "      <td>4</td>\n",
              "      <td>3</td>\n",
              "      <td>7</td>\n",
              "      <td>2</td>\n",
              "    </tr>\n",
              "    <tr>\n",
              "      <th>top</th>\n",
              "      <td>Cash loans</td>\n",
              "      <td>F</td>\n",
              "      <td>N</td>\n",
              "      <td>Y</td>\n",
              "      <td>Unaccompanied</td>\n",
              "      <td>Working</td>\n",
              "      <td>Secondary / secondary special</td>\n",
              "      <td>Married</td>\n",
              "      <td>House / apartment</td>\n",
              "      <td>Laborers</td>\n",
              "      <td>TUESDAY</td>\n",
              "      <td>Business Entity Type 3</td>\n",
              "      <td>reg oper account</td>\n",
              "      <td>block of flats</td>\n",
              "      <td>Panel</td>\n",
              "      <td>No</td>\n",
              "    </tr>\n",
              "    <tr>\n",
              "      <th>freq</th>\n",
              "      <td>278232</td>\n",
              "      <td>202448</td>\n",
              "      <td>202924</td>\n",
              "      <td>213312</td>\n",
              "      <td>248526</td>\n",
              "      <td>158774</td>\n",
              "      <td>218391</td>\n",
              "      <td>196432</td>\n",
              "      <td>272868</td>\n",
              "      <td>55186</td>\n",
              "      <td>53901</td>\n",
              "      <td>67992</td>\n",
              "      <td>73830</td>\n",
              "      <td>150503</td>\n",
              "      <td>66040</td>\n",
              "      <td>159428</td>\n",
              "    </tr>\n",
              "  </tbody>\n",
              "</table>\n",
              "</div>\n",
              "      <button class=\"colab-df-convert\" onclick=\"convertToInteractive('df-25b2be54-5a38-4f55-84de-27327e32f29e')\"\n",
              "              title=\"Convert this dataframe to an interactive table.\"\n",
              "              style=\"display:none;\">\n",
              "        \n",
              "  <svg xmlns=\"http://www.w3.org/2000/svg\" height=\"24px\"viewBox=\"0 0 24 24\"\n",
              "       width=\"24px\">\n",
              "    <path d=\"M0 0h24v24H0V0z\" fill=\"none\"/>\n",
              "    <path d=\"M18.56 5.44l.94 2.06.94-2.06 2.06-.94-2.06-.94-.94-2.06-.94 2.06-2.06.94zm-11 1L8.5 8.5l.94-2.06 2.06-.94-2.06-.94L8.5 2.5l-.94 2.06-2.06.94zm10 10l.94 2.06.94-2.06 2.06-.94-2.06-.94-.94-2.06-.94 2.06-2.06.94z\"/><path d=\"M17.41 7.96l-1.37-1.37c-.4-.4-.92-.59-1.43-.59-.52 0-1.04.2-1.43.59L10.3 9.45l-7.72 7.72c-.78.78-.78 2.05 0 2.83L4 21.41c.39.39.9.59 1.41.59.51 0 1.02-.2 1.41-.59l7.78-7.78 2.81-2.81c.8-.78.8-2.07 0-2.86zM5.41 20L4 18.59l7.72-7.72 1.47 1.35L5.41 20z\"/>\n",
              "  </svg>\n",
              "      </button>\n",
              "      \n",
              "  <style>\n",
              "    .colab-df-container {\n",
              "      display:flex;\n",
              "      flex-wrap:wrap;\n",
              "      gap: 12px;\n",
              "    }\n",
              "\n",
              "    .colab-df-convert {\n",
              "      background-color: #E8F0FE;\n",
              "      border: none;\n",
              "      border-radius: 50%;\n",
              "      cursor: pointer;\n",
              "      display: none;\n",
              "      fill: #1967D2;\n",
              "      height: 32px;\n",
              "      padding: 0 0 0 0;\n",
              "      width: 32px;\n",
              "    }\n",
              "\n",
              "    .colab-df-convert:hover {\n",
              "      background-color: #E2EBFA;\n",
              "      box-shadow: 0px 1px 2px rgba(60, 64, 67, 0.3), 0px 1px 3px 1px rgba(60, 64, 67, 0.15);\n",
              "      fill: #174EA6;\n",
              "    }\n",
              "\n",
              "    [theme=dark] .colab-df-convert {\n",
              "      background-color: #3B4455;\n",
              "      fill: #D2E3FC;\n",
              "    }\n",
              "\n",
              "    [theme=dark] .colab-df-convert:hover {\n",
              "      background-color: #434B5C;\n",
              "      box-shadow: 0px 1px 3px 1px rgba(0, 0, 0, 0.15);\n",
              "      filter: drop-shadow(0px 1px 2px rgba(0, 0, 0, 0.3));\n",
              "      fill: #FFFFFF;\n",
              "    }\n",
              "  </style>\n",
              "\n",
              "      <script>\n",
              "        const buttonEl =\n",
              "          document.querySelector('#df-25b2be54-5a38-4f55-84de-27327e32f29e button.colab-df-convert');\n",
              "        buttonEl.style.display =\n",
              "          google.colab.kernel.accessAllowed ? 'block' : 'none';\n",
              "\n",
              "        async function convertToInteractive(key) {\n",
              "          const element = document.querySelector('#df-25b2be54-5a38-4f55-84de-27327e32f29e');\n",
              "          const dataTable =\n",
              "            await google.colab.kernel.invokeFunction('convertToInteractive',\n",
              "                                                     [key], {});\n",
              "          if (!dataTable) return;\n",
              "\n",
              "          const docLinkHtml = 'Like what you see? Visit the ' +\n",
              "            '<a target=\"_blank\" href=https://colab.research.google.com/notebooks/data_table.ipynb>data table notebook</a>'\n",
              "            + ' to learn more about interactive tables.';\n",
              "          element.innerHTML = '';\n",
              "          dataTable['output_type'] = 'display_data';\n",
              "          await google.colab.output.renderOutput(dataTable, element);\n",
              "          const docLink = document.createElement('div');\n",
              "          docLink.innerHTML = docLinkHtml;\n",
              "          element.appendChild(docLink);\n",
              "        }\n",
              "      </script>\n",
              "    </div>\n",
              "  </div>\n",
              "  "
            ]
          },
          "metadata": {},
          "execution_count": 9
        }
      ]
    },
    {
      "cell_type": "markdown",
      "source": [
        "Hasil ringkasan untuk kategorikal tidak ada masalah."
      ],
      "metadata": {
        "id": "o6kT-dJpMhPc"
      },
      "id": "o6kT-dJpMhPc"
    },
    {
      "cell_type": "code",
      "source": [
        "appl_train[nums].describe()"
      ],
      "metadata": {
        "colab": {
          "base_uri": "https://localhost:8080/",
          "height": 0
        },
        "id": "wQSgtEZFHemq",
        "outputId": "92a501f4-5f35-4bfd-ade2-b05e4b1fe967"
      },
      "id": "wQSgtEZFHemq",
      "execution_count": 10,
      "outputs": [
        {
          "output_type": "execute_result",
          "data": {
            "text/plain": [
              "          SK_ID_CURR   CNT_CHILDREN  AMT_INCOME_TOTAL    AMT_CREDIT  \\\n",
              "count  307511.000000  307511.000000      3.075110e+05  3.075110e+05   \n",
              "mean   278180.518577       0.417052      1.687979e+05  5.990260e+05   \n",
              "std    102790.175348       0.722121      2.371231e+05  4.024908e+05   \n",
              "min    100002.000000       0.000000      2.565000e+04  4.500000e+04   \n",
              "25%    189145.500000       0.000000      1.125000e+05  2.700000e+05   \n",
              "50%    278202.000000       0.000000      1.471500e+05  5.135310e+05   \n",
              "75%    367142.500000       1.000000      2.025000e+05  8.086500e+05   \n",
              "max    456255.000000      19.000000      1.170000e+08  4.050000e+06   \n",
              "\n",
              "         AMT_ANNUITY  AMT_GOODS_PRICE  REGION_POPULATION_RELATIVE  \\\n",
              "count  307499.000000     3.072330e+05               307511.000000   \n",
              "mean    27108.573909     5.383962e+05                    0.020868   \n",
              "std     14493.737315     3.694465e+05                    0.013831   \n",
              "min      1615.500000     4.050000e+04                    0.000290   \n",
              "25%     16524.000000     2.385000e+05                    0.010006   \n",
              "50%     24903.000000     4.500000e+05                    0.018850   \n",
              "75%     34596.000000     6.795000e+05                    0.028663   \n",
              "max    258025.500000     4.050000e+06                    0.072508   \n",
              "\n",
              "          DAYS_BIRTH  DAYS_EMPLOYED  DAYS_REGISTRATION  ...  FLAG_DOCUMENT_18  \\\n",
              "count  307511.000000  307511.000000      307511.000000  ...     307511.000000   \n",
              "mean   -16036.995067   63815.045904       -4986.120328  ...          0.008130   \n",
              "std      4363.988632  141275.766519        3522.886321  ...          0.089798   \n",
              "min    -25229.000000  -17912.000000      -24672.000000  ...          0.000000   \n",
              "25%    -19682.000000   -2760.000000       -7479.500000  ...          0.000000   \n",
              "50%    -15750.000000   -1213.000000       -4504.000000  ...          0.000000   \n",
              "75%    -12413.000000    -289.000000       -2010.000000  ...          0.000000   \n",
              "max     -7489.000000  365243.000000           0.000000  ...          1.000000   \n",
              "\n",
              "       FLAG_DOCUMENT_19  FLAG_DOCUMENT_20  FLAG_DOCUMENT_21  \\\n",
              "count     307511.000000     307511.000000     307511.000000   \n",
              "mean           0.000595          0.000507          0.000335   \n",
              "std            0.024387          0.022518          0.018299   \n",
              "min            0.000000          0.000000          0.000000   \n",
              "25%            0.000000          0.000000          0.000000   \n",
              "50%            0.000000          0.000000          0.000000   \n",
              "75%            0.000000          0.000000          0.000000   \n",
              "max            1.000000          1.000000          1.000000   \n",
              "\n",
              "       AMT_REQ_CREDIT_BUREAU_HOUR  AMT_REQ_CREDIT_BUREAU_DAY  \\\n",
              "count               265992.000000              265992.000000   \n",
              "mean                     0.006402                   0.007000   \n",
              "std                      0.083849                   0.110757   \n",
              "min                      0.000000                   0.000000   \n",
              "25%                      0.000000                   0.000000   \n",
              "50%                      0.000000                   0.000000   \n",
              "75%                      0.000000                   0.000000   \n",
              "max                      4.000000                   9.000000   \n",
              "\n",
              "       AMT_REQ_CREDIT_BUREAU_WEEK  AMT_REQ_CREDIT_BUREAU_MON  \\\n",
              "count               265992.000000              265992.000000   \n",
              "mean                     0.034362                   0.267395   \n",
              "std                      0.204685                   0.916002   \n",
              "min                      0.000000                   0.000000   \n",
              "25%                      0.000000                   0.000000   \n",
              "50%                      0.000000                   0.000000   \n",
              "75%                      0.000000                   0.000000   \n",
              "max                      8.000000                  27.000000   \n",
              "\n",
              "       AMT_REQ_CREDIT_BUREAU_QRT  AMT_REQ_CREDIT_BUREAU_YEAR  \n",
              "count              265992.000000               265992.000000  \n",
              "mean                    0.265474                    1.899974  \n",
              "std                     0.794056                    1.869295  \n",
              "min                     0.000000                    0.000000  \n",
              "25%                     0.000000                    0.000000  \n",
              "50%                     0.000000                    1.000000  \n",
              "75%                     0.000000                    3.000000  \n",
              "max                   261.000000                   25.000000  \n",
              "\n",
              "[8 rows x 105 columns]"
            ],
            "text/html": [
              "\n",
              "  <div id=\"df-92e7e75f-01e8-4ea8-8a7b-d321cad08276\">\n",
              "    <div class=\"colab-df-container\">\n",
              "      <div>\n",
              "<style scoped>\n",
              "    .dataframe tbody tr th:only-of-type {\n",
              "        vertical-align: middle;\n",
              "    }\n",
              "\n",
              "    .dataframe tbody tr th {\n",
              "        vertical-align: top;\n",
              "    }\n",
              "\n",
              "    .dataframe thead th {\n",
              "        text-align: right;\n",
              "    }\n",
              "</style>\n",
              "<table border=\"1\" class=\"dataframe\">\n",
              "  <thead>\n",
              "    <tr style=\"text-align: right;\">\n",
              "      <th></th>\n",
              "      <th>SK_ID_CURR</th>\n",
              "      <th>CNT_CHILDREN</th>\n",
              "      <th>AMT_INCOME_TOTAL</th>\n",
              "      <th>AMT_CREDIT</th>\n",
              "      <th>AMT_ANNUITY</th>\n",
              "      <th>AMT_GOODS_PRICE</th>\n",
              "      <th>REGION_POPULATION_RELATIVE</th>\n",
              "      <th>DAYS_BIRTH</th>\n",
              "      <th>DAYS_EMPLOYED</th>\n",
              "      <th>DAYS_REGISTRATION</th>\n",
              "      <th>...</th>\n",
              "      <th>FLAG_DOCUMENT_18</th>\n",
              "      <th>FLAG_DOCUMENT_19</th>\n",
              "      <th>FLAG_DOCUMENT_20</th>\n",
              "      <th>FLAG_DOCUMENT_21</th>\n",
              "      <th>AMT_REQ_CREDIT_BUREAU_HOUR</th>\n",
              "      <th>AMT_REQ_CREDIT_BUREAU_DAY</th>\n",
              "      <th>AMT_REQ_CREDIT_BUREAU_WEEK</th>\n",
              "      <th>AMT_REQ_CREDIT_BUREAU_MON</th>\n",
              "      <th>AMT_REQ_CREDIT_BUREAU_QRT</th>\n",
              "      <th>AMT_REQ_CREDIT_BUREAU_YEAR</th>\n",
              "    </tr>\n",
              "  </thead>\n",
              "  <tbody>\n",
              "    <tr>\n",
              "      <th>count</th>\n",
              "      <td>307511.000000</td>\n",
              "      <td>307511.000000</td>\n",
              "      <td>3.075110e+05</td>\n",
              "      <td>3.075110e+05</td>\n",
              "      <td>307499.000000</td>\n",
              "      <td>3.072330e+05</td>\n",
              "      <td>307511.000000</td>\n",
              "      <td>307511.000000</td>\n",
              "      <td>307511.000000</td>\n",
              "      <td>307511.000000</td>\n",
              "      <td>...</td>\n",
              "      <td>307511.000000</td>\n",
              "      <td>307511.000000</td>\n",
              "      <td>307511.000000</td>\n",
              "      <td>307511.000000</td>\n",
              "      <td>265992.000000</td>\n",
              "      <td>265992.000000</td>\n",
              "      <td>265992.000000</td>\n",
              "      <td>265992.000000</td>\n",
              "      <td>265992.000000</td>\n",
              "      <td>265992.000000</td>\n",
              "    </tr>\n",
              "    <tr>\n",
              "      <th>mean</th>\n",
              "      <td>278180.518577</td>\n",
              "      <td>0.417052</td>\n",
              "      <td>1.687979e+05</td>\n",
              "      <td>5.990260e+05</td>\n",
              "      <td>27108.573909</td>\n",
              "      <td>5.383962e+05</td>\n",
              "      <td>0.020868</td>\n",
              "      <td>-16036.995067</td>\n",
              "      <td>63815.045904</td>\n",
              "      <td>-4986.120328</td>\n",
              "      <td>...</td>\n",
              "      <td>0.008130</td>\n",
              "      <td>0.000595</td>\n",
              "      <td>0.000507</td>\n",
              "      <td>0.000335</td>\n",
              "      <td>0.006402</td>\n",
              "      <td>0.007000</td>\n",
              "      <td>0.034362</td>\n",
              "      <td>0.267395</td>\n",
              "      <td>0.265474</td>\n",
              "      <td>1.899974</td>\n",
              "    </tr>\n",
              "    <tr>\n",
              "      <th>std</th>\n",
              "      <td>102790.175348</td>\n",
              "      <td>0.722121</td>\n",
              "      <td>2.371231e+05</td>\n",
              "      <td>4.024908e+05</td>\n",
              "      <td>14493.737315</td>\n",
              "      <td>3.694465e+05</td>\n",
              "      <td>0.013831</td>\n",
              "      <td>4363.988632</td>\n",
              "      <td>141275.766519</td>\n",
              "      <td>3522.886321</td>\n",
              "      <td>...</td>\n",
              "      <td>0.089798</td>\n",
              "      <td>0.024387</td>\n",
              "      <td>0.022518</td>\n",
              "      <td>0.018299</td>\n",
              "      <td>0.083849</td>\n",
              "      <td>0.110757</td>\n",
              "      <td>0.204685</td>\n",
              "      <td>0.916002</td>\n",
              "      <td>0.794056</td>\n",
              "      <td>1.869295</td>\n",
              "    </tr>\n",
              "    <tr>\n",
              "      <th>min</th>\n",
              "      <td>100002.000000</td>\n",
              "      <td>0.000000</td>\n",
              "      <td>2.565000e+04</td>\n",
              "      <td>4.500000e+04</td>\n",
              "      <td>1615.500000</td>\n",
              "      <td>4.050000e+04</td>\n",
              "      <td>0.000290</td>\n",
              "      <td>-25229.000000</td>\n",
              "      <td>-17912.000000</td>\n",
              "      <td>-24672.000000</td>\n",
              "      <td>...</td>\n",
              "      <td>0.000000</td>\n",
              "      <td>0.000000</td>\n",
              "      <td>0.000000</td>\n",
              "      <td>0.000000</td>\n",
              "      <td>0.000000</td>\n",
              "      <td>0.000000</td>\n",
              "      <td>0.000000</td>\n",
              "      <td>0.000000</td>\n",
              "      <td>0.000000</td>\n",
              "      <td>0.000000</td>\n",
              "    </tr>\n",
              "    <tr>\n",
              "      <th>25%</th>\n",
              "      <td>189145.500000</td>\n",
              "      <td>0.000000</td>\n",
              "      <td>1.125000e+05</td>\n",
              "      <td>2.700000e+05</td>\n",
              "      <td>16524.000000</td>\n",
              "      <td>2.385000e+05</td>\n",
              "      <td>0.010006</td>\n",
              "      <td>-19682.000000</td>\n",
              "      <td>-2760.000000</td>\n",
              "      <td>-7479.500000</td>\n",
              "      <td>...</td>\n",
              "      <td>0.000000</td>\n",
              "      <td>0.000000</td>\n",
              "      <td>0.000000</td>\n",
              "      <td>0.000000</td>\n",
              "      <td>0.000000</td>\n",
              "      <td>0.000000</td>\n",
              "      <td>0.000000</td>\n",
              "      <td>0.000000</td>\n",
              "      <td>0.000000</td>\n",
              "      <td>0.000000</td>\n",
              "    </tr>\n",
              "    <tr>\n",
              "      <th>50%</th>\n",
              "      <td>278202.000000</td>\n",
              "      <td>0.000000</td>\n",
              "      <td>1.471500e+05</td>\n",
              "      <td>5.135310e+05</td>\n",
              "      <td>24903.000000</td>\n",
              "      <td>4.500000e+05</td>\n",
              "      <td>0.018850</td>\n",
              "      <td>-15750.000000</td>\n",
              "      <td>-1213.000000</td>\n",
              "      <td>-4504.000000</td>\n",
              "      <td>...</td>\n",
              "      <td>0.000000</td>\n",
              "      <td>0.000000</td>\n",
              "      <td>0.000000</td>\n",
              "      <td>0.000000</td>\n",
              "      <td>0.000000</td>\n",
              "      <td>0.000000</td>\n",
              "      <td>0.000000</td>\n",
              "      <td>0.000000</td>\n",
              "      <td>0.000000</td>\n",
              "      <td>1.000000</td>\n",
              "    </tr>\n",
              "    <tr>\n",
              "      <th>75%</th>\n",
              "      <td>367142.500000</td>\n",
              "      <td>1.000000</td>\n",
              "      <td>2.025000e+05</td>\n",
              "      <td>8.086500e+05</td>\n",
              "      <td>34596.000000</td>\n",
              "      <td>6.795000e+05</td>\n",
              "      <td>0.028663</td>\n",
              "      <td>-12413.000000</td>\n",
              "      <td>-289.000000</td>\n",
              "      <td>-2010.000000</td>\n",
              "      <td>...</td>\n",
              "      <td>0.000000</td>\n",
              "      <td>0.000000</td>\n",
              "      <td>0.000000</td>\n",
              "      <td>0.000000</td>\n",
              "      <td>0.000000</td>\n",
              "      <td>0.000000</td>\n",
              "      <td>0.000000</td>\n",
              "      <td>0.000000</td>\n",
              "      <td>0.000000</td>\n",
              "      <td>3.000000</td>\n",
              "    </tr>\n",
              "    <tr>\n",
              "      <th>max</th>\n",
              "      <td>456255.000000</td>\n",
              "      <td>19.000000</td>\n",
              "      <td>1.170000e+08</td>\n",
              "      <td>4.050000e+06</td>\n",
              "      <td>258025.500000</td>\n",
              "      <td>4.050000e+06</td>\n",
              "      <td>0.072508</td>\n",
              "      <td>-7489.000000</td>\n",
              "      <td>365243.000000</td>\n",
              "      <td>0.000000</td>\n",
              "      <td>...</td>\n",
              "      <td>1.000000</td>\n",
              "      <td>1.000000</td>\n",
              "      <td>1.000000</td>\n",
              "      <td>1.000000</td>\n",
              "      <td>4.000000</td>\n",
              "      <td>9.000000</td>\n",
              "      <td>8.000000</td>\n",
              "      <td>27.000000</td>\n",
              "      <td>261.000000</td>\n",
              "      <td>25.000000</td>\n",
              "    </tr>\n",
              "  </tbody>\n",
              "</table>\n",
              "<p>8 rows × 105 columns</p>\n",
              "</div>\n",
              "      <button class=\"colab-df-convert\" onclick=\"convertToInteractive('df-92e7e75f-01e8-4ea8-8a7b-d321cad08276')\"\n",
              "              title=\"Convert this dataframe to an interactive table.\"\n",
              "              style=\"display:none;\">\n",
              "        \n",
              "  <svg xmlns=\"http://www.w3.org/2000/svg\" height=\"24px\"viewBox=\"0 0 24 24\"\n",
              "       width=\"24px\">\n",
              "    <path d=\"M0 0h24v24H0V0z\" fill=\"none\"/>\n",
              "    <path d=\"M18.56 5.44l.94 2.06.94-2.06 2.06-.94-2.06-.94-.94-2.06-.94 2.06-2.06.94zm-11 1L8.5 8.5l.94-2.06 2.06-.94-2.06-.94L8.5 2.5l-.94 2.06-2.06.94zm10 10l.94 2.06.94-2.06 2.06-.94-2.06-.94-.94-2.06-.94 2.06-2.06.94z\"/><path d=\"M17.41 7.96l-1.37-1.37c-.4-.4-.92-.59-1.43-.59-.52 0-1.04.2-1.43.59L10.3 9.45l-7.72 7.72c-.78.78-.78 2.05 0 2.83L4 21.41c.39.39.9.59 1.41.59.51 0 1.02-.2 1.41-.59l7.78-7.78 2.81-2.81c.8-.78.8-2.07 0-2.86zM5.41 20L4 18.59l7.72-7.72 1.47 1.35L5.41 20z\"/>\n",
              "  </svg>\n",
              "      </button>\n",
              "      \n",
              "  <style>\n",
              "    .colab-df-container {\n",
              "      display:flex;\n",
              "      flex-wrap:wrap;\n",
              "      gap: 12px;\n",
              "    }\n",
              "\n",
              "    .colab-df-convert {\n",
              "      background-color: #E8F0FE;\n",
              "      border: none;\n",
              "      border-radius: 50%;\n",
              "      cursor: pointer;\n",
              "      display: none;\n",
              "      fill: #1967D2;\n",
              "      height: 32px;\n",
              "      padding: 0 0 0 0;\n",
              "      width: 32px;\n",
              "    }\n",
              "\n",
              "    .colab-df-convert:hover {\n",
              "      background-color: #E2EBFA;\n",
              "      box-shadow: 0px 1px 2px rgba(60, 64, 67, 0.3), 0px 1px 3px 1px rgba(60, 64, 67, 0.15);\n",
              "      fill: #174EA6;\n",
              "    }\n",
              "\n",
              "    [theme=dark] .colab-df-convert {\n",
              "      background-color: #3B4455;\n",
              "      fill: #D2E3FC;\n",
              "    }\n",
              "\n",
              "    [theme=dark] .colab-df-convert:hover {\n",
              "      background-color: #434B5C;\n",
              "      box-shadow: 0px 1px 3px 1px rgba(0, 0, 0, 0.15);\n",
              "      filter: drop-shadow(0px 1px 2px rgba(0, 0, 0, 0.3));\n",
              "      fill: #FFFFFF;\n",
              "    }\n",
              "  </style>\n",
              "\n",
              "      <script>\n",
              "        const buttonEl =\n",
              "          document.querySelector('#df-92e7e75f-01e8-4ea8-8a7b-d321cad08276 button.colab-df-convert');\n",
              "        buttonEl.style.display =\n",
              "          google.colab.kernel.accessAllowed ? 'block' : 'none';\n",
              "\n",
              "        async function convertToInteractive(key) {\n",
              "          const element = document.querySelector('#df-92e7e75f-01e8-4ea8-8a7b-d321cad08276');\n",
              "          const dataTable =\n",
              "            await google.colab.kernel.invokeFunction('convertToInteractive',\n",
              "                                                     [key], {});\n",
              "          if (!dataTable) return;\n",
              "\n",
              "          const docLinkHtml = 'Like what you see? Visit the ' +\n",
              "            '<a target=\"_blank\" href=https://colab.research.google.com/notebooks/data_table.ipynb>data table notebook</a>'\n",
              "            + ' to learn more about interactive tables.';\n",
              "          element.innerHTML = '';\n",
              "          dataTable['output_type'] = 'display_data';\n",
              "          await google.colab.output.renderOutput(dataTable, element);\n",
              "          const docLink = document.createElement('div');\n",
              "          docLink.innerHTML = docLinkHtml;\n",
              "          element.appendChild(docLink);\n",
              "        }\n",
              "      </script>\n",
              "    </div>\n",
              "  </div>\n",
              "  "
            ]
          },
          "metadata": {},
          "execution_count": 10
        }
      ]
    },
    {
      "cell_type": "code",
      "source": [
        "appl_test[nums].describe()"
      ],
      "metadata": {
        "colab": {
          "base_uri": "https://localhost:8080/",
          "height": 0
        },
        "id": "wUMZ8Xsqvy4i",
        "outputId": "0af33038-7408-4a27-86f2-decae3b5efa2"
      },
      "id": "wUMZ8Xsqvy4i",
      "execution_count": 11,
      "outputs": [
        {
          "output_type": "execute_result",
          "data": {
            "text/plain": [
              "          SK_ID_CURR  CNT_CHILDREN  AMT_INCOME_TOTAL    AMT_CREDIT  \\\n",
              "count   48744.000000  48744.000000      4.874400e+04  4.874400e+04   \n",
              "mean   277796.676350      0.397054      1.784318e+05  5.167404e+05   \n",
              "std    103169.547296      0.709047      1.015226e+05  3.653970e+05   \n",
              "min    100001.000000      0.000000      2.694150e+04  4.500000e+04   \n",
              "25%    188557.750000      0.000000      1.125000e+05  2.606400e+05   \n",
              "50%    277549.000000      0.000000      1.575000e+05  4.500000e+05   \n",
              "75%    367555.500000      1.000000      2.250000e+05  6.750000e+05   \n",
              "max    456250.000000     20.000000      4.410000e+06  2.245500e+06   \n",
              "\n",
              "         AMT_ANNUITY  AMT_GOODS_PRICE  REGION_POPULATION_RELATIVE  \\\n",
              "count   48720.000000     4.874400e+04                48744.000000   \n",
              "mean    29426.240209     4.626188e+05                    0.021226   \n",
              "std     16016.368315     3.367102e+05                    0.014428   \n",
              "min      2295.000000     4.500000e+04                    0.000253   \n",
              "25%     17973.000000     2.250000e+05                    0.010006   \n",
              "50%     26199.000000     3.960000e+05                    0.018850   \n",
              "75%     37390.500000     6.300000e+05                    0.028663   \n",
              "max    180576.000000     2.245500e+06                    0.072508   \n",
              "\n",
              "         DAYS_BIRTH  DAYS_EMPLOYED  DAYS_REGISTRATION  ...  FLAG_DOCUMENT_18  \\\n",
              "count  48744.000000   48744.000000       48744.000000  ...      48744.000000   \n",
              "mean  -16068.084605   67485.366322       -4967.652716  ...          0.001559   \n",
              "std     4325.900393  144348.507136        3552.612035  ...          0.039456   \n",
              "min   -25195.000000  -17463.000000      -23722.000000  ...          0.000000   \n",
              "25%   -19637.000000   -2910.000000       -7459.250000  ...          0.000000   \n",
              "50%   -15785.000000   -1293.000000       -4490.000000  ...          0.000000   \n",
              "75%   -12496.000000    -296.000000       -1901.000000  ...          0.000000   \n",
              "max    -7338.000000  365243.000000           0.000000  ...          1.000000   \n",
              "\n",
              "       FLAG_DOCUMENT_19  FLAG_DOCUMENT_20  FLAG_DOCUMENT_21  \\\n",
              "count           48744.0           48744.0           48744.0   \n",
              "mean                0.0               0.0               0.0   \n",
              "std                 0.0               0.0               0.0   \n",
              "min                 0.0               0.0               0.0   \n",
              "25%                 0.0               0.0               0.0   \n",
              "50%                 0.0               0.0               0.0   \n",
              "75%                 0.0               0.0               0.0   \n",
              "max                 0.0               0.0               0.0   \n",
              "\n",
              "       AMT_REQ_CREDIT_BUREAU_HOUR  AMT_REQ_CREDIT_BUREAU_DAY  \\\n",
              "count                42695.000000               42695.000000   \n",
              "mean                     0.002108                   0.001803   \n",
              "std                      0.046373                   0.046132   \n",
              "min                      0.000000                   0.000000   \n",
              "25%                      0.000000                   0.000000   \n",
              "50%                      0.000000                   0.000000   \n",
              "75%                      0.000000                   0.000000   \n",
              "max                      2.000000                   2.000000   \n",
              "\n",
              "       AMT_REQ_CREDIT_BUREAU_WEEK  AMT_REQ_CREDIT_BUREAU_MON  \\\n",
              "count                42695.000000               42695.000000   \n",
              "mean                     0.002787                   0.009299   \n",
              "std                      0.054037                   0.110924   \n",
              "min                      0.000000                   0.000000   \n",
              "25%                      0.000000                   0.000000   \n",
              "50%                      0.000000                   0.000000   \n",
              "75%                      0.000000                   0.000000   \n",
              "max                      2.000000                   6.000000   \n",
              "\n",
              "       AMT_REQ_CREDIT_BUREAU_QRT  AMT_REQ_CREDIT_BUREAU_YEAR  \n",
              "count               42695.000000                42695.000000  \n",
              "mean                    0.546902                    1.983769  \n",
              "std                     0.693305                    1.838873  \n",
              "min                     0.000000                    0.000000  \n",
              "25%                     0.000000                    0.000000  \n",
              "50%                     0.000000                    2.000000  \n",
              "75%                     1.000000                    3.000000  \n",
              "max                     7.000000                   17.000000  \n",
              "\n",
              "[8 rows x 105 columns]"
            ],
            "text/html": [
              "\n",
              "  <div id=\"df-46ad72c6-864f-49e5-8185-556963486b8b\">\n",
              "    <div class=\"colab-df-container\">\n",
              "      <div>\n",
              "<style scoped>\n",
              "    .dataframe tbody tr th:only-of-type {\n",
              "        vertical-align: middle;\n",
              "    }\n",
              "\n",
              "    .dataframe tbody tr th {\n",
              "        vertical-align: top;\n",
              "    }\n",
              "\n",
              "    .dataframe thead th {\n",
              "        text-align: right;\n",
              "    }\n",
              "</style>\n",
              "<table border=\"1\" class=\"dataframe\">\n",
              "  <thead>\n",
              "    <tr style=\"text-align: right;\">\n",
              "      <th></th>\n",
              "      <th>SK_ID_CURR</th>\n",
              "      <th>CNT_CHILDREN</th>\n",
              "      <th>AMT_INCOME_TOTAL</th>\n",
              "      <th>AMT_CREDIT</th>\n",
              "      <th>AMT_ANNUITY</th>\n",
              "      <th>AMT_GOODS_PRICE</th>\n",
              "      <th>REGION_POPULATION_RELATIVE</th>\n",
              "      <th>DAYS_BIRTH</th>\n",
              "      <th>DAYS_EMPLOYED</th>\n",
              "      <th>DAYS_REGISTRATION</th>\n",
              "      <th>...</th>\n",
              "      <th>FLAG_DOCUMENT_18</th>\n",
              "      <th>FLAG_DOCUMENT_19</th>\n",
              "      <th>FLAG_DOCUMENT_20</th>\n",
              "      <th>FLAG_DOCUMENT_21</th>\n",
              "      <th>AMT_REQ_CREDIT_BUREAU_HOUR</th>\n",
              "      <th>AMT_REQ_CREDIT_BUREAU_DAY</th>\n",
              "      <th>AMT_REQ_CREDIT_BUREAU_WEEK</th>\n",
              "      <th>AMT_REQ_CREDIT_BUREAU_MON</th>\n",
              "      <th>AMT_REQ_CREDIT_BUREAU_QRT</th>\n",
              "      <th>AMT_REQ_CREDIT_BUREAU_YEAR</th>\n",
              "    </tr>\n",
              "  </thead>\n",
              "  <tbody>\n",
              "    <tr>\n",
              "      <th>count</th>\n",
              "      <td>48744.000000</td>\n",
              "      <td>48744.000000</td>\n",
              "      <td>4.874400e+04</td>\n",
              "      <td>4.874400e+04</td>\n",
              "      <td>48720.000000</td>\n",
              "      <td>4.874400e+04</td>\n",
              "      <td>48744.000000</td>\n",
              "      <td>48744.000000</td>\n",
              "      <td>48744.000000</td>\n",
              "      <td>48744.000000</td>\n",
              "      <td>...</td>\n",
              "      <td>48744.000000</td>\n",
              "      <td>48744.0</td>\n",
              "      <td>48744.0</td>\n",
              "      <td>48744.0</td>\n",
              "      <td>42695.000000</td>\n",
              "      <td>42695.000000</td>\n",
              "      <td>42695.000000</td>\n",
              "      <td>42695.000000</td>\n",
              "      <td>42695.000000</td>\n",
              "      <td>42695.000000</td>\n",
              "    </tr>\n",
              "    <tr>\n",
              "      <th>mean</th>\n",
              "      <td>277796.676350</td>\n",
              "      <td>0.397054</td>\n",
              "      <td>1.784318e+05</td>\n",
              "      <td>5.167404e+05</td>\n",
              "      <td>29426.240209</td>\n",
              "      <td>4.626188e+05</td>\n",
              "      <td>0.021226</td>\n",
              "      <td>-16068.084605</td>\n",
              "      <td>67485.366322</td>\n",
              "      <td>-4967.652716</td>\n",
              "      <td>...</td>\n",
              "      <td>0.001559</td>\n",
              "      <td>0.0</td>\n",
              "      <td>0.0</td>\n",
              "      <td>0.0</td>\n",
              "      <td>0.002108</td>\n",
              "      <td>0.001803</td>\n",
              "      <td>0.002787</td>\n",
              "      <td>0.009299</td>\n",
              "      <td>0.546902</td>\n",
              "      <td>1.983769</td>\n",
              "    </tr>\n",
              "    <tr>\n",
              "      <th>std</th>\n",
              "      <td>103169.547296</td>\n",
              "      <td>0.709047</td>\n",
              "      <td>1.015226e+05</td>\n",
              "      <td>3.653970e+05</td>\n",
              "      <td>16016.368315</td>\n",
              "      <td>3.367102e+05</td>\n",
              "      <td>0.014428</td>\n",
              "      <td>4325.900393</td>\n",
              "      <td>144348.507136</td>\n",
              "      <td>3552.612035</td>\n",
              "      <td>...</td>\n",
              "      <td>0.039456</td>\n",
              "      <td>0.0</td>\n",
              "      <td>0.0</td>\n",
              "      <td>0.0</td>\n",
              "      <td>0.046373</td>\n",
              "      <td>0.046132</td>\n",
              "      <td>0.054037</td>\n",
              "      <td>0.110924</td>\n",
              "      <td>0.693305</td>\n",
              "      <td>1.838873</td>\n",
              "    </tr>\n",
              "    <tr>\n",
              "      <th>min</th>\n",
              "      <td>100001.000000</td>\n",
              "      <td>0.000000</td>\n",
              "      <td>2.694150e+04</td>\n",
              "      <td>4.500000e+04</td>\n",
              "      <td>2295.000000</td>\n",
              "      <td>4.500000e+04</td>\n",
              "      <td>0.000253</td>\n",
              "      <td>-25195.000000</td>\n",
              "      <td>-17463.000000</td>\n",
              "      <td>-23722.000000</td>\n",
              "      <td>...</td>\n",
              "      <td>0.000000</td>\n",
              "      <td>0.0</td>\n",
              "      <td>0.0</td>\n",
              "      <td>0.0</td>\n",
              "      <td>0.000000</td>\n",
              "      <td>0.000000</td>\n",
              "      <td>0.000000</td>\n",
              "      <td>0.000000</td>\n",
              "      <td>0.000000</td>\n",
              "      <td>0.000000</td>\n",
              "    </tr>\n",
              "    <tr>\n",
              "      <th>25%</th>\n",
              "      <td>188557.750000</td>\n",
              "      <td>0.000000</td>\n",
              "      <td>1.125000e+05</td>\n",
              "      <td>2.606400e+05</td>\n",
              "      <td>17973.000000</td>\n",
              "      <td>2.250000e+05</td>\n",
              "      <td>0.010006</td>\n",
              "      <td>-19637.000000</td>\n",
              "      <td>-2910.000000</td>\n",
              "      <td>-7459.250000</td>\n",
              "      <td>...</td>\n",
              "      <td>0.000000</td>\n",
              "      <td>0.0</td>\n",
              "      <td>0.0</td>\n",
              "      <td>0.0</td>\n",
              "      <td>0.000000</td>\n",
              "      <td>0.000000</td>\n",
              "      <td>0.000000</td>\n",
              "      <td>0.000000</td>\n",
              "      <td>0.000000</td>\n",
              "      <td>0.000000</td>\n",
              "    </tr>\n",
              "    <tr>\n",
              "      <th>50%</th>\n",
              "      <td>277549.000000</td>\n",
              "      <td>0.000000</td>\n",
              "      <td>1.575000e+05</td>\n",
              "      <td>4.500000e+05</td>\n",
              "      <td>26199.000000</td>\n",
              "      <td>3.960000e+05</td>\n",
              "      <td>0.018850</td>\n",
              "      <td>-15785.000000</td>\n",
              "      <td>-1293.000000</td>\n",
              "      <td>-4490.000000</td>\n",
              "      <td>...</td>\n",
              "      <td>0.000000</td>\n",
              "      <td>0.0</td>\n",
              "      <td>0.0</td>\n",
              "      <td>0.0</td>\n",
              "      <td>0.000000</td>\n",
              "      <td>0.000000</td>\n",
              "      <td>0.000000</td>\n",
              "      <td>0.000000</td>\n",
              "      <td>0.000000</td>\n",
              "      <td>2.000000</td>\n",
              "    </tr>\n",
              "    <tr>\n",
              "      <th>75%</th>\n",
              "      <td>367555.500000</td>\n",
              "      <td>1.000000</td>\n",
              "      <td>2.250000e+05</td>\n",
              "      <td>6.750000e+05</td>\n",
              "      <td>37390.500000</td>\n",
              "      <td>6.300000e+05</td>\n",
              "      <td>0.028663</td>\n",
              "      <td>-12496.000000</td>\n",
              "      <td>-296.000000</td>\n",
              "      <td>-1901.000000</td>\n",
              "      <td>...</td>\n",
              "      <td>0.000000</td>\n",
              "      <td>0.0</td>\n",
              "      <td>0.0</td>\n",
              "      <td>0.0</td>\n",
              "      <td>0.000000</td>\n",
              "      <td>0.000000</td>\n",
              "      <td>0.000000</td>\n",
              "      <td>0.000000</td>\n",
              "      <td>1.000000</td>\n",
              "      <td>3.000000</td>\n",
              "    </tr>\n",
              "    <tr>\n",
              "      <th>max</th>\n",
              "      <td>456250.000000</td>\n",
              "      <td>20.000000</td>\n",
              "      <td>4.410000e+06</td>\n",
              "      <td>2.245500e+06</td>\n",
              "      <td>180576.000000</td>\n",
              "      <td>2.245500e+06</td>\n",
              "      <td>0.072508</td>\n",
              "      <td>-7338.000000</td>\n",
              "      <td>365243.000000</td>\n",
              "      <td>0.000000</td>\n",
              "      <td>...</td>\n",
              "      <td>1.000000</td>\n",
              "      <td>0.0</td>\n",
              "      <td>0.0</td>\n",
              "      <td>0.0</td>\n",
              "      <td>2.000000</td>\n",
              "      <td>2.000000</td>\n",
              "      <td>2.000000</td>\n",
              "      <td>6.000000</td>\n",
              "      <td>7.000000</td>\n",
              "      <td>17.000000</td>\n",
              "    </tr>\n",
              "  </tbody>\n",
              "</table>\n",
              "<p>8 rows × 105 columns</p>\n",
              "</div>\n",
              "      <button class=\"colab-df-convert\" onclick=\"convertToInteractive('df-46ad72c6-864f-49e5-8185-556963486b8b')\"\n",
              "              title=\"Convert this dataframe to an interactive table.\"\n",
              "              style=\"display:none;\">\n",
              "        \n",
              "  <svg xmlns=\"http://www.w3.org/2000/svg\" height=\"24px\"viewBox=\"0 0 24 24\"\n",
              "       width=\"24px\">\n",
              "    <path d=\"M0 0h24v24H0V0z\" fill=\"none\"/>\n",
              "    <path d=\"M18.56 5.44l.94 2.06.94-2.06 2.06-.94-2.06-.94-.94-2.06-.94 2.06-2.06.94zm-11 1L8.5 8.5l.94-2.06 2.06-.94-2.06-.94L8.5 2.5l-.94 2.06-2.06.94zm10 10l.94 2.06.94-2.06 2.06-.94-2.06-.94-.94-2.06-.94 2.06-2.06.94z\"/><path d=\"M17.41 7.96l-1.37-1.37c-.4-.4-.92-.59-1.43-.59-.52 0-1.04.2-1.43.59L10.3 9.45l-7.72 7.72c-.78.78-.78 2.05 0 2.83L4 21.41c.39.39.9.59 1.41.59.51 0 1.02-.2 1.41-.59l7.78-7.78 2.81-2.81c.8-.78.8-2.07 0-2.86zM5.41 20L4 18.59l7.72-7.72 1.47 1.35L5.41 20z\"/>\n",
              "  </svg>\n",
              "      </button>\n",
              "      \n",
              "  <style>\n",
              "    .colab-df-container {\n",
              "      display:flex;\n",
              "      flex-wrap:wrap;\n",
              "      gap: 12px;\n",
              "    }\n",
              "\n",
              "    .colab-df-convert {\n",
              "      background-color: #E8F0FE;\n",
              "      border: none;\n",
              "      border-radius: 50%;\n",
              "      cursor: pointer;\n",
              "      display: none;\n",
              "      fill: #1967D2;\n",
              "      height: 32px;\n",
              "      padding: 0 0 0 0;\n",
              "      width: 32px;\n",
              "    }\n",
              "\n",
              "    .colab-df-convert:hover {\n",
              "      background-color: #E2EBFA;\n",
              "      box-shadow: 0px 1px 2px rgba(60, 64, 67, 0.3), 0px 1px 3px 1px rgba(60, 64, 67, 0.15);\n",
              "      fill: #174EA6;\n",
              "    }\n",
              "\n",
              "    [theme=dark] .colab-df-convert {\n",
              "      background-color: #3B4455;\n",
              "      fill: #D2E3FC;\n",
              "    }\n",
              "\n",
              "    [theme=dark] .colab-df-convert:hover {\n",
              "      background-color: #434B5C;\n",
              "      box-shadow: 0px 1px 3px 1px rgba(0, 0, 0, 0.15);\n",
              "      filter: drop-shadow(0px 1px 2px rgba(0, 0, 0, 0.3));\n",
              "      fill: #FFFFFF;\n",
              "    }\n",
              "  </style>\n",
              "\n",
              "      <script>\n",
              "        const buttonEl =\n",
              "          document.querySelector('#df-46ad72c6-864f-49e5-8185-556963486b8b button.colab-df-convert');\n",
              "        buttonEl.style.display =\n",
              "          google.colab.kernel.accessAllowed ? 'block' : 'none';\n",
              "\n",
              "        async function convertToInteractive(key) {\n",
              "          const element = document.querySelector('#df-46ad72c6-864f-49e5-8185-556963486b8b');\n",
              "          const dataTable =\n",
              "            await google.colab.kernel.invokeFunction('convertToInteractive',\n",
              "                                                     [key], {});\n",
              "          if (!dataTable) return;\n",
              "\n",
              "          const docLinkHtml = 'Like what you see? Visit the ' +\n",
              "            '<a target=\"_blank\" href=https://colab.research.google.com/notebooks/data_table.ipynb>data table notebook</a>'\n",
              "            + ' to learn more about interactive tables.';\n",
              "          element.innerHTML = '';\n",
              "          dataTable['output_type'] = 'display_data';\n",
              "          await google.colab.output.renderOutput(dataTable, element);\n",
              "          const docLink = document.createElement('div');\n",
              "          docLink.innerHTML = docLinkHtml;\n",
              "          element.appendChild(docLink);\n",
              "        }\n",
              "      </script>\n",
              "    </div>\n",
              "  </div>\n",
              "  "
            ]
          },
          "metadata": {},
          "execution_count": 11
        }
      ]
    },
    {
      "cell_type": "markdown",
      "source": [
        "Terlihat kejanggalan pada statistik DAYS_BIRTH dan DAYS_EMPLOYED karena mempunyai nilai minus. Untuk mengatasinya akan dicek anomali data tersebut di bawah ini."
      ],
      "metadata": {
        "id": "6ajBbG5OEw8Z"
      },
      "id": "6ajBbG5OEw8Z"
    },
    {
      "cell_type": "markdown",
      "source": [
        "## Anomali Data pada DAYS_BIRTH & DAYS_EMPLOYED"
      ],
      "metadata": {
        "id": "-qwzZmc5ErHo"
      },
      "id": "-qwzZmc5ErHo"
    },
    {
      "cell_type": "markdown",
      "source": [
        "Pada kolom DAYS_BIRTH dan DAYS_EMPLOYED mempunyai value minus. Tidak hanya pada appl_train, namun appl_test juga sama. Untuk mengatasinya, pertama-tama adalah menghitung DAYS_BIRTH / -365 (karena mengacu 1 tahun 365 hari, dan minus digunakan agar value DAYS_BIRTH tidak lagi minus)."
      ],
      "metadata": {
        "id": "9eqg4xkGU_nQ"
      },
      "id": "9eqg4xkGU_nQ"
    },
    {
      "cell_type": "code",
      "source": [
        "appl_train['DAYS_BIRTH'] = appl_train['DAYS_BIRTH'] / -365\n",
        "appl_test['DAYS_BIRTH'] = appl_test['DAYS_BIRTH'] / -365\n",
        "print('Perubahan DAYS_BIRTH pada appl_train')\n",
        "print(appl_train['DAYS_BIRTH'].describe())\n",
        "print('=' * 50)\n",
        "print('perubahan DAYS_BIRTH pada appl_test')\n",
        "print(appl_test['DAYS_BIRTH'].describe())"
      ],
      "metadata": {
        "id": "T-TaelVW39cC",
        "colab": {
          "base_uri": "https://localhost:8080/"
        },
        "outputId": "80e38e30-42b2-45e6-8539-2a86ee31268a"
      },
      "id": "T-TaelVW39cC",
      "execution_count": 12,
      "outputs": [
        {
          "output_type": "stream",
          "name": "stdout",
          "text": [
            "Perubahan DAYS_BIRTH pada appl_train\n",
            "count    307511.000000\n",
            "mean         43.936973\n",
            "std          11.956133\n",
            "min          20.517808\n",
            "25%          34.008219\n",
            "50%          43.150685\n",
            "75%          53.923288\n",
            "max          69.120548\n",
            "Name: DAYS_BIRTH, dtype: float64\n",
            "==================================================\n",
            "perubahan DAYS_BIRTH pada appl_test\n",
            "count    48744.000000\n",
            "mean        44.022150\n",
            "std         11.851782\n",
            "min         20.104110\n",
            "25%         34.235616\n",
            "50%         43.246575\n",
            "75%         53.800000\n",
            "max         69.027397\n",
            "Name: DAYS_BIRTH, dtype: float64\n"
          ]
        }
      ]
    },
    {
      "cell_type": "markdown",
      "source": [
        "DAYS_BIRTH mengacu pada usia, jadi sudah terlihat tidak aneh lagi. Selanjutnya adalah melihat DAYS_EMPLOYED"
      ],
      "metadata": {
        "id": "k2OwvKpcFK3g"
      },
      "id": "k2OwvKpcFK3g"
    },
    {
      "cell_type": "code",
      "source": [
        "anom_data = appl_train[appl_train['DAYS_EMPLOYED'] == 365243]\n",
        "non_anom_data = appl_train[appl_train['DAYS_EMPLOYED'] != 365243]\n",
        "\n",
        "print('Data yang anomali adalah sebesar %0.2f%%' % (100 * anom_data['TARGET'].mean()))\n",
        "print('Data yang bukan anomali adalah sebesar %0.2f%%' % (100 * non_anom_data['TARGET'].mean()))\n",
        "print('Data yang anomali pada DAYS_EMPLOYED adalah %d' % len(anom_data))"
      ],
      "metadata": {
        "colab": {
          "base_uri": "https://localhost:8080/"
        },
        "id": "WPDjXf33WBcM",
        "outputId": "9a64f7cf-2cc7-4564-b44e-d80e2d239748"
      },
      "id": "WPDjXf33WBcM",
      "execution_count": 13,
      "outputs": [
        {
          "output_type": "stream",
          "name": "stdout",
          "text": [
            "Data yang anomali adalah sebesar 5.40%\n",
            "Data yang bukan anomali adalah sebesar 8.66%\n",
            "Data yang anomali pada DAYS_EMPLOYED adalah 55374\n"
          ]
        }
      ]
    },
    {
      "cell_type": "code",
      "source": [
        "appl_train['DAYS_EMPLOYED_ANOM'] = appl_train[\"DAYS_EMPLOYED\"] == 365243\n",
        "appl_test['DAYS_EMPLOYED_ANOM'] = appl_test[\"DAYS_EMPLOYED\"] == 365243\n",
        "\n",
        "appl_train['DAYS_EMPLOYED'].replace({365243: np.nan}, inplace = True)\n",
        "appl_test[\"DAYS_EMPLOYED\"].replace({365243: np.nan}, inplace = True)\n",
        "\n",
        "\n",
        "print('Pada data train terdapat anomali pada DAYS_EMPLOYED sebesar', appl_train['DAYS_EMPLOYED_ANOM'].sum(), 'dari jumlah data sebesar', len(appl_train))\n",
        "print('Pada data test terdapat anomali pada DAYS_EMPLOYED sebesar', appl_test['DAYS_EMPLOYED_ANOM'].sum(), 'dari jumlah data sebesar', len(appl_test))"
      ],
      "metadata": {
        "colab": {
          "base_uri": "https://localhost:8080/"
        },
        "id": "ArTJHid3Fn5U",
        "outputId": "9cc2d9be-5ffa-44ba-8072-6e08f759368b"
      },
      "id": "ArTJHid3Fn5U",
      "execution_count": 14,
      "outputs": [
        {
          "output_type": "stream",
          "name": "stdout",
          "text": [
            "Pada data train terdapat anomali pada DAYS_EMPLOYED sebesar 55374 dari jumlah data sebesar 307511\n",
            "Pada data test terdapat anomali pada DAYS_EMPLOYED sebesar 9274 dari jumlah data sebesar 48744\n"
          ]
        }
      ]
    },
    {
      "cell_type": "markdown",
      "source": [
        "## Korelasi"
      ],
      "metadata": {
        "id": "pRmol51XHuEN"
      },
      "id": "pRmol51XHuEN"
    },
    {
      "cell_type": "markdown",
      "source": [
        "Untuk memudahkan mencari korelasi pada set appl_train, menggunakan korelasi dari TARGET dengan mengurutkan korelasi dari yang minus 1 hingga positif 1, karena banyaknya kolom tidak memungkinkan untuk menampilkan heatmap. Dan didapatkan korelasi di bawah ini."
      ],
      "metadata": {
        "id": "3zmxF2Wg0F16"
      },
      "id": "3zmxF2Wg0F16"
    },
    {
      "cell_type": "code",
      "source": [
        "appl_train.corr()['TARGET'].sort_values()"
      ],
      "metadata": {
        "colab": {
          "base_uri": "https://localhost:8080/"
        },
        "id": "Rr7tqHDSHFzj",
        "outputId": "c7e84b64-9e13-4ded-b9c0-6393dc8cd17c"
      },
      "id": "Rr7tqHDSHFzj",
      "execution_count": 15,
      "outputs": [
        {
          "output_type": "stream",
          "name": "stderr",
          "text": [
            "<ipython-input-15-21c027e8d0eb>:1: FutureWarning: The default value of numeric_only in DataFrame.corr is deprecated. In a future version, it will default to False. Select only valid columns or specify the value of numeric_only to silence this warning.\n",
            "  appl_train.corr()['TARGET'].sort_values()\n"
          ]
        },
        {
          "output_type": "execute_result",
          "data": {
            "text/plain": [
              "EXT_SOURCE_3                  -0.178919\n",
              "EXT_SOURCE_2                  -0.160472\n",
              "EXT_SOURCE_1                  -0.155317\n",
              "DAYS_BIRTH                    -0.078239\n",
              "DAYS_EMPLOYED_ANOM            -0.045987\n",
              "                                 ...   \n",
              "DAYS_LAST_PHONE_CHANGE         0.055218\n",
              "REGION_RATING_CLIENT           0.058899\n",
              "REGION_RATING_CLIENT_W_CITY    0.060893\n",
              "DAYS_EMPLOYED                  0.074958\n",
              "TARGET                         1.000000\n",
              "Name: TARGET, Length: 107, dtype: float64"
            ]
          },
          "metadata": {},
          "execution_count": 15
        }
      ]
    },
    {
      "cell_type": "markdown",
      "source": [
        "Sehubungan dengan anomali data DAYS_BIRTH yang sudah dieksekusi, maka korelasinya menjadi negatif. Namun, tidak memungkiri bahwa DAYS_BIRTH yang belum dieksekusi pun mempunyai nilai korelasi tinggi setelah target. Oleh karena itu, kita akan memfilter korelasi dari sekian banyak menjadi 5 saja, yaitu TARGET, DAYS_BIRTH, EXT_SOURCE_1, EXT_SOURCE_2, dan EXT_SOURCE_3."
      ],
      "metadata": {
        "id": "4GhY-QCi337g"
      },
      "id": "4GhY-QCi337g"
    },
    {
      "cell_type": "code",
      "source": [
        "five_corr = appl_train[['TARGET', 'DAYS_BIRTH', 'EXT_SOURCE_1', 'EXT_SOURCE_2', 'EXT_SOURCE_3']]\n",
        "five_corr = five_corr.corr()\n",
        "five_corr"
      ],
      "metadata": {
        "colab": {
          "base_uri": "https://localhost:8080/",
          "height": 0
        },
        "id": "m2Cy_IknHdo4",
        "outputId": "ae8fee56-daad-4b99-a884-9a5aa6c3cfa7"
      },
      "id": "m2Cy_IknHdo4",
      "execution_count": 16,
      "outputs": [
        {
          "output_type": "execute_result",
          "data": {
            "text/plain": [
              "                TARGET  DAYS_BIRTH  EXT_SOURCE_1  EXT_SOURCE_2  EXT_SOURCE_3\n",
              "TARGET        1.000000   -0.078239     -0.155317     -0.160472     -0.178919\n",
              "DAYS_BIRTH   -0.078239    1.000000      0.600610      0.091996      0.205478\n",
              "EXT_SOURCE_1 -0.155317    0.600610      1.000000      0.213982      0.186846\n",
              "EXT_SOURCE_2 -0.160472    0.091996      0.213982      1.000000      0.109167\n",
              "EXT_SOURCE_3 -0.178919    0.205478      0.186846      0.109167      1.000000"
            ],
            "text/html": [
              "\n",
              "  <div id=\"df-aa9d504d-67a0-487b-9ffc-fae68e10b9da\">\n",
              "    <div class=\"colab-df-container\">\n",
              "      <div>\n",
              "<style scoped>\n",
              "    .dataframe tbody tr th:only-of-type {\n",
              "        vertical-align: middle;\n",
              "    }\n",
              "\n",
              "    .dataframe tbody tr th {\n",
              "        vertical-align: top;\n",
              "    }\n",
              "\n",
              "    .dataframe thead th {\n",
              "        text-align: right;\n",
              "    }\n",
              "</style>\n",
              "<table border=\"1\" class=\"dataframe\">\n",
              "  <thead>\n",
              "    <tr style=\"text-align: right;\">\n",
              "      <th></th>\n",
              "      <th>TARGET</th>\n",
              "      <th>DAYS_BIRTH</th>\n",
              "      <th>EXT_SOURCE_1</th>\n",
              "      <th>EXT_SOURCE_2</th>\n",
              "      <th>EXT_SOURCE_3</th>\n",
              "    </tr>\n",
              "  </thead>\n",
              "  <tbody>\n",
              "    <tr>\n",
              "      <th>TARGET</th>\n",
              "      <td>1.000000</td>\n",
              "      <td>-0.078239</td>\n",
              "      <td>-0.155317</td>\n",
              "      <td>-0.160472</td>\n",
              "      <td>-0.178919</td>\n",
              "    </tr>\n",
              "    <tr>\n",
              "      <th>DAYS_BIRTH</th>\n",
              "      <td>-0.078239</td>\n",
              "      <td>1.000000</td>\n",
              "      <td>0.600610</td>\n",
              "      <td>0.091996</td>\n",
              "      <td>0.205478</td>\n",
              "    </tr>\n",
              "    <tr>\n",
              "      <th>EXT_SOURCE_1</th>\n",
              "      <td>-0.155317</td>\n",
              "      <td>0.600610</td>\n",
              "      <td>1.000000</td>\n",
              "      <td>0.213982</td>\n",
              "      <td>0.186846</td>\n",
              "    </tr>\n",
              "    <tr>\n",
              "      <th>EXT_SOURCE_2</th>\n",
              "      <td>-0.160472</td>\n",
              "      <td>0.091996</td>\n",
              "      <td>0.213982</td>\n",
              "      <td>1.000000</td>\n",
              "      <td>0.109167</td>\n",
              "    </tr>\n",
              "    <tr>\n",
              "      <th>EXT_SOURCE_3</th>\n",
              "      <td>-0.178919</td>\n",
              "      <td>0.205478</td>\n",
              "      <td>0.186846</td>\n",
              "      <td>0.109167</td>\n",
              "      <td>1.000000</td>\n",
              "    </tr>\n",
              "  </tbody>\n",
              "</table>\n",
              "</div>\n",
              "      <button class=\"colab-df-convert\" onclick=\"convertToInteractive('df-aa9d504d-67a0-487b-9ffc-fae68e10b9da')\"\n",
              "              title=\"Convert this dataframe to an interactive table.\"\n",
              "              style=\"display:none;\">\n",
              "        \n",
              "  <svg xmlns=\"http://www.w3.org/2000/svg\" height=\"24px\"viewBox=\"0 0 24 24\"\n",
              "       width=\"24px\">\n",
              "    <path d=\"M0 0h24v24H0V0z\" fill=\"none\"/>\n",
              "    <path d=\"M18.56 5.44l.94 2.06.94-2.06 2.06-.94-2.06-.94-.94-2.06-.94 2.06-2.06.94zm-11 1L8.5 8.5l.94-2.06 2.06-.94-2.06-.94L8.5 2.5l-.94 2.06-2.06.94zm10 10l.94 2.06.94-2.06 2.06-.94-2.06-.94-.94-2.06-.94 2.06-2.06.94z\"/><path d=\"M17.41 7.96l-1.37-1.37c-.4-.4-.92-.59-1.43-.59-.52 0-1.04.2-1.43.59L10.3 9.45l-7.72 7.72c-.78.78-.78 2.05 0 2.83L4 21.41c.39.39.9.59 1.41.59.51 0 1.02-.2 1.41-.59l7.78-7.78 2.81-2.81c.8-.78.8-2.07 0-2.86zM5.41 20L4 18.59l7.72-7.72 1.47 1.35L5.41 20z\"/>\n",
              "  </svg>\n",
              "      </button>\n",
              "      \n",
              "  <style>\n",
              "    .colab-df-container {\n",
              "      display:flex;\n",
              "      flex-wrap:wrap;\n",
              "      gap: 12px;\n",
              "    }\n",
              "\n",
              "    .colab-df-convert {\n",
              "      background-color: #E8F0FE;\n",
              "      border: none;\n",
              "      border-radius: 50%;\n",
              "      cursor: pointer;\n",
              "      display: none;\n",
              "      fill: #1967D2;\n",
              "      height: 32px;\n",
              "      padding: 0 0 0 0;\n",
              "      width: 32px;\n",
              "    }\n",
              "\n",
              "    .colab-df-convert:hover {\n",
              "      background-color: #E2EBFA;\n",
              "      box-shadow: 0px 1px 2px rgba(60, 64, 67, 0.3), 0px 1px 3px 1px rgba(60, 64, 67, 0.15);\n",
              "      fill: #174EA6;\n",
              "    }\n",
              "\n",
              "    [theme=dark] .colab-df-convert {\n",
              "      background-color: #3B4455;\n",
              "      fill: #D2E3FC;\n",
              "    }\n",
              "\n",
              "    [theme=dark] .colab-df-convert:hover {\n",
              "      background-color: #434B5C;\n",
              "      box-shadow: 0px 1px 3px 1px rgba(0, 0, 0, 0.15);\n",
              "      filter: drop-shadow(0px 1px 2px rgba(0, 0, 0, 0.3));\n",
              "      fill: #FFFFFF;\n",
              "    }\n",
              "  </style>\n",
              "\n",
              "      <script>\n",
              "        const buttonEl =\n",
              "          document.querySelector('#df-aa9d504d-67a0-487b-9ffc-fae68e10b9da button.colab-df-convert');\n",
              "        buttonEl.style.display =\n",
              "          google.colab.kernel.accessAllowed ? 'block' : 'none';\n",
              "\n",
              "        async function convertToInteractive(key) {\n",
              "          const element = document.querySelector('#df-aa9d504d-67a0-487b-9ffc-fae68e10b9da');\n",
              "          const dataTable =\n",
              "            await google.colab.kernel.invokeFunction('convertToInteractive',\n",
              "                                                     [key], {});\n",
              "          if (!dataTable) return;\n",
              "\n",
              "          const docLinkHtml = 'Like what you see? Visit the ' +\n",
              "            '<a target=\"_blank\" href=https://colab.research.google.com/notebooks/data_table.ipynb>data table notebook</a>'\n",
              "            + ' to learn more about interactive tables.';\n",
              "          element.innerHTML = '';\n",
              "          dataTable['output_type'] = 'display_data';\n",
              "          await google.colab.output.renderOutput(dataTable, element);\n",
              "          const docLink = document.createElement('div');\n",
              "          docLink.innerHTML = docLinkHtml;\n",
              "          element.appendChild(docLink);\n",
              "        }\n",
              "      </script>\n",
              "    </div>\n",
              "  </div>\n",
              "  "
            ]
          },
          "metadata": {},
          "execution_count": 16
        }
      ]
    },
    {
      "cell_type": "code",
      "source": [
        "plt.figure(figsize=(8, 5))\n",
        "sns.heatmap(five_corr, cmap='Blues', annot=True, fmt='.2f')\n",
        "plt.title('Korelasi Heatmap')"
      ],
      "metadata": {
        "colab": {
          "base_uri": "https://localhost:8080/",
          "height": 0
        },
        "id": "6UepoNsj4r9E",
        "outputId": "4e8fe617-d28b-48c6-8a83-20e8cfb362ee"
      },
      "id": "6UepoNsj4r9E",
      "execution_count": 17,
      "outputs": [
        {
          "output_type": "execute_result",
          "data": {
            "text/plain": [
              "Text(0.5, 1.0, 'Korelasi Heatmap')"
            ]
          },
          "metadata": {},
          "execution_count": 17
        },
        {
          "output_type": "display_data",
          "data": {
            "text/plain": [
              "<Figure size 800x500 with 2 Axes>"
            ],
            "image/png": "[encoded data removed]"
          },
          "metadata": {}
        }
      ]
    },
    {
      "cell_type": "markdown",
      "source": [
        "## Distribusi TARGET berdasarkan korelasi Heatmap"
      ],
      "metadata": {
        "id": "7MyMFFj8Dhp8"
      },
      "id": "7MyMFFj8Dhp8"
    },
    {
      "cell_type": "code",
      "source": [
        "appl_train['TARGET'].value_counts()"
      ],
      "metadata": {
        "colab": {
          "base_uri": "https://localhost:8080/"
        },
        "id": "S7TlHv4RDyM1",
        "outputId": "48b6ed98-dcf5-4942-8d44-b3cfad42af65"
      },
      "id": "S7TlHv4RDyM1",
      "execution_count": 18,
      "outputs": [
        {
          "output_type": "execute_result",
          "data": {
            "text/plain": [
              "0    282686\n",
              "1     24825\n",
              "Name: TARGET, dtype: int64"
            ]
          },
          "metadata": {},
          "execution_count": 18
        }
      ]
    },
    {
      "cell_type": "code",
      "source": [
        "target = appl_train['TARGET'].value_counts()\n",
        "df = pd.DataFrame({'labels': target.index, 'values': target.values})\n",
        "\n",
        "plt.figure(figsize=(4,4))\n",
        "plt.title(\"TARGET\")\n",
        "\n",
        "sns.barplot(x = 'labels', y='values', data=df)\n",
        "locs, labels = plt.xticks()\n",
        "plt.show()"
      ],
      "metadata": {
        "colab": {
          "base_uri": "https://localhost:8080/",
          "height": 0
        },
        "id": "mwecRhGIEUo9",
        "outputId": "1aed192d-9d1c-4823-b075-73094bf37fab"
      },
      "id": "mwecRhGIEUo9",
      "execution_count": 19,
      "outputs": [
        {
          "output_type": "display_data",
          "data": {
            "text/plain": [
              "<Figure size 400x400 with 1 Axes>"
            ],
            "image/png": "[encoded data removed]"
          },
          "metadata": {}
        }
      ]
    },
    {
      "cell_type": "markdown",
      "source": [
        "TARGET pada appl_train mempunyai value sebagai berikut :\n",
        "\n",
        "- Value 0 diartikan sebagai klien yang sanggup membayar pinjaman\n",
        "\n",
        "- Value 1 diartikan sebagai klien yang mempunyai kendala pembayaran\n",
        "\n",
        "Berikut distribusi TARGET berdasarkan korelasi Heatmap yang sudah dicari sebelumnya"
      ],
      "metadata": {
        "id": "pX1GI4ZhD_qF"
      },
      "id": "pX1GI4ZhD_qF"
    },
    {
      "cell_type": "code",
      "source": [
        "plt.figure(figsize = (6, 4))\n",
        "\n",
        "sns.kdeplot(appl_train.loc[appl_train['TARGET'] == 0, 'DAYS_BIRTH'], label = 'target == 0')\n",
        "sns.kdeplot(appl_train.loc[appl_train['TARGET'] == 1, 'DAYS_BIRTH'], label = 'target == 1')\n",
        "\n",
        "\n",
        "plt.xlabel('Age (years)'); plt.ylabel('Density'); plt.title('Distribusi Konsumen berdasarkan Usia');"
      ],
      "metadata": {
        "colab": {
          "base_uri": "https://localhost:8080/",
          "height": 0
        },
        "id": "URT3M0kDDsvT",
        "outputId": "b6216fe9-1d3a-4f4d-8e39-e3b53ef050f3"
      },
      "id": "URT3M0kDDsvT",
      "execution_count": 20,
      "outputs": [
        {
          "output_type": "display_data",
          "data": {
            "text/plain": [
              "<Figure size 600x400 with 1 Axes>"
            ],
            "image/png": "[encoded data removed]"
          },
          "metadata": {}
        }
      ]
    },
    {
      "cell_type": "markdown",
      "source": [
        "Bisa dilihat bahwa konsumen yang mengajukan pinjaman rentang usia 20 hingga 70 tahun dengan konsumen terbanyak di rentang usia 20-40 tahun. Selain itu, konsumen dengan rentang usia hingga 30 tahun mengalami kendala pembayaran."
      ],
      "metadata": {
        "id": "5pHrifs_ErkA"
      },
      "id": "5pHrifs_ErkA"
    },
    {
      "cell_type": "code",
      "source": [
        "plt.figure(figsize = (6, 3))\n",
        "\n",
        "sns.kdeplot(appl_train.loc[appl_train['TARGET'] == 0, 'EXT_SOURCE_1'], label = 'target == 0')\n",
        "sns.kdeplot(appl_train.loc[appl_train['TARGET'] == 1, 'EXT_SOURCE_1'], label = 'target == 1')\n",
        "\n",
        "plt.xlabel('Age (years)'); plt.ylabel('Density'); plt.title('Distribusi EXT_SOURCE_1')"
      ],
      "metadata": {
        "colab": {
          "base_uri": "https://localhost:8080/",
          "height": 0
        },
        "id": "OnjdjBvECvca",
        "outputId": "aa9e82b9-3d99-413a-bc07-9ab34e873dbd"
      },
      "id": "OnjdjBvECvca",
      "execution_count": 21,
      "outputs": [
        {
          "output_type": "execute_result",
          "data": {
            "text/plain": [
              "Text(0.5, 1.0, 'Distribusi EXT_SOURCE_1')"
            ]
          },
          "metadata": {},
          "execution_count": 21
        },
        {
          "output_type": "display_data",
          "data": {
            "text/plain": [
              "<Figure size 600x300 with 1 Axes>"
            ],
            "image/png": "[encoded data removed]"
          },
          "metadata": {}
        }
      ]
    },
    {
      "cell_type": "code",
      "source": [
        "plt.figure(figsize = (6, 3))\n",
        "\n",
        "sns.kdeplot(appl_train.loc[appl_train['TARGET'] == 0, 'EXT_SOURCE_2'], label = 'target == 0')\n",
        "sns.kdeplot(appl_train.loc[appl_train['TARGET'] == 1, 'EXT_SOURCE_2'], label = 'target == 1')\n",
        "\n",
        "plt.xlabel('Age (years)'); plt.ylabel('Density'); plt.title('Distribusi EXT_SOURCE_2')"
      ],
      "metadata": {
        "colab": {
          "base_uri": "https://localhost:8080/",
          "height": 0
        },
        "id": "ZLs4vTAKDKsp",
        "outputId": "788cf32b-41de-4478-811c-7a0957f92399"
      },
      "id": "ZLs4vTAKDKsp",
      "execution_count": 22,
      "outputs": [
        {
          "output_type": "execute_result",
          "data": {
            "text/plain": [
              "Text(0.5, 1.0, 'Distribusi EXT_SOURCE_2')"
            ]
          },
          "metadata": {},
          "execution_count": 22
        },
        {
          "output_type": "display_data",
          "data": {
            "text/plain": [
              "<Figure size 600x300 with 1 Axes>"
            ],
            "image/png": "[encoded data removed]"
          },
          "metadata": {}
        }
      ]
    },
    {
      "cell_type": "code",
      "source": [
        "plt.figure(figsize = (6, 3))\n",
        "\n",
        "sns.kdeplot(appl_train.loc[appl_train['TARGET'] == 0, 'EXT_SOURCE_3'], label = 'target == 0')\n",
        "sns.kdeplot(appl_train.loc[appl_train['TARGET'] == 1, 'EXT_SOURCE_3'], label = 'target == 1')\n",
        "\n",
        "plt.xlabel('Age (years)'); plt.ylabel('Density'); plt.title('Distribusi EXT_SOURCE_3')"
      ],
      "metadata": {
        "colab": {
          "base_uri": "https://localhost:8080/",
          "height": 0
        },
        "id": "EiaS2OEJDVk-",
        "outputId": "13bd6288-b662-42f7-835c-2a12df3408bb"
      },
      "id": "EiaS2OEJDVk-",
      "execution_count": 23,
      "outputs": [
        {
          "output_type": "execute_result",
          "data": {
            "text/plain": [
              "Text(0.5, 1.0, 'Distribusi EXT_SOURCE_3')"
            ]
          },
          "metadata": {},
          "execution_count": 23
        },
        {
          "output_type": "display_data",
          "data": {
            "text/plain": [
              "<Figure size 600x300 with 1 Axes>"
            ],
            "image/png": "[encoded data removed]"
          },
          "metadata": {}
        }
      ]
    },
    {
      "cell_type": "markdown",
      "source": [
        "## Distribusi TARGET lainnya"
      ],
      "metadata": {
        "id": "TcSiG8WnzORa"
      },
      "id": "TcSiG8WnzORa"
    },
    {
      "cell_type": "markdown",
      "source": [
        "Selanjutnya Distribusi TARGET dari berbagai aspek yang terdapat dari kolom. Untuk memahaminya, TARGET pada appl_train mempunyai value sebagai berikut :\n",
        "\n",
        "- Value 0 diartikan sebagai klien yang sanggup membayar pinjaman\n",
        "\n",
        "- Value 1 diartikan sebagai klien yang mempunyai kendala pembayaran"
      ],
      "metadata": {
        "id": "bfs8uuf91G97"
      },
      "id": "bfs8uuf91G97"
    },
    {
      "cell_type": "code",
      "source": [
        "plt.figure(figsize = (8,5))\n",
        "\n",
        "sns.countplot(appl_train, x='NAME_CONTRACT_TYPE', hue='TARGET')\n",
        "\n",
        "plt.xlabel('Name Contract'); plt.ylabel('Density'); plt.title('Distribusi Konsumen berdasarkan Jenis Peminjaman');"
      ],
      "metadata": {
        "colab": {
          "base_uri": "https://localhost:8080/",
          "height": 0
        },
        "id": "V07Nkl0ezV1z",
        "outputId": "ab839989-13cb-481e-d363-ecff744bfc36"
      },
      "id": "V07Nkl0ezV1z",
      "execution_count": 24,
      "outputs": [
        {
          "output_type": "display_data",
          "data": {
            "text/plain": [
              "<Figure size 800x500 with 1 Axes>"
            ],
            "image/png": "[encoded data removed]"
          },
          "metadata": {}
        }
      ]
    },
    {
      "cell_type": "code",
      "source": [
        "plt.figure(figsize = (8,5))\n",
        "\n",
        "sns.countplot(appl_train, x='CODE_GENDER', hue='TARGET')\n",
        "\n",
        "plt.xlabel('Gender'); plt.ylabel('Density'); plt.title('Distribusi Konsumen berdasarkan Jenis Kelamin');"
      ],
      "metadata": {
        "colab": {
          "base_uri": "https://localhost:8080/",
          "height": 0
        },
        "id": "rr3KTh8IzQKo",
        "outputId": "e5f893f0-1965-40e9-85ba-ed12c4a04a41"
      },
      "id": "rr3KTh8IzQKo",
      "execution_count": 25,
      "outputs": [
        {
          "output_type": "display_data",
          "data": {
            "text/plain": [
              "<Figure size 800x500 with 1 Axes>"
            ],
            "image/png": "[encoded data removed]"
          },
          "metadata": {}
        }
      ]
    },
    {
      "cell_type": "code",
      "source": [
        "plt.figure(figsize = (15,10))\n",
        "\n",
        "sns.countplot(appl_train, x='NAME_INCOME_TYPE', hue='TARGET')\n",
        "\n",
        "plt.xlabel('Income'); plt.ylabel('Density'); plt.title('Distribusi Konsumen berdasarkan Jenis Pendapatan');"
      ],
      "metadata": {
        "colab": {
          "base_uri": "https://localhost:8080/",
          "height": 0
        },
        "id": "-oRnhdIN0U2W",
        "outputId": "16662a24-e39b-4ca2-9763-965521a64102"
      },
      "id": "-oRnhdIN0U2W",
      "execution_count": 26,
      "outputs": [
        {
          "output_type": "display_data",
          "data": {
            "text/plain": [
              "<Figure size 1500x1000 with 1 Axes>"
            ],
            "image/png": "[encoded data removed]"
          },
          "metadata": {}
        }
      ]
    },
    {
      "cell_type": "code",
      "source": [
        "plt.figure(figsize = (15,10))\n",
        "\n",
        "sns.countplot(appl_train, x='NAME_EDUCATION_TYPE', hue='TARGET')\n",
        "\n",
        "plt.xlabel('Education'); plt.ylabel('Density'); plt.title('Distribusi Konsumen berdasarkan Status Pendidikan');"
      ],
      "metadata": {
        "colab": {
          "base_uri": "https://localhost:8080/",
          "height": 0
        },
        "id": "Jl5gfmxM0pjv",
        "outputId": "92fe0ae4-5e66-467f-c603-91b781ec66a8"
      },
      "id": "Jl5gfmxM0pjv",
      "execution_count": 27,
      "outputs": [
        {
          "output_type": "display_data",
          "data": {
            "text/plain": [
              "<Figure size 1500x1000 with 1 Axes>"
            ],
            "image/png": "[encoded data removed]"
          },
          "metadata": {}
        }
      ]
    },
    {
      "cell_type": "code",
      "source": [
        "plt.figure(figsize = (15,10))\n",
        "\n",
        "sns.countplot(appl_train, x='NAME_FAMILY_STATUS', hue='TARGET')\n",
        "\n",
        "plt.xlabel('Marriage Status)'); plt.ylabel('Density'); plt.title('Distribusi Konsumen berdasarkan Status Pernikahan');"
      ],
      "metadata": {
        "colab": {
          "base_uri": "https://localhost:8080/",
          "height": 0
        },
        "id": "KIgdTaf00w96",
        "outputId": "7c394b26-2cd2-481f-9bd7-ad829f3c4a5c"
      },
      "id": "KIgdTaf00w96",
      "execution_count": 28,
      "outputs": [
        {
          "output_type": "display_data",
          "data": {
            "text/plain": [
              "<Figure size 1500x1000 with 1 Axes>"
            ],
            "image/png": "[encoded data removed]"
          },
          "metadata": {}
        }
      ]
    },
    {
      "cell_type": "code",
      "source": [
        "plt.figure(figsize = (35,10))\n",
        "\n",
        "sns.countplot(appl_train, x='OCCUPATION_TYPE', hue='TARGET')\n",
        "\n",
        "plt.xlabel('Occupation'); plt.ylabel('Density'); plt.title('Distribusi Konsumen berdasarkan Status Pekerjaan');"
      ],
      "metadata": {
        "colab": {
          "base_uri": "https://localhost:8080/",
          "height": 0
        },
        "id": "3fU3GGlt0zcq",
        "outputId": "75424237-f244-45a4-d572-5f3e65fd534a"
      },
      "id": "3fU3GGlt0zcq",
      "execution_count": 29,
      "outputs": [
        {
          "output_type": "display_data",
          "data": {
            "text/plain": [
              "<Figure size 3500x1000 with 1 Axes>"
            ],
            "image/png": "[encoded data removed]"
          },
          "metadata": {}
        }
      ]
    },
    {
      "cell_type": "markdown",
      "source": [
        "## Melihat isi dari setiap kolom yang ada"
      ],
      "metadata": {
        "id": "rjdvMnMNRlF9"
      },
      "id": "rjdvMnMNRlF9"
    },
    {
      "cell_type": "markdown",
      "source": [
        "Untuk melihat isi dari setiap kolom selain dari distribusi sebelumnya, berikut akan dijabarkan isi daripada kolom appl_train"
      ],
      "metadata": {
        "id": "Uen2gU3qRsJl"
      },
      "id": "Uen2gU3qRsJl"
    },
    {
      "cell_type": "code",
      "source": [
        "for col in cats:\n",
        "  print('-----'*10)\n",
        "  print(f'Values of column {col}:')\n",
        "  print(appl_train[col].value_counts())"
      ],
      "metadata": {
        "colab": {
          "base_uri": "https://localhost:8080/"
        },
        "id": "JZHnzdX8RprR",
        "outputId": "dba02934-3032-437c-a38b-c0f7fbc6df7c"
      },
      "id": "JZHnzdX8RprR",
      "execution_count": 30,
      "outputs": [
        {
          "output_type": "stream",
          "name": "stdout",
          "text": [
            "--------------------------------------------------\n",
            "Values of column NAME_CONTRACT_TYPE:\n",
            "Cash loans         278232\n",
            "Revolving loans     29279\n",
            "Name: NAME_CONTRACT_TYPE, dtype: int64\n",
            "--------------------------------------------------\n",
            "Values of column CODE_GENDER:\n",
            "F      202448\n",
            "M      105059\n",
            "XNA         4\n",
            "Name: CODE_GENDER, dtype: int64\n",
            "--------------------------------------------------\n",
            "Values of column FLAG_OWN_CAR:\n",
            "N    202924\n",
            "Y    104587\n",
            "Name: FLAG_OWN_CAR, dtype: int64\n",
            "--------------------------------------------------\n",
            "Values of column FLAG_OWN_REALTY:\n",
            "Y    213312\n",
            "N     94199\n",
            "Name: FLAG_OWN_REALTY, dtype: int64\n",
            "--------------------------------------------------\n",
            "Values of column NAME_TYPE_SUITE:\n",
            "Unaccompanied      248526\n",
            "Family              40149\n",
            "Spouse, partner     11370\n",
            "Children             3267\n",
            "Other_B              1770\n",
            "Other_A               866\n",
            "Group of people       271\n",
            "Name: NAME_TYPE_SUITE, dtype: int64\n",
            "--------------------------------------------------\n",
            "Values of column NAME_INCOME_TYPE:\n",
            "Working                 158774\n",
            "Commercial associate     71617\n",
            "Pensioner                55362\n",
            "State servant            21703\n",
            "Unemployed                  22\n",
            "Student                     18\n",
            "Businessman                 10\n",
            "Maternity leave              5\n",
            "Name: NAME_INCOME_TYPE, dtype: int64\n",
            "--------------------------------------------------\n",
            "Values of column NAME_EDUCATION_TYPE:\n",
            "Secondary / secondary special    218391\n",
            "Higher education                  74863\n",
            "Incomplete higher                 10277\n",
            "Lower secondary                    3816\n",
            "Academic degree                     164\n",
            "Name: NAME_EDUCATION_TYPE, dtype: int64\n",
            "--------------------------------------------------\n",
            "Values of column NAME_FAMILY_STATUS:\n",
            "Married                 196432\n",
            "Single / not married     45444\n",
            "Civil marriage           29775\n",
            "Separated                19770\n",
            "Widow                    16088\n",
            "Unknown                      2\n",
            "Name: NAME_FAMILY_STATUS, dtype: int64\n",
            "--------------------------------------------------\n",
            "Values of column NAME_HOUSING_TYPE:\n",
            "House / apartment      272868\n",
            "With parents            14840\n",
            "Municipal apartment     11183\n",
            "Rented apartment         4881\n",
            "Office apartment         2617\n",
            "Co-op apartment          1122\n",
            "Name: NAME_HOUSING_TYPE, dtype: int64\n",
            "--------------------------------------------------\n",
            "Values of column OCCUPATION_TYPE:\n",
            "Laborers                 55186\n",
            "Sales staff              32102\n",
            "Core staff               27570\n",
            "Managers                 21371\n",
            "Drivers                  18603\n",
            "High skill tech staff    11380\n",
            "Accountants               9813\n",
            "Medicine staff            8537\n",
            "Security staff            6721\n",
            "Cooking staff             5946\n",
            "Cleaning staff            4653\n",
            "Private service staff     2652\n",
            "Low-skill Laborers        2093\n",
            "Waiters/barmen staff      1348\n",
            "Secretaries               1305\n",
            "Realty agents              751\n",
            "HR staff                   563\n",
            "IT staff                   526\n",
            "Name: OCCUPATION_TYPE, dtype: int64\n",
            "--------------------------------------------------\n",
            "Values of column WEEKDAY_APPR_PROCESS_START:\n",
            "TUESDAY      53901\n",
            "WEDNESDAY    51934\n",
            "MONDAY       50714\n",
            "THURSDAY     50591\n",
            "FRIDAY       50338\n",
            "SATURDAY     33852\n",
            "SUNDAY       16181\n",
            "Name: WEEKDAY_APPR_PROCESS_START, dtype: int64\n",
            "--------------------------------------------------\n",
            "Values of column ORGANIZATION_TYPE:\n",
            "Business Entity Type 3    67992\n",
            "XNA                       55374\n",
            "Self-employed             38412\n",
            "Other                     16683\n",
            "Medicine                  11193\n",
            "Business Entity Type 2    10553\n",
            "Government                10404\n",
            "School                     8893\n",
            "Trade: type 7              7831\n",
            "Kindergarten               6880\n",
            "Construction               6721\n",
            "Business Entity Type 1     5984\n",
            "Transport: type 4          5398\n",
            "Trade: type 3              3492\n",
            "Industry: type 9           3368\n",
            "Industry: type 3           3278\n",
            "Security                   3247\n",
            "Housing                    2958\n",
            "Industry: type 11          2704\n",
            "Military                   2634\n",
            "Bank                       2507\n",
            "Agriculture                2454\n",
            "Police                     2341\n",
            "Transport: type 2          2204\n",
            "Postal                     2157\n",
            "Security Ministries        1974\n",
            "Trade: type 2              1900\n",
            "Restaurant                 1811\n",
            "Services                   1575\n",
            "University                 1327\n",
            "Industry: type 7           1307\n",
            "Transport: type 3          1187\n",
            "Industry: type 1           1039\n",
            "Hotel                       966\n",
            "Electricity                 950\n",
            "Industry: type 4            877\n",
            "Trade: type 6               631\n",
            "Industry: type 5            599\n",
            "Insurance                   597\n",
            "Telecom                     577\n",
            "Emergency                   560\n",
            "Industry: type 2            458\n",
            "Advertising                 429\n",
            "Realtor                     396\n",
            "Culture                     379\n",
            "Industry: type 12           369\n",
            "Trade: type 1               348\n",
            "Mobile                      317\n",
            "Legal Services              305\n",
            "Cleaning                    260\n",
            "Transport: type 1           201\n",
            "Industry: type 6            112\n",
            "Industry: type 10           109\n",
            "Religion                     85\n",
            "Industry: type 13            67\n",
            "Trade: type 4                64\n",
            "Trade: type 5                49\n",
            "Industry: type 8             24\n",
            "Name: ORGANIZATION_TYPE, dtype: int64\n",
            "--------------------------------------------------\n",
            "Values of column FONDKAPREMONT_MODE:\n",
            "reg oper account         73830\n",
            "reg oper spec account    12080\n",
            "not specified             5687\n",
            "org spec account          5619\n",
            "Name: FONDKAPREMONT_MODE, dtype: int64\n",
            "--------------------------------------------------\n",
            "Values of column HOUSETYPE_MODE:\n",
            "block of flats      150503\n",
            "specific housing      1499\n",
            "terraced house        1212\n",
            "Name: HOUSETYPE_MODE, dtype: int64\n",
            "--------------------------------------------------\n",
            "Values of column WALLSMATERIAL_MODE:\n",
            "Panel           66040\n",
            "Stone, brick    64815\n",
            "Block            9253\n",
            "Wooden           5362\n",
            "Mixed            2296\n",
            "Monolithic       1779\n",
            "Others           1625\n",
            "Name: WALLSMATERIAL_MODE, dtype: int64\n",
            "--------------------------------------------------\n",
            "Values of column EMERGENCYSTATE_MODE:\n",
            "No     159428\n",
            "Yes      2328\n",
            "Name: EMERGENCYSTATE_MODE, dtype: int64\n"
          ]
        }
      ]
    },
    {
      "cell_type": "markdown",
      "source": [
        "# **Data Preprocessing**"
      ],
      "metadata": {
        "id": "QCj9DHyggrkk"
      },
      "id": "QCj9DHyggrkk"
    },
    {
      "cell_type": "markdown",
      "source": [
        "Setelah melakukan EDA, tahap selanjutnya adalah preprocessing yaitu berupa mencari data duplikat, data missing, membuat label encoder beserta one hot encoder, dan membuat dataset appl_train dan appl_test identik sama. Berikut akan ditelusuri."
      ],
      "metadata": {
        "id": "4173a6343KoS"
      },
      "id": "4173a6343KoS"
    },
    {
      "cell_type": "markdown",
      "source": [
        "## Mencari Duplicated Value"
      ],
      "metadata": {
        "id": "7kn0dr8D1IPJ"
      },
      "id": "7kn0dr8D1IPJ"
    },
    {
      "cell_type": "code",
      "source": [
        "print('appl_train mempunyai nilai duplikat sebanyak', appl_train.duplicated().sum())\n",
        "print('appl_test mempunyai nilai duplikat sebanyak', appl_test.duplicated().sum())"
      ],
      "metadata": {
        "colab": {
          "base_uri": "https://localhost:8080/"
        },
        "id": "jCi3lJ961Hvf",
        "outputId": "027cbde6-d7fe-4e5a-86ec-693e17343750"
      },
      "id": "jCi3lJ961Hvf",
      "execution_count": 31,
      "outputs": [
        {
          "output_type": "stream",
          "name": "stdout",
          "text": [
            "appl_train mempunyai nilai duplikat sebanyak 0\n",
            "appl_test mempunyai nilai duplikat sebanyak 0\n"
          ]
        }
      ]
    },
    {
      "cell_type": "markdown",
      "source": [
        "Karena tidak ada data duplikat, selanjutnya mencari missing value"
      ],
      "metadata": {
        "id": "HkPnMLpf1OqZ"
      },
      "id": "HkPnMLpf1OqZ"
    },
    {
      "cell_type": "markdown",
      "source": [
        "## Mencari Missing Value"
      ],
      "metadata": {
        "id": "WcxtuRmebZ70"
      },
      "id": "WcxtuRmebZ70"
    },
    {
      "cell_type": "markdown",
      "source": [
        "Untuk mencari null value pada dataset, menggunakan sum setiap kolom dan diurutkan berdasarkan yang terbanyak. Hasilnya adalah seberapa banyak data yang null dan persentasenya."
      ],
      "metadata": {
        "id": "lkPeCdE8QIx9"
      },
      "id": "lkPeCdE8QIx9"
    },
    {
      "cell_type": "code",
      "source": [
        "null_value_total = appl_train.isnull().sum().sort_values(ascending=False)\n",
        "null_value_persen = (appl_train.isnull().sum()/appl_train.isnull().count()*100).sort_values(ascending=False)\n",
        "null_value_appl_train = pd.concat([null_value_total, null_value_persen], axis=1, keys=['Total Null Value', 'Persentase'])\n",
        "null_value_appl_train.head(20)"
      ],
      "metadata": {
        "colab": {
          "base_uri": "https://localhost:8080/",
          "height": 0
        },
        "id": "IbH_Q4Q-bYXT",
        "outputId": "93d42f92-303d-4f40-ba0a-0ee917255012"
      },
      "id": "IbH_Q4Q-bYXT",
      "execution_count": 32,
      "outputs": [
        {
          "output_type": "execute_result",
          "data": {
            "text/plain": [
              "                          Total Null Value  Persentase\n",
              "COMMONAREA_MEDI                     214865   69.872297\n",
              "COMMONAREA_AVG                      214865   69.872297\n",
              "COMMONAREA_MODE                     214865   69.872297\n",
              "NONLIVINGAPARTMENTS_MEDI            213514   69.432963\n",
              "NONLIVINGAPARTMENTS_MODE            213514   69.432963\n",
              "NONLIVINGAPARTMENTS_AVG             213514   69.432963\n",
              "FONDKAPREMONT_MODE                  210295   68.386172\n",
              "LIVINGAPARTMENTS_AVG                210199   68.354953\n",
              "LIVINGAPARTMENTS_MODE               210199   68.354953\n",
              "LIVINGAPARTMENTS_MEDI               210199   68.354953\n",
              "FLOORSMIN_MODE                      208642   67.848630\n",
              "FLOORSMIN_AVG                       208642   67.848630\n",
              "FLOORSMIN_MEDI                      208642   67.848630\n",
              "YEARS_BUILD_MEDI                    204488   66.497784\n",
              "YEARS_BUILD_AVG                     204488   66.497784\n",
              "YEARS_BUILD_MODE                    204488   66.497784\n",
              "OWN_CAR_AGE                         202929   65.990810\n",
              "LANDAREA_AVG                        182590   59.376738\n",
              "LANDAREA_MODE                       182590   59.376738\n",
              "LANDAREA_MEDI                       182590   59.376738"
            ],
            "text/html": [
              "\n",
              "  <div id=\"df-b75b7490-bf6c-42be-8091-69e0c0f6d1f6\">\n",
              "    <div class=\"colab-df-container\">\n",
              "      <div>\n",
              "<style scoped>\n",
              "    .dataframe tbody tr th:only-of-type {\n",
              "        vertical-align: middle;\n",
              "    }\n",
              "\n",
              "    .dataframe tbody tr th {\n",
              "        vertical-align: top;\n",
              "    }\n",
              "\n",
              "    .dataframe thead th {\n",
              "        text-align: right;\n",
              "    }\n",
              "</style>\n",
              "<table border=\"1\" class=\"dataframe\">\n",
              "  <thead>\n",
              "    <tr style=\"text-align: right;\">\n",
              "      <th></th>\n",
              "      <th>Total Null Value</th>\n",
              "      <th>Persentase</th>\n",
              "    </tr>\n",
              "  </thead>\n",
              "  <tbody>\n",
              "    <tr>\n",
              "      <th>COMMONAREA_MEDI</th>\n",
              "      <td>214865</td>\n",
              "      <td>69.872297</td>\n",
              "    </tr>\n",
              "    <tr>\n",
              "      <th>COMMONAREA_AVG</th>\n",
              "      <td>214865</td>\n",
              "      <td>69.872297</td>\n",
              "    </tr>\n",
              "    <tr>\n",
              "      <th>COMMONAREA_MODE</th>\n",
              "      <td>214865</td>\n",
              "      <td>69.872297</td>\n",
              "    </tr>\n",
              "    <tr>\n",
              "      <th>NONLIVINGAPARTMENTS_MEDI</th>\n",
              "      <td>213514</td>\n",
              "      <td>69.432963</td>\n",
              "    </tr>\n",
              "    <tr>\n",
              "      <th>NONLIVINGAPARTMENTS_MODE</th>\n",
              "      <td>213514</td>\n",
              "      <td>69.432963</td>\n",
              "    </tr>\n",
              "    <tr>\n",
              "      <th>NONLIVINGAPARTMENTS_AVG</th>\n",
              "      <td>213514</td>\n",
              "      <td>69.432963</td>\n",
              "    </tr>\n",
              "    <tr>\n",
              "      <th>FONDKAPREMONT_MODE</th>\n",
              "      <td>210295</td>\n",
              "      <td>68.386172</td>\n",
              "    </tr>\n",
              "    <tr>\n",
              "      <th>LIVINGAPARTMENTS_AVG</th>\n",
              "      <td>210199</td>\n",
              "      <td>68.354953</td>\n",
              "    </tr>\n",
              "    <tr>\n",
              "      <th>LIVINGAPARTMENTS_MODE</th>\n",
              "      <td>210199</td>\n",
              "      <td>68.354953</td>\n",
              "    </tr>\n",
              "    <tr>\n",
              "      <th>LIVINGAPARTMENTS_MEDI</th>\n",
              "      <td>210199</td>\n",
              "      <td>68.354953</td>\n",
              "    </tr>\n",
              "    <tr>\n",
              "      <th>FLOORSMIN_MODE</th>\n",
              "      <td>208642</td>\n",
              "      <td>67.848630</td>\n",
              "    </tr>\n",
              "    <tr>\n",
              "      <th>FLOORSMIN_AVG</th>\n",
              "      <td>208642</td>\n",
              "      <td>67.848630</td>\n",
              "    </tr>\n",
              "    <tr>\n",
              "      <th>FLOORSMIN_MEDI</th>\n",
              "      <td>208642</td>\n",
              "      <td>67.848630</td>\n",
              "    </tr>\n",
              "    <tr>\n",
              "      <th>YEARS_BUILD_MEDI</th>\n",
              "      <td>204488</td>\n",
              "      <td>66.497784</td>\n",
              "    </tr>\n",
              "    <tr>\n",
              "      <th>YEARS_BUILD_AVG</th>\n",
              "      <td>204488</td>\n",
              "      <td>66.497784</td>\n",
              "    </tr>\n",
              "    <tr>\n",
              "      <th>YEARS_BUILD_MODE</th>\n",
              "      <td>204488</td>\n",
              "      <td>66.497784</td>\n",
              "    </tr>\n",
              "    <tr>\n",
              "      <th>OWN_CAR_AGE</th>\n",
              "      <td>202929</td>\n",
              "      <td>65.990810</td>\n",
              "    </tr>\n",
              "    <tr>\n",
              "      <th>LANDAREA_AVG</th>\n",
              "      <td>182590</td>\n",
              "      <td>59.376738</td>\n",
              "    </tr>\n",
              "    <tr>\n",
              "      <th>LANDAREA_MODE</th>\n",
              "      <td>182590</td>\n",
              "      <td>59.376738</td>\n",
              "    </tr>\n",
              "    <tr>\n",
              "      <th>LANDAREA_MEDI</th>\n",
              "      <td>182590</td>\n",
              "      <td>59.376738</td>\n",
              "    </tr>\n",
              "  </tbody>\n",
              "</table>\n",
              "</div>\n",
              "      <button class=\"colab-df-convert\" onclick=\"convertToInteractive('df-b75b7490-bf6c-42be-8091-69e0c0f6d1f6')\"\n",
              "              title=\"Convert this dataframe to an interactive table.\"\n",
              "              style=\"display:none;\">\n",
              "        \n",
              "  <svg xmlns=\"http://www.w3.org/2000/svg\" height=\"24px\"viewBox=\"0 0 24 24\"\n",
              "       width=\"24px\">\n",
              "    <path d=\"M0 0h24v24H0V0z\" fill=\"none\"/>\n",
              "    <path d=\"M18.56 5.44l.94 2.06.94-2.06 2.06-.94-2.06-.94-.94-2.06-.94 2.06-2.06.94zm-11 1L8.5 8.5l.94-2.06 2.06-.94-2.06-.94L8.5 2.5l-.94 2.06-2.06.94zm10 10l.94 2.06.94-2.06 2.06-.94-2.06-.94-.94-2.06-.94 2.06-2.06.94z\"/><path d=\"M17.41 7.96l-1.37-1.37c-.4-.4-.92-.59-1.43-.59-.52 0-1.04.2-1.43.59L10.3 9.45l-7.72 7.72c-.78.78-.78 2.05 0 2.83L4 21.41c.39.39.9.59 1.41.59.51 0 1.02-.2 1.41-.59l7.78-7.78 2.81-2.81c.8-.78.8-2.07 0-2.86zM5.41 20L4 18.59l7.72-7.72 1.47 1.35L5.41 20z\"/>\n",
              "  </svg>\n",
              "      </button>\n",
              "      \n",
              "  <style>\n",
              "    .colab-df-container {\n",
              "      display:flex;\n",
              "      flex-wrap:wrap;\n",
              "      gap: 12px;\n",
              "    }\n",
              "\n",
              "    .colab-df-convert {\n",
              "      background-color: #E8F0FE;\n",
              "      border: none;\n",
              "      border-radius: 50%;\n",
              "      cursor: pointer;\n",
              "      display: none;\n",
              "      fill: #1967D2;\n",
              "      height: 32px;\n",
              "      padding: 0 0 0 0;\n",
              "      width: 32px;\n",
              "    }\n",
              "\n",
              "    .colab-df-convert:hover {\n",
              "      background-color: #E2EBFA;\n",
              "      box-shadow: 0px 1px 2px rgba(60, 64, 67, 0.3), 0px 1px 3px 1px rgba(60, 64, 67, 0.15);\n",
              "      fill: #174EA6;\n",
              "    }\n",
              "\n",
              "    [theme=dark] .colab-df-convert {\n",
              "      background-color: #3B4455;\n",
              "      fill: #D2E3FC;\n",
              "    }\n",
              "\n",
              "    [theme=dark] .colab-df-convert:hover {\n",
              "      background-color: #434B5C;\n",
              "      box-shadow: 0px 1px 3px 1px rgba(0, 0, 0, 0.15);\n",
              "      filter: drop-shadow(0px 1px 2px rgba(0, 0, 0, 0.3));\n",
              "      fill: #FFFFFF;\n",
              "    }\n",
              "  </style>\n",
              "\n",
              "      <script>\n",
              "        const buttonEl =\n",
              "          document.querySelector('#df-b75b7490-bf6c-42be-8091-69e0c0f6d1f6 button.colab-df-convert');\n",
              "        buttonEl.style.display =\n",
              "          google.colab.kernel.accessAllowed ? 'block' : 'none';\n",
              "\n",
              "        async function convertToInteractive(key) {\n",
              "          const element = document.querySelector('#df-b75b7490-bf6c-42be-8091-69e0c0f6d1f6');\n",
              "          const dataTable =\n",
              "            await google.colab.kernel.invokeFunction('convertToInteractive',\n",
              "                                                     [key], {});\n",
              "          if (!dataTable) return;\n",
              "\n",
              "          const docLinkHtml = 'Like what you see? Visit the ' +\n",
              "            '<a target=\"_blank\" href=https://colab.research.google.com/notebooks/data_table.ipynb>data table notebook</a>'\n",
              "            + ' to learn more about interactive tables.';\n",
              "          element.innerHTML = '';\n",
              "          dataTable['output_type'] = 'display_data';\n",
              "          await google.colab.output.renderOutput(dataTable, element);\n",
              "          const docLink = document.createElement('div');\n",
              "          docLink.innerHTML = docLinkHtml;\n",
              "          element.appendChild(docLink);\n",
              "        }\n",
              "      </script>\n",
              "    </div>\n",
              "  </div>\n",
              "  "
            ]
          },
          "metadata": {},
          "execution_count": 32
        }
      ]
    },
    {
      "cell_type": "markdown",
      "source": [
        "Karena banyaknya null value, sebaiknya dibiarkan saja agar proses untuk machine learningnya tidak mengalami kendala. Untuk kode di bawah ini tidak dijalankan karena akan menghilangkan null value > 60%."
      ],
      "metadata": {
        "id": "ZEaMU7K-5sZh"
      },
      "id": "ZEaMU7K-5sZh"
    },
    {
      "cell_type": "code",
      "source": [
        "#null_percent = (appl_train.isnull().sum() / len(appl_train)) * 100\n",
        "#percent = 60\n",
        "#columns_drop = null_percent[null_percent > percent].index\n",
        "\n",
        "#rint('Menghapus kolom dengan null values > 60%')\n",
        "#print(columns_drop.sort_values())\n",
        "\n",
        "#appl_train = appl_train.drop(columns_drop, axis = 1)\n",
        "\n",
        "#print('=' * 80)\n",
        "\n",
        "#print('Jumlah dtypes appl_train terbaru adalah')\n",
        "#print(appl_train.dtypes.value_counts())"
      ],
      "metadata": {
        "id": "4p3DIz8fSb1m"
      },
      "id": "4p3DIz8fSb1m",
      "execution_count": 33,
      "outputs": []
    },
    {
      "cell_type": "markdown",
      "source": [
        "Selanjutnya adalah membuat label encoder"
      ],
      "metadata": {
        "id": "bPFvPqYwIpgW"
      },
      "id": "bPFvPqYwIpgW"
    },
    {
      "cell_type": "markdown",
      "source": [
        "## Membuat label encoder"
      ],
      "metadata": {
        "id": "k5xfgXppH09F"
      },
      "id": "k5xfgXppH09F"
    },
    {
      "cell_type": "markdown",
      "source": [
        "Karena Machine Learning tidak bisa membaca selain numerikal, maka dibuatkan label encoder. Karena pada dataset appl_train mempunyai kategorikal, maka harus diubah menjadi numerikal dengan label encoder dan hasilnya ada 3 kolom kategorikal yang diubah menjadi numerikal."
      ],
      "metadata": {
        "id": "Gmi5G3iTP8Td"
      },
      "id": "Gmi5G3iTP8Td"
    },
    {
      "cell_type": "code",
      "source": [
        "label_encoder = LabelEncoder()\n",
        "label_count = 0\n",
        "\n",
        "for col in appl_train:\n",
        "    if appl_train[col].dtype == 'object':\n",
        "        if len(list(appl_train[col].unique())) <= 2:\n",
        "            label_encoder.fit(appl_train[col])\n",
        "            appl_train[col] = label_encoder.transform(appl_train[col])\n",
        "            appl_test[col] = label_encoder.transform(appl_test[col])\n",
        "            label_count += 1\n",
        "\n",
        "print('label encoder terdiri dari %d kolom.' % label_count)"
      ],
      "metadata": {
        "id": "ujLkcvo2Yqn2",
        "colab": {
          "base_uri": "https://localhost:8080/"
        },
        "outputId": "38e59d49-28db-4cb4-b615-1b62049d62cb"
      },
      "id": "ujLkcvo2Yqn2",
      "execution_count": 34,
      "outputs": [
        {
          "output_type": "stream",
          "name": "stdout",
          "text": [
            "label encoder terdiri dari 3 kolom.\n"
          ]
        }
      ]
    },
    {
      "cell_type": "markdown",
      "source": [
        "Namun karena tidak semua kolom kategorikal yang diubah menggunakan label encoder, maka langkah yang efektif untuk semua kolom diubah menjadi numerikal dengan menggunakan One Hot Encoder"
      ],
      "metadata": {
        "id": "kWbQ8ZpmNA8b"
      },
      "id": "kWbQ8ZpmNA8b"
    },
    {
      "cell_type": "markdown",
      "source": [
        "## One Hot Encoder"
      ],
      "metadata": {
        "id": "B6Gnhdq0Jobs"
      },
      "id": "B6Gnhdq0Jobs"
    },
    {
      "cell_type": "markdown",
      "source": [
        "Karena kedua dataset masih memiliki beberapa kategorikal, untuk mengubah semuanya dengan metode One Hot Encoder dan dengan cara menggunakan pandas get_dummies dan setelah diekstrak menjadi informasi baris dan kolom di atas. Metode ini digunakan untuk kedepannya menganalisa melalui machine learning."
      ],
      "metadata": {
        "id": "U9Fwlqx9sDom"
      },
      "id": "U9Fwlqx9sDom"
    },
    {
      "cell_type": "code",
      "source": [
        "appl_train_dummy = pd.get_dummies(appl_train)\n",
        "appl_test_dummy = pd.get_dummies(appl_test)\n",
        "\n",
        "print('appl_train setelah menggunakan encoder mempunyai baris = {}'.format(appl_train_dummy.shape[0]), 'dan kolom = {}'.format(appl_train_dummy.shape[1]))\n",
        "print('appl_test setelah menggunakan encoder mempunyai baris = {}'.format(appl_test_dummy.shape[0]), 'dan kolom = {}'.format(appl_test_dummy.shape[1]))"
      ],
      "metadata": {
        "colab": {
          "base_uri": "https://localhost:8080/"
        },
        "id": "KVRqhi5FJnfx",
        "outputId": "a4430b65-6cea-4fa3-f353-12d490b99b6e"
      },
      "id": "KVRqhi5FJnfx",
      "execution_count": 35,
      "outputs": [
        {
          "output_type": "stream",
          "name": "stdout",
          "text": [
            "appl_train setelah menggunakan encoder mempunyai baris = 307511 dan kolom = 244\n",
            "appl_test setelah menggunakan encoder mempunyai baris = 48744 dan kolom = 240\n"
          ]
        }
      ]
    },
    {
      "cell_type": "markdown",
      "source": [
        "## Membuat dataset appl_train dan appl_test identik sama"
      ],
      "metadata": {
        "id": "PLGUw2_w1sby"
      },
      "id": "PLGUw2_w1sby"
    },
    {
      "cell_type": "markdown",
      "source": [
        "appl_train dan appl_test nantinya akan diuji memprediksi regresi logistik menggunakan machine learning. Kedua dataset hampir identik satu sama lain, namun karena kolom pada appl_train lebih banyak 4 kolom, disini akan digabungkan kedua dataset dan setelah itu nantinya dipisah kembali. Khusus untuk appl_train mempunyai kolom TARGET. Berikut hasil yang didapat"
      ],
      "metadata": {
        "id": "MTp5lYkhNeNe"
      },
      "id": "MTp5lYkhNeNe"
    },
    {
      "cell_type": "code",
      "source": [
        "appl_train_dummy_label = appl_train_dummy['TARGET']\n",
        "appl_train_dummy, appl_test_dummy = appl_train_dummy.align(appl_test_dummy, join='inner', axis=1)\n",
        "\n",
        "appl_train_dummy['TARGET'] = appl_train_dummy_label\n",
        "print('appl_train setelah diidentifikasi kolom yang sama adalah dengan mempunyai baris = {}'.format(appl_train_dummy.shape[0]), 'dan kolom = {}'.format(appl_train_dummy.shape[1]))\n",
        "print('appl_test setelah diidentifikasi kolom yang sama adalah dengan mempunyai baris = {}'.format(appl_test_dummy.shape[0]), 'dan kolom = {}'.format(appl_test_dummy.shape[1]))"
      ],
      "metadata": {
        "colab": {
          "base_uri": "https://localhost:8080/"
        },
        "id": "CIxHdPe3WAlH",
        "outputId": "78fe5865-0731-4dd1-e3b2-0d2c5039ad66"
      },
      "id": "CIxHdPe3WAlH",
      "execution_count": 36,
      "outputs": [
        {
          "output_type": "stream",
          "name": "stdout",
          "text": [
            "appl_train setelah diidentifikasi kolom yang sama adalah dengan mempunyai baris = 307511 dan kolom = 241\n",
            "appl_test setelah diidentifikasi kolom yang sama adalah dengan mempunyai baris = 48744 dan kolom = 240\n"
          ]
        }
      ]
    },
    {
      "cell_type": "markdown",
      "source": [
        "Setelah mengidentifikasikan kedua datasetnya sama, selanjutnya adalah melakukan polynomial feature."
      ],
      "metadata": {
        "id": "AOFcXAUd26o0"
      },
      "id": "AOFcXAUd26o0"
    },
    {
      "cell_type": "markdown",
      "source": [
        "## Polynomial Feature"
      ],
      "metadata": {
        "id": "UIY9AkzdyMV7"
      },
      "id": "UIY9AkzdyMV7"
    },
    {
      "cell_type": "markdown",
      "source": [
        "Selanjutnya akan melakukan polynomial feature yang berfokus pada EXT_SOURCE dari appl_train dan appl_test. Disini menggunakan metode imputer untuk mengisi null value agar bisa dianalisis lebih dalam."
      ],
      "metadata": {
        "id": "xwjCL_SdI3uc"
      },
      "id": "xwjCL_SdI3uc"
    },
    {
      "cell_type": "code",
      "source": [
        "poly_feat = appl_train_dummy[['EXT_SOURCE_1', 'EXT_SOURCE_2', 'EXT_SOURCE_3', 'DAYS_BIRTH', 'TARGET']]\n",
        "poly_feat_test = appl_test_dummy[['EXT_SOURCE_1', 'EXT_SOURCE_2', 'EXT_SOURCE_3', 'DAYS_BIRTH']]\n",
        "imputer = SimpleImputer(strategy = 'median')\n",
        "\n",
        "poly_target = poly_feat['TARGET']\n",
        "poly_features = poly_feat.drop(columns=['TARGET'])\n",
        "poly_features = imputer.fit_transform(poly_features)\n",
        "poly_features_test = imputer.fit_transform(poly_feat_test)"
      ],
      "metadata": {
        "id": "CQiggnX7yL1F"
      },
      "id": "CQiggnX7yL1F",
      "execution_count": 37,
      "outputs": []
    },
    {
      "cell_type": "code",
      "source": [
        "poly_transformer = PolynomialFeatures(degree=3)\n",
        "poly_transformer.fit(poly_features)"
      ],
      "metadata": {
        "colab": {
          "base_uri": "https://localhost:8080/",
          "height": 0
        },
        "id": "Gfbw4C-oy2aM",
        "outputId": "8875db2a-1b7c-4cc8-eca6-3d91c41022db"
      },
      "id": "Gfbw4C-oy2aM",
      "execution_count": 38,
      "outputs": [
        {
          "output_type": "execute_result",
          "data": {
            "text/plain": [
              "PolynomialFeatures(degree=3)"
            ],
            "text/html": [
              "<style>#sk-container-id-1 {color: black;background-color: white;}#sk-container-id-1 pre{padding: 0;}#sk-container-id-1 div.sk-toggleable {background-color: white;}#sk-container-id-1 label.sk-toggleable__label {cursor: pointer;display: block;width: 100%;margin-bottom: 0;padding: 0.3em;box-sizing: border-box;text-align: center;}#sk-container-id-1 label.sk-toggleable__label-arrow:before {content: \"▸\";float: left;margin-right: 0.25em;color: #696969;}#sk-container-id-1 label.sk-toggleable__label-arrow:hover:before {color: black;}#sk-container-id-1 div.sk-estimator:hover label.sk-toggleable__label-arrow:before {color: black;}#sk-container-id-1 div.sk-toggleable__content {max-height: 0;max-width: 0;overflow: hidden;text-align: left;background-color: #f0f8ff;}#sk-container-id-1 div.sk-toggleable__content pre {margin: 0.2em;color: black;border-radius: 0.25em;background-color: #f0f8ff;}#sk-container-id-1 input.sk-toggleable__control:checked~div.sk-toggleable__content {max-height: 200px;max-width: 100%;overflow: auto;}#sk-container-id-1 input.sk-toggleable__control:checked~label.sk-toggleable__label-arrow:before {content: \"▾\";}#sk-container-id-1 div.sk-estimator input.sk-toggleable__control:checked~label.sk-toggleable__label {background-color: #d4ebff;}#sk-container-id-1 div.sk-label input.sk-toggleable__control:checked~label.sk-toggleable__label {background-color: #d4ebff;}#sk-container-id-1 input.sk-hidden--visually {border: 0;clip: rect(1px 1px 1px 1px);clip: rect(1px, 1px, 1px, 1px);height: 1px;margin: -1px;overflow: hidden;padding: 0;position: absolute;width: 1px;}#sk-container-id-1 div.sk-estimator {font-family: monospace;background-color: #f0f8ff;border: 1px dotted black;border-radius: 0.25em;box-sizing: border-box;margin-bottom: 0.5em;}#sk-container-id-1 div.sk-estimator:hover {background-color: #d4ebff;}#sk-container-id-1 div.sk-parallel-item::after {content: \"\";width: 100%;border-bottom: 1px solid gray;flex-grow: 1;}#sk-container-id-1 div.sk-label:hover label.sk-toggleable__label {background-color: #d4ebff;}#sk-container-id-1 div.sk-serial::before {content: \"\";position: absolute;border-left: 1px solid gray;box-sizing: border-box;top: 0;bottom: 0;left: 50%;z-index: 0;}#sk-container-id-1 div.sk-serial {display: flex;flex-direction: column;align-items: center;background-color: white;padding-right: 0.2em;padding-left: 0.2em;position: relative;}#sk-container-id-1 div.sk-item {position: relative;z-index: 1;}#sk-container-id-1 div.sk-parallel {display: flex;align-items: stretch;justify-content: center;background-color: white;position: relative;}#sk-container-id-1 div.sk-item::before, #sk-container-id-1 div.sk-parallel-item::before {content: \"\";position: absolute;border-left: 1px solid gray;box-sizing: border-box;top: 0;bottom: 0;left: 50%;z-index: -1;}#sk-container-id-1 div.sk-parallel-item {display: flex;flex-direction: column;z-index: 1;position: relative;background-color: white;}#sk-container-id-1 div.sk-parallel-item:first-child::after {align-self: flex-end;width: 50%;}#sk-container-id-1 div.sk-parallel-item:last-child::after {align-self: flex-start;width: 50%;}#sk-container-id-1 div.sk-parallel-item:only-child::after {width: 0;}#sk-container-id-1 div.sk-dashed-wrapped {border: 1px dashed gray;margin: 0 0.4em 0.5em 0.4em;box-sizing: border-box;padding-bottom: 0.4em;background-color: white;}#sk-container-id-1 div.sk-label label {font-family: monospace;font-weight: bold;display: inline-block;line-height: 1.2em;}#sk-container-id-1 div.sk-label-container {text-align: center;}#sk-container-id-1 div.sk-container {/* jupyter's `normalize.less` sets `[hidden] { display: none; }` but bootstrap.min.css set `[hidden] { display: none !important; }` so we also need the `!important` here to be able to override the default hidden behavior on the sphinx rendered scikit-learn.org. See: https://github.com/scikit-learn/scikit-learn/issues/21755 */display: inline-block !important;position: relative;}#sk-container-id-1 div.sk-text-repr-fallback {display: none;}</style><div id=\"sk-container-id-1\" class=\"sk-top-container\"><div class=\"sk-text-repr-fallback\"><pre>PolynomialFeatures(degree=3)</pre><b>In a Jupyter environment, please rerun this cell to show the HTML representation or trust the notebook. <br />On GitHub, the HTML representation is unable to render, please try loading this page with nbviewer.org.</b></div><div class=\"sk-container\" hidden><div class=\"sk-item\"><div class=\"sk-estimator sk-toggleable\"><input class=\"sk-toggleable__control sk-hidden--visually\" id=\"sk-estimator-id-1\" type=\"checkbox\" checked><label for=\"sk-estimator-id-1\" class=\"sk-toggleable__label sk-toggleable__label-arrow\">PolynomialFeatures</label><div class=\"sk-toggleable__content\"><pre>PolynomialFeatures(degree=3)</pre></div></div></div></div></div>"
            ]
          },
          "metadata": {},
          "execution_count": 38
        }
      ]
    },
    {
      "cell_type": "code",
      "source": [
        "poly_features = poly_transformer.transform(poly_features)\n",
        "poly_features_test = poly_transformer.transform(poly_features_test)\n",
        "print('Polynomial Feature memiliki baris', poly_features.shape[0], 'dan kolom', poly_features.shape[1])\n",
        "print('Polynomial Feature memiliki baris', poly_features_test.shape[0], 'dan kolom', poly_features_test.shape[1])"
      ],
      "metadata": {
        "colab": {
          "base_uri": "https://localhost:8080/"
        },
        "id": "z1i3mia60Tvh",
        "outputId": "3e897bda-592b-4216-f766-1c58eca36e1d"
      },
      "id": "z1i3mia60Tvh",
      "execution_count": 39,
      "outputs": [
        {
          "output_type": "stream",
          "name": "stdout",
          "text": [
            "Polynomial Feature memiliki baris 307511 dan kolom 35\n",
            "Polynomial Feature memiliki baris 48744 dan kolom 35\n"
          ]
        }
      ]
    },
    {
      "cell_type": "code",
      "source": [
        "poly_transformer.get_feature_names_out(input_features = ['EXT_SOURCE_1', 'EXT_SOURCE_2', 'EXT_SOURCE_3', 'DAYS_BIRTH'])"
      ],
      "metadata": {
        "colab": {
          "base_uri": "https://localhost:8080/"
        },
        "id": "gXZwWgjX1e_F",
        "outputId": "33f87df4-3149-4067-a587-6f99860ae39b"
      },
      "id": "gXZwWgjX1e_F",
      "execution_count": 40,
      "outputs": [
        {
          "output_type": "execute_result",
          "data": {
            "text/plain": [
              "array(['1', 'EXT_SOURCE_1', 'EXT_SOURCE_2', 'EXT_SOURCE_3', 'DAYS_BIRTH',\n",
              "       'EXT_SOURCE_1^2', 'EXT_SOURCE_1 EXT_SOURCE_2',\n",
              "       'EXT_SOURCE_1 EXT_SOURCE_3', 'EXT_SOURCE_1 DAYS_BIRTH',\n",
              "       'EXT_SOURCE_2^2', 'EXT_SOURCE_2 EXT_SOURCE_3',\n",
              "       'EXT_SOURCE_2 DAYS_BIRTH', 'EXT_SOURCE_3^2',\n",
              "       'EXT_SOURCE_3 DAYS_BIRTH', 'DAYS_BIRTH^2', 'EXT_SOURCE_1^3',\n",
              "       'EXT_SOURCE_1^2 EXT_SOURCE_2', 'EXT_SOURCE_1^2 EXT_SOURCE_3',\n",
              "       'EXT_SOURCE_1^2 DAYS_BIRTH', 'EXT_SOURCE_1 EXT_SOURCE_2^2',\n",
              "       'EXT_SOURCE_1 EXT_SOURCE_2 EXT_SOURCE_3',\n",
              "       'EXT_SOURCE_1 EXT_SOURCE_2 DAYS_BIRTH',\n",
              "       'EXT_SOURCE_1 EXT_SOURCE_3^2',\n",
              "       'EXT_SOURCE_1 EXT_SOURCE_3 DAYS_BIRTH',\n",
              "       'EXT_SOURCE_1 DAYS_BIRTH^2', 'EXT_SOURCE_2^3',\n",
              "       'EXT_SOURCE_2^2 EXT_SOURCE_3', 'EXT_SOURCE_2^2 DAYS_BIRTH',\n",
              "       'EXT_SOURCE_2 EXT_SOURCE_3^2',\n",
              "       'EXT_SOURCE_2 EXT_SOURCE_3 DAYS_BIRTH',\n",
              "       'EXT_SOURCE_2 DAYS_BIRTH^2', 'EXT_SOURCE_3^3',\n",
              "       'EXT_SOURCE_3^2 DAYS_BIRTH', 'EXT_SOURCE_3 DAYS_BIRTH^2',\n",
              "       'DAYS_BIRTH^3'], dtype=object)"
            ]
          },
          "metadata": {},
          "execution_count": 40
        }
      ]
    },
    {
      "cell_type": "code",
      "source": [
        "poly_features = pd.DataFrame(poly_features, columns = poly_transformer.get_feature_names_out(['EXT_SOURCE_1', 'EXT_SOURCE_2', 'EXT_SOURCE_3', 'DAYS_BIRTH']))\n",
        "poly_features['TARGET'] = poly_target\n",
        "poly_corr = poly_features.corr()['TARGET'].sort_values()"
      ],
      "metadata": {
        "id": "tzK8vKFO2XoN"
      },
      "id": "tzK8vKFO2XoN",
      "execution_count": 41,
      "outputs": []
    },
    {
      "cell_type": "code",
      "source": [
        "poly_corr.sort_values()"
      ],
      "metadata": {
        "colab": {
          "base_uri": "https://localhost:8080/"
        },
        "id": "NK3EnJiz3kpW",
        "outputId": "65226fca-bbaf-4a16-982c-64b90298952a"
      },
      "id": "NK3EnJiz3kpW",
      "execution_count": 42,
      "outputs": [
        {
          "output_type": "execute_result",
          "data": {
            "text/plain": [
              "EXT_SOURCE_2 EXT_SOURCE_3                -0.193939\n",
              "EXT_SOURCE_1 EXT_SOURCE_2 EXT_SOURCE_3   -0.189605\n",
              "EXT_SOURCE_2 EXT_SOURCE_3 DAYS_BIRTH     -0.181283\n",
              "EXT_SOURCE_2^2 EXT_SOURCE_3              -0.176428\n",
              "EXT_SOURCE_2 EXT_SOURCE_3^2              -0.172282\n",
              "EXT_SOURCE_1 EXT_SOURCE_2                -0.166625\n",
              "EXT_SOURCE_1 EXT_SOURCE_3                -0.164065\n",
              "EXT_SOURCE_2                             -0.160295\n",
              "EXT_SOURCE_2 DAYS_BIRTH                  -0.156873\n",
              "EXT_SOURCE_1 EXT_SOURCE_2^2              -0.156867\n",
              "EXT_SOURCE_3                             -0.155892\n",
              "EXT_SOURCE_1 EXT_SOURCE_2 DAYS_BIRTH     -0.155891\n",
              "EXT_SOURCE_1 EXT_SOURCE_3 DAYS_BIRTH     -0.151816\n",
              "EXT_SOURCE_1 EXT_SOURCE_3^2              -0.150822\n",
              "EXT_SOURCE_3 DAYS_BIRTH                  -0.150109\n",
              "EXT_SOURCE_2^2                           -0.149512\n",
              "EXT_SOURCE_2^2 DAYS_BIRTH                -0.149313\n",
              "EXT_SOURCE_3^2 DAYS_BIRTH                -0.141777\n",
              "EXT_SOURCE_3^2                           -0.141662\n",
              "EXT_SOURCE_2^3                           -0.140243\n",
              "EXT_SOURCE_1^2 EXT_SOURCE_2              -0.140185\n",
              "EXT_SOURCE_1^2 EXT_SOURCE_3              -0.138846\n",
              "EXT_SOURCE_2 DAYS_BIRTH^2                -0.132839\n",
              "EXT_SOURCE_3^3                           -0.128213\n",
              "EXT_SOURCE_3 DAYS_BIRTH^2                -0.126950\n",
              "EXT_SOURCE_1 DAYS_BIRTH                  -0.104882\n",
              "EXT_SOURCE_1                             -0.098887\n",
              "EXT_SOURCE_1^2 DAYS_BIRTH                -0.097507\n",
              "EXT_SOURCE_1 DAYS_BIRTH^2                -0.094913\n",
              "EXT_SOURCE_1^2                           -0.091034\n",
              "EXT_SOURCE_1^3                           -0.083005\n",
              "DAYS_BIRTH                               -0.078239\n",
              "DAYS_BIRTH^2                             -0.076672\n",
              "DAYS_BIRTH^3                             -0.074273\n",
              "TARGET                                    1.000000\n",
              "1                                              NaN\n",
              "Name: TARGET, dtype: float64"
            ]
          },
          "metadata": {},
          "execution_count": 42
        }
      ]
    },
    {
      "cell_type": "code",
      "source": [
        "poly_features_test = pd.DataFrame(poly_features_test, columns = poly_transformer.get_feature_names_out(['EXT_SOURCE_1', 'EXT_SOURCE_2', 'EXT_SOURCE_3', 'DAYS_BIRTH']))\n",
        "\n",
        "poly_features['SK_ID_CURR'] = appl_train_dummy['SK_ID_CURR']\n",
        "appl_train_poly = appl_train_dummy.merge(poly_features, on='SK_ID_CURR', how='left')\n",
        "\n",
        "poly_features_test['SK_ID_CURR'] = appl_test_dummy['SK_ID_CURR']\n",
        "appl_test_poly = appl_test_dummy.merge(poly_features_test, on='SK_ID_CURR', how='left')\n",
        "\n",
        "appl_train_poly, appl_test_poly = appl_train_poly.align(appl_test_poly, join='inner', axis=1)"
      ],
      "metadata": {
        "id": "oqauaYfC5B5J"
      },
      "id": "oqauaYfC5B5J",
      "execution_count": 43,
      "outputs": []
    },
    {
      "cell_type": "code",
      "source": [
        "print('appl_train_poly', appl_train_poly.shape)\n",
        "print('appl_test_poly', appl_test_poly.shape)"
      ],
      "metadata": {
        "colab": {
          "base_uri": "https://localhost:8080/"
        },
        "id": "TPmLU2_z9SKy",
        "outputId": "85191a8c-4028-4438-bd8d-8e681d7c9023"
      },
      "id": "TPmLU2_z9SKy",
      "execution_count": 44,
      "outputs": [
        {
          "output_type": "stream",
          "name": "stdout",
          "text": [
            "appl_train_poly (307511, 275)\n",
            "appl_test_poly (48744, 275)\n"
          ]
        }
      ]
    },
    {
      "cell_type": "markdown",
      "source": [
        "# **Machine Learning**"
      ],
      "metadata": {
        "id": "5zXuROsPMHeY"
      },
      "id": "5zXuROsPMHeY"
    },
    {
      "cell_type": "markdown",
      "source": [
        "Selanjutnya adalah tahap machine learning. Untuk menganalisis metode ini, hal yang pertama dilakukan adalah membuat pipeline, yaitu dataset yang telah diencode menggunakan label dan one hot encoder sehingga menjadi appl_train_dummy dan appl_test_dummy. Selanjutnya membuat pipeline dengan cara imputer untuk mengisi nilai null dengan median dan scaler untuk mengubah nilai rentang 0 dan 1 pada dataset.  "
      ],
      "metadata": {
        "id": "FuOG5GgEi4Ae"
      },
      "id": "FuOG5GgEi4Ae"
    },
    {
      "cell_type": "markdown",
      "source": [
        "## Pipeline"
      ],
      "metadata": {
        "id": "7ojMg4-jeYYU"
      },
      "id": "7ojMg4-jeYYU"
    },
    {
      "cell_type": "code",
      "source": [
        "train = appl_train_dummy.drop(columns=['TARGET'])\n",
        "target = appl_train_dummy['TARGET']\n",
        "\n",
        "#features = list(train.columns)\n",
        "\n",
        "test = appl_test_dummy.copy()\n",
        "imputer = SimpleImputer(strategy='median')\n",
        "scaler = MinMaxScaler(feature_range=(0,1))\n",
        "\n",
        "imputer.fit(train)\n",
        "train = imputer.transform(train)\n",
        "test = imputer.transform(test)\n",
        "\n",
        "scaler.fit(train)\n",
        "train = scaler.transform(train)\n",
        "test = scaler.transform(test)"
      ],
      "metadata": {
        "id": "7SwlEiKMMGta"
      },
      "id": "7SwlEiKMMGta",
      "execution_count": 45,
      "outputs": []
    },
    {
      "cell_type": "markdown",
      "source": [
        "Setelah dilakukan pipeline, selanjutnya adalah menghitung shape baris dan kolom pada train dan shape dan hasilnya adalah sebagai berikut."
      ],
      "metadata": {
        "id": "TWVLIZ2POewE"
      },
      "id": "TWVLIZ2POewE"
    },
    {
      "cell_type": "code",
      "source": [
        "print('Train memiliki', train.shape[0], 'baris dan', train.shape[1], 'kolom')\n",
        "print('Test memiliki', test.shape[0], 'baris dan', test.shape[1], 'kolom')"
      ],
      "metadata": {
        "colab": {
          "base_uri": "https://localhost:8080/"
        },
        "id": "WW9kJM0mR-wg",
        "outputId": "108b2746-ff0e-4d74-fc9e-b2728db2709b"
      },
      "id": "WW9kJM0mR-wg",
      "execution_count": 46,
      "outputs": [
        {
          "output_type": "stream",
          "name": "stdout",
          "text": [
            "Train memiliki 307511 baris dan 240 kolom\n",
            "Test memiliki 48744 baris dan 240 kolom\n"
          ]
        }
      ]
    },
    {
      "cell_type": "markdown",
      "source": [
        "## Logistic Regression"
      ],
      "metadata": {
        "id": "r5-F7UuGSG5p"
      },
      "id": "r5-F7UuGSG5p"
    },
    {
      "cell_type": "markdown",
      "source": [
        "Tahap pertama untuk memprediksi train dan test adalah menggunakan Logistic Regression dengan parameter C sebesar 0.0001. Setelah melakukan prediksi, hasil akhirnya adalah sebagai berikut."
      ],
      "metadata": {
        "id": "bWS0GXOwkwyH"
      },
      "id": "bWS0GXOwkwyH"
    },
    {
      "cell_type": "code",
      "source": [
        "log_reg = LogisticRegression(C=0.0001, random_state=123)\n",
        "log_reg.fit(train, appl_train_dummy_label)"
      ],
      "metadata": {
        "colab": {
          "base_uri": "https://localhost:8080/",
          "height": 75
        },
        "id": "HXH1uq-YRTDD",
        "outputId": "22b7e661-b650-414a-b727-0faae86b46c3"
      },
      "id": "HXH1uq-YRTDD",
      "execution_count": 47,
      "outputs": [
        {
          "output_type": "execute_result",
          "data": {
            "text/plain": [
              "LogisticRegression(C=0.0001, random_state=123)"
            ],
            "text/html": [
              "<style>#sk-container-id-2 {color: black;background-color: white;}#sk-container-id-2 pre{padding: 0;}#sk-container-id-2 div.sk-toggleable {background-color: white;}#sk-container-id-2 label.sk-toggleable__label {cursor: pointer;display: block;width: 100%;margin-bottom: 0;padding: 0.3em;box-sizing: border-box;text-align: center;}#sk-container-id-2 label.sk-toggleable__label-arrow:before {content: \"▸\";float: left;margin-right: 0.25em;color: #696969;}#sk-container-id-2 label.sk-toggleable__label-arrow:hover:before {color: black;}#sk-container-id-2 div.sk-estimator:hover label.sk-toggleable__label-arrow:before {color: black;}#sk-container-id-2 div.sk-toggleable__content {max-height: 0;max-width: 0;overflow: hidden;text-align: left;background-color: #f0f8ff;}#sk-container-id-2 div.sk-toggleable__content pre {margin: 0.2em;color: black;border-radius: 0.25em;background-color: #f0f8ff;}#sk-container-id-2 input.sk-toggleable__control:checked~div.sk-toggleable__content {max-height: 200px;max-width: 100%;overflow: auto;}#sk-container-id-2 input.sk-toggleable__control:checked~label.sk-toggleable__label-arrow:before {content: \"▾\";}#sk-container-id-2 div.sk-estimator input.sk-toggleable__control:checked~label.sk-toggleable__label {background-color: #d4ebff;}#sk-container-id-2 div.sk-label input.sk-toggleable__control:checked~label.sk-toggleable__label {background-color: #d4ebff;}#sk-container-id-2 input.sk-hidden--visually {border: 0;clip: rect(1px 1px 1px 1px);clip: rect(1px, 1px, 1px, 1px);height: 1px;margin: -1px;overflow: hidden;padding: 0;position: absolute;width: 1px;}#sk-container-id-2 div.sk-estimator {font-family: monospace;background-color: #f0f8ff;border: 1px dotted black;border-radius: 0.25em;box-sizing: border-box;margin-bottom: 0.5em;}#sk-container-id-2 div.sk-estimator:hover {background-color: #d4ebff;}#sk-container-id-2 div.sk-parallel-item::after {content: \"\";width: 100%;border-bottom: 1px solid gray;flex-grow: 1;}#sk-container-id-2 div.sk-label:hover label.sk-toggleable__label {background-color: #d4ebff;}#sk-container-id-2 div.sk-serial::before {content: \"\";position: absolute;border-left: 1px solid gray;box-sizing: border-box;top: 0;bottom: 0;left: 50%;z-index: 0;}#sk-container-id-2 div.sk-serial {display: flex;flex-direction: column;align-items: center;background-color: white;padding-right: 0.2em;padding-left: 0.2em;position: relative;}#sk-container-id-2 div.sk-item {position: relative;z-index: 1;}#sk-container-id-2 div.sk-parallel {display: flex;align-items: stretch;justify-content: center;background-color: white;position: relative;}#sk-container-id-2 div.sk-item::before, #sk-container-id-2 div.sk-parallel-item::before {content: \"\";position: absolute;border-left: 1px solid gray;box-sizing: border-box;top: 0;bottom: 0;left: 50%;z-index: -1;}#sk-container-id-2 div.sk-parallel-item {display: flex;flex-direction: column;z-index: 1;position: relative;background-color: white;}#sk-container-id-2 div.sk-parallel-item:first-child::after {align-self: flex-end;width: 50%;}#sk-container-id-2 div.sk-parallel-item:last-child::after {align-self: flex-start;width: 50%;}#sk-container-id-2 div.sk-parallel-item:only-child::after {width: 0;}#sk-container-id-2 div.sk-dashed-wrapped {border: 1px dashed gray;margin: 0 0.4em 0.5em 0.4em;box-sizing: border-box;padding-bottom: 0.4em;background-color: white;}#sk-container-id-2 div.sk-label label {font-family: monospace;font-weight: bold;display: inline-block;line-height: 1.2em;}#sk-container-id-2 div.sk-label-container {text-align: center;}#sk-container-id-2 div.sk-container {/* jupyter's `normalize.less` sets `[hidden] { display: none; }` but bootstrap.min.css set `[hidden] { display: none !important; }` so we also need the `!important` here to be able to override the default hidden behavior on the sphinx rendered scikit-learn.org. See: https://github.com/scikit-learn/scikit-learn/issues/21755 */display: inline-block !important;position: relative;}#sk-container-id-2 div.sk-text-repr-fallback {display: none;}</style><div id=\"sk-container-id-2\" class=\"sk-top-container\"><div class=\"sk-text-repr-fallback\"><pre>LogisticRegression(C=0.0001, random_state=123)</pre><b>In a Jupyter environment, please rerun this cell to show the HTML representation or trust the notebook. <br />On GitHub, the HTML representation is unable to render, please try loading this page with nbviewer.org.</b></div><div class=\"sk-container\" hidden><div class=\"sk-item\"><div class=\"sk-estimator sk-toggleable\"><input class=\"sk-toggleable__control sk-hidden--visually\" id=\"sk-estimator-id-2\" type=\"checkbox\" checked><label for=\"sk-estimator-id-2\" class=\"sk-toggleable__label sk-toggleable__label-arrow\">LogisticRegression</label><div class=\"sk-toggleable__content\"><pre>LogisticRegression(C=0.0001, random_state=123)</pre></div></div></div></div></div>"
            ]
          },
          "metadata": {},
          "execution_count": 47
        }
      ]
    },
    {
      "cell_type": "code",
      "source": [
        "predict = log_reg.predict_proba(test)[:, 1]"
      ],
      "metadata": {
        "id": "dLlwzJ7LTEg-"
      },
      "id": "dLlwzJ7LTEg-",
      "execution_count": 48,
      "outputs": []
    },
    {
      "cell_type": "code",
      "source": [
        "log_predict = appl_test[['SK_ID_CURR']]\n",
        "log_predict['TARGET'] = predict\n",
        "\n",
        "log_predict.head()"
      ],
      "metadata": {
        "colab": {
          "base_uri": "https://localhost:8080/",
          "height": 311
        },
        "id": "QorcrOSfUIw3",
        "outputId": "b7ce2194-60f5-4e22-97e8-9b17618ac77b"
      },
      "id": "QorcrOSfUIw3",
      "execution_count": 49,
      "outputs": [
        {
          "output_type": "stream",
          "name": "stderr",
          "text": [
            "<ipython-input-49-2fa4b5e53222>:2: SettingWithCopyWarning: \n",
            "A value is trying to be set on a copy of a slice from a DataFrame.\n",
            "Try using .loc[row_indexer,col_indexer] = value instead\n",
            "\n",
            "See the caveats in the documentation: https://pandas.pydata.org/pandas-docs/stable/user_guide/indexing.html#returning-a-view-versus-a-copy\n",
            "  log_predict['TARGET'] = predict\n"
          ]
        },
        {
          "output_type": "execute_result",
          "data": {
            "text/plain": [
              "   SK_ID_CURR    TARGET\n",
              "0      100001  0.065383\n",
              "1      100005  0.117354\n",
              "2      100013  0.067974\n",
              "3      100028  0.070889\n",
              "4      100038  0.117988"
            ],
            "text/html": [
              "\n",
              "  <div id=\"df-a1ddec8e-cd97-443a-9369-3eeff2e274e4\">\n",
              "    <div class=\"colab-df-container\">\n",
              "      <div>\n",
              "<style scoped>\n",
              "    .dataframe tbody tr th:only-of-type {\n",
              "        vertical-align: middle;\n",
              "    }\n",
              "\n",
              "    .dataframe tbody tr th {\n",
              "        vertical-align: top;\n",
              "    }\n",
              "\n",
              "    .dataframe thead th {\n",
              "        text-align: right;\n",
              "    }\n",
              "</style>\n",
              "<table border=\"1\" class=\"dataframe\">\n",
              "  <thead>\n",
              "    <tr style=\"text-align: right;\">\n",
              "      <th></th>\n",
              "      <th>SK_ID_CURR</th>\n",
              "      <th>TARGET</th>\n",
              "    </tr>\n",
              "  </thead>\n",
              "  <tbody>\n",
              "    <tr>\n",
              "      <th>0</th>\n",
              "      <td>100001</td>\n",
              "      <td>0.065383</td>\n",
              "    </tr>\n",
              "    <tr>\n",
              "      <th>1</th>\n",
              "      <td>100005</td>\n",
              "      <td>0.117354</td>\n",
              "    </tr>\n",
              "    <tr>\n",
              "      <th>2</th>\n",
              "      <td>100013</td>\n",
              "      <td>0.067974</td>\n",
              "    </tr>\n",
              "    <tr>\n",
              "      <th>3</th>\n",
              "      <td>100028</td>\n",
              "      <td>0.070889</td>\n",
              "    </tr>\n",
              "    <tr>\n",
              "      <th>4</th>\n",
              "      <td>100038</td>\n",
              "      <td>0.117988</td>\n",
              "    </tr>\n",
              "  </tbody>\n",
              "</table>\n",
              "</div>\n",
              "      <button class=\"colab-df-convert\" onclick=\"convertToInteractive('df-a1ddec8e-cd97-443a-9369-3eeff2e274e4')\"\n",
              "              title=\"Convert this dataframe to an interactive table.\"\n",
              "              style=\"display:none;\">\n",
              "        \n",
              "  <svg xmlns=\"http://www.w3.org/2000/svg\" height=\"24px\"viewBox=\"0 0 24 24\"\n",
              "       width=\"24px\">\n",
              "    <path d=\"M0 0h24v24H0V0z\" fill=\"none\"/>\n",
              "    <path d=\"M18.56 5.44l.94 2.06.94-2.06 2.06-.94-2.06-.94-.94-2.06-.94 2.06-2.06.94zm-11 1L8.5 8.5l.94-2.06 2.06-.94-2.06-.94L8.5 2.5l-.94 2.06-2.06.94zm10 10l.94 2.06.94-2.06 2.06-.94-2.06-.94-.94-2.06-.94 2.06-2.06.94z\"/><path d=\"M17.41 7.96l-1.37-1.37c-.4-.4-.92-.59-1.43-.59-.52 0-1.04.2-1.43.59L10.3 9.45l-7.72 7.72c-.78.78-.78 2.05 0 2.83L4 21.41c.39.39.9.59 1.41.59.51 0 1.02-.2 1.41-.59l7.78-7.78 2.81-2.81c.8-.78.8-2.07 0-2.86zM5.41 20L4 18.59l7.72-7.72 1.47 1.35L5.41 20z\"/>\n",
              "  </svg>\n",
              "      </button>\n",
              "      \n",
              "  <style>\n",
              "    .colab-df-container {\n",
              "      display:flex;\n",
              "      flex-wrap:wrap;\n",
              "      gap: 12px;\n",
              "    }\n",
              "\n",
              "    .colab-df-convert {\n",
              "      background-color: #E8F0FE;\n",
              "      border: none;\n",
              "      border-radius: 50%;\n",
              "      cursor: pointer;\n",
              "      display: none;\n",
              "      fill: #1967D2;\n",
              "      height: 32px;\n",
              "      padding: 0 0 0 0;\n",
              "      width: 32px;\n",
              "    }\n",
              "\n",
              "    .colab-df-convert:hover {\n",
              "      background-color: #E2EBFA;\n",
              "      box-shadow: 0px 1px 2px rgba(60, 64, 67, 0.3), 0px 1px 3px 1px rgba(60, 64, 67, 0.15);\n",
              "      fill: #174EA6;\n",
              "    }\n",
              "\n",
              "    [theme=dark] .colab-df-convert {\n",
              "      background-color: #3B4455;\n",
              "      fill: #D2E3FC;\n",
              "    }\n",
              "\n",
              "    [theme=dark] .colab-df-convert:hover {\n",
              "      background-color: #434B5C;\n",
              "      box-shadow: 0px 1px 3px 1px rgba(0, 0, 0, 0.15);\n",
              "      filter: drop-shadow(0px 1px 2px rgba(0, 0, 0, 0.3));\n",
              "      fill: #FFFFFF;\n",
              "    }\n",
              "  </style>\n",
              "\n",
              "      <script>\n",
              "        const buttonEl =\n",
              "          document.querySelector('#df-a1ddec8e-cd97-443a-9369-3eeff2e274e4 button.colab-df-convert');\n",
              "        buttonEl.style.display =\n",
              "          google.colab.kernel.accessAllowed ? 'block' : 'none';\n",
              "\n",
              "        async function convertToInteractive(key) {\n",
              "          const element = document.querySelector('#df-a1ddec8e-cd97-443a-9369-3eeff2e274e4');\n",
              "          const dataTable =\n",
              "            await google.colab.kernel.invokeFunction('convertToInteractive',\n",
              "                                                     [key], {});\n",
              "          if (!dataTable) return;\n",
              "\n",
              "          const docLinkHtml = 'Like what you see? Visit the ' +\n",
              "            '<a target=\"_blank\" href=https://colab.research.google.com/notebooks/data_table.ipynb>data table notebook</a>'\n",
              "            + ' to learn more about interactive tables.';\n",
              "          element.innerHTML = '';\n",
              "          dataTable['output_type'] = 'display_data';\n",
              "          await google.colab.output.renderOutput(dataTable, element);\n",
              "          const docLink = document.createElement('div');\n",
              "          docLink.innerHTML = docLinkHtml;\n",
              "          element.appendChild(docLink);\n",
              "        }\n",
              "      </script>\n",
              "    </div>\n",
              "  </div>\n",
              "  "
            ]
          },
          "metadata": {},
          "execution_count": 49
        }
      ]
    },
    {
      "cell_type": "code",
      "source": [
        "log_predict['TARGET'].mean()"
      ],
      "metadata": {
        "colab": {
          "base_uri": "https://localhost:8080/"
        },
        "id": "5IQ-5pqertFQ",
        "outputId": "811b83ed-663f-4530-9bfb-3a7b621b3760"
      },
      "id": "5IQ-5pqertFQ",
      "execution_count": 50,
      "outputs": [
        {
          "output_type": "execute_result",
          "data": {
            "text/plain": [
              "0.08053536569584223"
            ]
          },
          "metadata": {},
          "execution_count": 50
        }
      ]
    },
    {
      "cell_type": "code",
      "source": [
        "log_predict.to_csv('logistic_regression_predict.csv', index=False)"
      ],
      "metadata": {
        "id": "yoFr0XsyEajQ"
      },
      "id": "yoFr0XsyEajQ",
      "execution_count": 51,
      "outputs": []
    },
    {
      "cell_type": "markdown",
      "source": [
        "## Random Forest"
      ],
      "metadata": {
        "id": "Wx9QnnCu-ifN"
      },
      "id": "Wx9QnnCu-ifN"
    },
    {
      "cell_type": "markdown",
      "source": [
        "Selanjutnya adalah melakukan prediksi menggunakan Random Forest dengan ketentuan parameter n_estimators default 100 dan random_state 123. Setelah melakukan prediksi, hasilnya adalah sebagai berikut."
      ],
      "metadata": {
        "id": "9O-1_PQ8laiH"
      },
      "id": "9O-1_PQ8laiH"
    },
    {
      "cell_type": "code",
      "source": [
        "random_forest = RandomForestClassifier(n_estimators=100, random_state=123)\n",
        "random_forest.fit(train, appl_train_dummy_label)"
      ],
      "metadata": {
        "colab": {
          "base_uri": "https://localhost:8080/",
          "height": 75
        },
        "id": "k9ZIBRvw-jc-",
        "outputId": "3f3603ca-666a-4693-90a6-27dd2e5bdffb"
      },
      "id": "k9ZIBRvw-jc-",
      "execution_count": 52,
      "outputs": [
        {
          "output_type": "execute_result",
          "data": {
            "text/plain": [
              "RandomForestClassifier(random_state=123)"
            ],
            "text/html": [
              "<style>#sk-container-id-3 {color: black;background-color: white;}#sk-container-id-3 pre{padding: 0;}#sk-container-id-3 div.sk-toggleable {background-color: white;}#sk-container-id-3 label.sk-toggleable__label {cursor: pointer;display: block;width: 100%;margin-bottom: 0;padding: 0.3em;box-sizing: border-box;text-align: center;}#sk-container-id-3 label.sk-toggleable__label-arrow:before {content: \"▸\";float: left;margin-right: 0.25em;color: #696969;}#sk-container-id-3 label.sk-toggleable__label-arrow:hover:before {color: black;}#sk-container-id-3 div.sk-estimator:hover label.sk-toggleable__label-arrow:before {color: black;}#sk-container-id-3 div.sk-toggleable__content {max-height: 0;max-width: 0;overflow: hidden;text-align: left;background-color: #f0f8ff;}#sk-container-id-3 div.sk-toggleable__content pre {margin: 0.2em;color: black;border-radius: 0.25em;background-color: #f0f8ff;}#sk-container-id-3 input.sk-toggleable__control:checked~div.sk-toggleable__content {max-height: 200px;max-width: 100%;overflow: auto;}#sk-container-id-3 input.sk-toggleable__control:checked~label.sk-toggleable__label-arrow:before {content: \"▾\";}#sk-container-id-3 div.sk-estimator input.sk-toggleable__control:checked~label.sk-toggleable__label {background-color: #d4ebff;}#sk-container-id-3 div.sk-label input.sk-toggleable__control:checked~label.sk-toggleable__label {background-color: #d4ebff;}#sk-container-id-3 input.sk-hidden--visually {border: 0;clip: rect(1px 1px 1px 1px);clip: rect(1px, 1px, 1px, 1px);height: 1px;margin: -1px;overflow: hidden;padding: 0;position: absolute;width: 1px;}#sk-container-id-3 div.sk-estimator {font-family: monospace;background-color: #f0f8ff;border: 1px dotted black;border-radius: 0.25em;box-sizing: border-box;margin-bottom: 0.5em;}#sk-container-id-3 div.sk-estimator:hover {background-color: #d4ebff;}#sk-container-id-3 div.sk-parallel-item::after {content: \"\";width: 100%;border-bottom: 1px solid gray;flex-grow: 1;}#sk-container-id-3 div.sk-label:hover label.sk-toggleable__label {background-color: #d4ebff;}#sk-container-id-3 div.sk-serial::before {content: \"\";position: absolute;border-left: 1px solid gray;box-sizing: border-box;top: 0;bottom: 0;left: 50%;z-index: 0;}#sk-container-id-3 div.sk-serial {display: flex;flex-direction: column;align-items: center;background-color: white;padding-right: 0.2em;padding-left: 0.2em;position: relative;}#sk-container-id-3 div.sk-item {position: relative;z-index: 1;}#sk-container-id-3 div.sk-parallel {display: flex;align-items: stretch;justify-content: center;background-color: white;position: relative;}#sk-container-id-3 div.sk-item::before, #sk-container-id-3 div.sk-parallel-item::before {content: \"\";position: absolute;border-left: 1px solid gray;box-sizing: border-box;top: 0;bottom: 0;left: 50%;z-index: -1;}#sk-container-id-3 div.sk-parallel-item {display: flex;flex-direction: column;z-index: 1;position: relative;background-color: white;}#sk-container-id-3 div.sk-parallel-item:first-child::after {align-self: flex-end;width: 50%;}#sk-container-id-3 div.sk-parallel-item:last-child::after {align-self: flex-start;width: 50%;}#sk-container-id-3 div.sk-parallel-item:only-child::after {width: 0;}#sk-container-id-3 div.sk-dashed-wrapped {border: 1px dashed gray;margin: 0 0.4em 0.5em 0.4em;box-sizing: border-box;padding-bottom: 0.4em;background-color: white;}#sk-container-id-3 div.sk-label label {font-family: monospace;font-weight: bold;display: inline-block;line-height: 1.2em;}#sk-container-id-3 div.sk-label-container {text-align: center;}#sk-container-id-3 div.sk-container {/* jupyter's `normalize.less` sets `[hidden] { display: none; }` but bootstrap.min.css set `[hidden] { display: none !important; }` so we also need the `!important` here to be able to override the default hidden behavior on the sphinx rendered scikit-learn.org. See: https://github.com/scikit-learn/scikit-learn/issues/21755 */display: inline-block !important;position: relative;}#sk-container-id-3 div.sk-text-repr-fallback {display: none;}</style><div id=\"sk-container-id-3\" class=\"sk-top-container\"><div class=\"sk-text-repr-fallback\"><pre>RandomForestClassifier(random_state=123)</pre><b>In a Jupyter environment, please rerun this cell to show the HTML representation or trust the notebook. <br />On GitHub, the HTML representation is unable to render, please try loading this page with nbviewer.org.</b></div><div class=\"sk-container\" hidden><div class=\"sk-item\"><div class=\"sk-estimator sk-toggleable\"><input class=\"sk-toggleable__control sk-hidden--visually\" id=\"sk-estimator-id-3\" type=\"checkbox\" checked><label for=\"sk-estimator-id-3\" class=\"sk-toggleable__label sk-toggleable__label-arrow\">RandomForestClassifier</label><div class=\"sk-toggleable__content\"><pre>RandomForestClassifier(random_state=123)</pre></div></div></div></div></div>"
            ]
          },
          "metadata": {},
          "execution_count": 52
        }
      ]
    },
    {
      "cell_type": "code",
      "source": [
        "predict = random_forest.predict_proba(test)[:,1]"
      ],
      "metadata": {
        "id": "vO7cB4tvau48"
      },
      "id": "vO7cB4tvau48",
      "execution_count": 53,
      "outputs": []
    },
    {
      "cell_type": "code",
      "source": [
        "forest_predict = appl_test[['SK_ID_CURR']]\n",
        "forest_predict['TARGET'] = predict\n",
        "\n",
        "forest_predict.head()"
      ],
      "metadata": {
        "colab": {
          "base_uri": "https://localhost:8080/",
          "height": 311
        },
        "id": "LP2OAWOKVm1G",
        "outputId": "be85de39-351d-48b0-8517-d5b13bea27dd"
      },
      "id": "LP2OAWOKVm1G",
      "execution_count": 54,
      "outputs": [
        {
          "output_type": "stream",
          "name": "stderr",
          "text": [
            "<ipython-input-54-d0cc2a1bfd7b>:2: SettingWithCopyWarning: \n",
            "A value is trying to be set on a copy of a slice from a DataFrame.\n",
            "Try using .loc[row_indexer,col_indexer] = value instead\n",
            "\n",
            "See the caveats in the documentation: https://pandas.pydata.org/pandas-docs/stable/user_guide/indexing.html#returning-a-view-versus-a-copy\n",
            "  forest_predict['TARGET'] = predict\n"
          ]
        },
        {
          "output_type": "execute_result",
          "data": {
            "text/plain": [
              "   SK_ID_CURR  TARGET\n",
              "0      100001    0.09\n",
              "1      100005    0.12\n",
              "2      100013    0.03\n",
              "3      100028    0.11\n",
              "4      100038    0.16"
            ],
            "text/html": [
              "\n",
              "  <div id=\"df-4bd80d8a-0c9e-4e78-9ca5-612ff8a2d00a\">\n",
              "    <div class=\"colab-df-container\">\n",
              "      <div>\n",
              "<style scoped>\n",
              "    .dataframe tbody tr th:only-of-type {\n",
              "        vertical-align: middle;\n",
              "    }\n",
              "\n",
              "    .dataframe tbody tr th {\n",
              "        vertical-align: top;\n",
              "    }\n",
              "\n",
              "    .dataframe thead th {\n",
              "        text-align: right;\n",
              "    }\n",
              "</style>\n",
              "<table border=\"1\" class=\"dataframe\">\n",
              "  <thead>\n",
              "    <tr style=\"text-align: right;\">\n",
              "      <th></th>\n",
              "      <th>SK_ID_CURR</th>\n",
              "      <th>TARGET</th>\n",
              "    </tr>\n",
              "  </thead>\n",
              "  <tbody>\n",
              "    <tr>\n",
              "      <th>0</th>\n",
              "      <td>100001</td>\n",
              "      <td>0.09</td>\n",
              "    </tr>\n",
              "    <tr>\n",
              "      <th>1</th>\n",
              "      <td>100005</td>\n",
              "      <td>0.12</td>\n",
              "    </tr>\n",
              "    <tr>\n",
              "      <th>2</th>\n",
              "      <td>100013</td>\n",
              "      <td>0.03</td>\n",
              "    </tr>\n",
              "    <tr>\n",
              "      <th>3</th>\n",
              "      <td>100028</td>\n",
              "      <td>0.11</td>\n",
              "    </tr>\n",
              "    <tr>\n",
              "      <th>4</th>\n",
              "      <td>100038</td>\n",
              "      <td>0.16</td>\n",
              "    </tr>\n",
              "  </tbody>\n",
              "</table>\n",
              "</div>\n",
              "      <button class=\"colab-df-convert\" onclick=\"convertToInteractive('df-4bd80d8a-0c9e-4e78-9ca5-612ff8a2d00a')\"\n",
              "              title=\"Convert this dataframe to an interactive table.\"\n",
              "              style=\"display:none;\">\n",
              "        \n",
              "  <svg xmlns=\"http://www.w3.org/2000/svg\" height=\"24px\"viewBox=\"0 0 24 24\"\n",
              "       width=\"24px\">\n",
              "    <path d=\"M0 0h24v24H0V0z\" fill=\"none\"/>\n",
              "    <path d=\"M18.56 5.44l.94 2.06.94-2.06 2.06-.94-2.06-.94-.94-2.06-.94 2.06-2.06.94zm-11 1L8.5 8.5l.94-2.06 2.06-.94-2.06-.94L8.5 2.5l-.94 2.06-2.06.94zm10 10l.94 2.06.94-2.06 2.06-.94-2.06-.94-.94-2.06-.94 2.06-2.06.94z\"/><path d=\"M17.41 7.96l-1.37-1.37c-.4-.4-.92-.59-1.43-.59-.52 0-1.04.2-1.43.59L10.3 9.45l-7.72 7.72c-.78.78-.78 2.05 0 2.83L4 21.41c.39.39.9.59 1.41.59.51 0 1.02-.2 1.41-.59l7.78-7.78 2.81-2.81c.8-.78.8-2.07 0-2.86zM5.41 20L4 18.59l7.72-7.72 1.47 1.35L5.41 20z\"/>\n",
              "  </svg>\n",
              "      </button>\n",
              "      \n",
              "  <style>\n",
              "    .colab-df-container {\n",
              "      display:flex;\n",
              "      flex-wrap:wrap;\n",
              "      gap: 12px;\n",
              "    }\n",
              "\n",
              "    .colab-df-convert {\n",
              "      background-color: #E8F0FE;\n",
              "      border: none;\n",
              "      border-radius: 50%;\n",
              "      cursor: pointer;\n",
              "      display: none;\n",
              "      fill: #1967D2;\n",
              "      height: 32px;\n",
              "      padding: 0 0 0 0;\n",
              "      width: 32px;\n",
              "    }\n",
              "\n",
              "    .colab-df-convert:hover {\n",
              "      background-color: #E2EBFA;\n",
              "      box-shadow: 0px 1px 2px rgba(60, 64, 67, 0.3), 0px 1px 3px 1px rgba(60, 64, 67, 0.15);\n",
              "      fill: #174EA6;\n",
              "    }\n",
              "\n",
              "    [theme=dark] .colab-df-convert {\n",
              "      background-color: #3B4455;\n",
              "      fill: #D2E3FC;\n",
              "    }\n",
              "\n",
              "    [theme=dark] .colab-df-convert:hover {\n",
              "      background-color: #434B5C;\n",
              "      box-shadow: 0px 1px 3px 1px rgba(0, 0, 0, 0.15);\n",
              "      filter: drop-shadow(0px 1px 2px rgba(0, 0, 0, 0.3));\n",
              "      fill: #FFFFFF;\n",
              "    }\n",
              "  </style>\n",
              "\n",
              "      <script>\n",
              "        const buttonEl =\n",
              "          document.querySelector('#df-4bd80d8a-0c9e-4e78-9ca5-612ff8a2d00a button.colab-df-convert');\n",
              "        buttonEl.style.display =\n",
              "          google.colab.kernel.accessAllowed ? 'block' : 'none';\n",
              "\n",
              "        async function convertToInteractive(key) {\n",
              "          const element = document.querySelector('#df-4bd80d8a-0c9e-4e78-9ca5-612ff8a2d00a');\n",
              "          const dataTable =\n",
              "            await google.colab.kernel.invokeFunction('convertToInteractive',\n",
              "                                                     [key], {});\n",
              "          if (!dataTable) return;\n",
              "\n",
              "          const docLinkHtml = 'Like what you see? Visit the ' +\n",
              "            '<a target=\"_blank\" href=https://colab.research.google.com/notebooks/data_table.ipynb>data table notebook</a>'\n",
              "            + ' to learn more about interactive tables.';\n",
              "          element.innerHTML = '';\n",
              "          dataTable['output_type'] = 'display_data';\n",
              "          await google.colab.output.renderOutput(dataTable, element);\n",
              "          const docLink = document.createElement('div');\n",
              "          docLink.innerHTML = docLinkHtml;\n",
              "          element.appendChild(docLink);\n",
              "        }\n",
              "      </script>\n",
              "    </div>\n",
              "  </div>\n",
              "  "
            ]
          },
          "metadata": {},
          "execution_count": 54
        }
      ]
    },
    {
      "cell_type": "code",
      "source": [
        "forest_predict['TARGET'].mean()"
      ],
      "metadata": {
        "colab": {
          "base_uri": "https://localhost:8080/"
        },
        "id": "wLgRIZu_r10y",
        "outputId": "a1b6d035-0116-4c19-e569-6d1458698dc9"
      },
      "id": "wLgRIZu_r10y",
      "execution_count": 55,
      "outputs": [
        {
          "output_type": "execute_result",
          "data": {
            "text/plain": [
              "0.08971422123748565"
            ]
          },
          "metadata": {},
          "execution_count": 55
        }
      ]
    },
    {
      "cell_type": "code",
      "source": [
        "forest_predict.to_csv('random_forest_predict.csv', index=False)"
      ],
      "metadata": {
        "id": "u_ZD7smbdftp"
      },
      "id": "u_ZD7smbdftp",
      "execution_count": 56,
      "outputs": []
    }
  ],
  "metadata": {
    "kernelspec": {
      "display_name": "Python 3 (ipykernel)",
      "language": "python",
      "name": "python3"
    },
    "language_info": {
      "codemirror_mode": {
        "name": "ipython",
        "version": 3
      },
      "file_extension": ".py",
      "mimetype": "text/x-python",
      "name": "python",
      "nbconvert_exporter": "python",
      "pygments_lexer": "ipython3",
      "version": "3.10.9"
    },
    "colab": {
      "provenance": [],
      "collapsed_sections": [
        "sfnQjvQg9ScE",
        "O3boCXGf1-Vk",
        "GyzEhrJ814c5",
        "LRInotAm8JYu",
        "3DryucCqIPck",
        "JjNccGOr-Op2",
        "1fmYKyRr8MxP",
        "-qwzZmc5ErHo",
        "pRmol51XHuEN",
        "7MyMFFj8Dhp8",
        "TcSiG8WnzORa",
        "rjdvMnMNRlF9",
        "QCj9DHyggrkk",
        "7kn0dr8D1IPJ",
        "WcxtuRmebZ70",
        "k5xfgXppH09F",
        "B6Gnhdq0Jobs",
        "PLGUw2_w1sby",
        "UIY9AkzdyMV7",
        "7ojMg4-jeYYU",
        "r5-F7UuGSG5p"
      ]
    }
  },
  "nbformat": 4,
  "nbformat_minor": 5
}